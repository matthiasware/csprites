{
 "cells": [
  {
   "cell_type": "markdown",
   "id": "7aef4602",
   "metadata": {},
   "source": [
    "# CSprites Dataset Generator\n"
   ]
  },
  {
   "cell_type": "code",
   "execution_count": null,
   "id": "b1e82563",
   "metadata": {},
   "outputs": [],
   "source": [
    "%load_ext autoreload\n",
    "%autoreload 2"
   ]
  },
  {
   "cell_type": "code",
   "execution_count": null,
   "id": "3d6a2038",
   "metadata": {},
   "outputs": [],
   "source": [
    "# Python\n",
    "import timeit\n",
    "from datetime import datetime\n",
    "import pickle as pkl\n",
    "from pathlib import Path\n",
    "\n",
    "# Installed\n",
    "from PIL import Image\n",
    "from tqdm import tqdm\n",
    "import pprint\n",
    "import matplotlib.pyplot as plt\n",
    "import numpy as np\n",
    "\n",
    "# Local\n",
    "from csprites.configs import be_config\n",
    "from csprites.masks import get_shapes\n",
    "from csprites.colors import get_colors, apply_color\n",
    "from csprites.scales import get_shape_sizes_evenly_scaled\n",
    "from csprites.angles import get_angles, apply_angle\n",
    "from csprites.positions import get_max_positions, centered_position_idcs, get_position_idcs_from_center\n",
    "from csprites.backgrounds import get_bg_func\n",
    "from csprites.utils import MeanStdTracker, shape_sizes_to_html, masks_to_html_animation\n"
   ]
  },
  {
   "cell_type": "markdown",
   "id": "e60b3f62",
   "metadata": {},
   "source": [
    "# Configs"
   ]
  },
  {
   "cell_type": "code",
   "execution_count": null,
   "id": "e2e6b726",
   "metadata": {},
   "outputs": [],
   "source": [
    "#be_config[\"p_base\"] = Path(\"/mnt/data/csprites-models\")\n",
    "pprint.pprint(be_config)"
   ]
  },
  {
   "cell_type": "markdown",
   "id": "13b5e221",
   "metadata": {},
   "source": [
    "## Load Config"
   ]
  },
  {
   "cell_type": "code",
   "execution_count": null,
   "id": "537f930f",
   "metadata": {},
   "outputs": [],
   "source": [
    "p_data = Path(\"data\")\n",
    "p_ds_config = p_data / \"config.pkl\"\n",
    "with open(p_ds_config, \"rb\") as file:\n",
    "    config = pkl.load(file)\n",
    "pprint.pprint(config)"
   ]
  },
  {
   "cell_type": "markdown",
   "id": "a1ee7374",
   "metadata": {},
   "source": [
    "## Validity checks"
   ]
  },
  {
   "cell_type": "code",
   "execution_count": null,
   "id": "2c266c7c",
   "metadata": {},
   "outputs": [],
   "source": [
    "# for webserver usage, we have to do several checks before:\n",
    "#    - existency checks\n",
    "#    - type checks\n",
    "\n",
    "img_size = config[\"img_size\"]\n",
    "assert img_size in be_config.img_sizes\n",
    "\n",
    "# shapes\n",
    "shape_names = config['shapes']\n",
    "for name in shape_names:\n",
    "    assert name in be_config.all_shape_names\n",
    "n_shapes = len(shape_names)\n",
    "\n",
    "# colors \n",
    "n_colors = config['n_colors']\n",
    "assert be_config.n_colors_min <= n_colors\n",
    "assert n_colors <= be_config.n_colors_max\n",
    "\n",
    "# angles\n",
    "n_angles = config['n_angles']\n",
    "assert be_config.n_angles_min <= n_angles\n",
    "assert n_angles <= be_config.n_angles_max\n",
    "\n",
    "# backgrounds\n",
    "n_bg = config['n_bg']\n",
    "if n_bg != np.inf:\n",
    "    assert be_config.n_bgs_min <= n_bg\n",
    "    assert n_bg <= be_config.n_bgs_max\n",
    "\n",
    "bg_style = config[\"bg_style\"]\n",
    "assert bg_style in be_config.bg_styles\n",
    "\n",
    "target_bbox = config[\"target_bbox\"]\n",
    "target_segm = config[\"target_segm\"]\n",
    "\n",
    "# scales\n",
    "n_scales = config[\"n_scales\"]\n",
    "assert be_config.n_scales_min <= n_scales\n",
    "assert n_scales <= be_config.n_scales_max\n",
    "\n",
    "# positions\n",
    "n_positions = config[\"n_positions\"]\n",
    "assert be_config.n_positions_min <= n_positions\n",
    "assert n_positions <= be_config.n_positions_max\n",
    "\n",
    "# fill rates\n",
    "min_mask_fill_rate = config[\"min_mask_fill_rate\"]\n",
    "assert 0 < min_mask_fill_rate < 1\n",
    "\n",
    "max_mask_fill_rate = config[\"max_mask_fill_rate\"]           \n",
    "assert min_mask_fill_rate <= max_mask_fill_rate\n",
    "assert max_mask_fill_rate < 1"
   ]
  },
  {
   "cell_type": "code",
   "execution_count": null,
   "id": "10eff681",
   "metadata": {},
   "outputs": [],
   "source": [
    "# further checks\n",
    "shapes = get_shapes(shape_names)\n",
    "#\n",
    "# shape_sizes\n",
    "min_mask_area = img_size** 2 * min_mask_fill_rate\n",
    "max_mask_area = img_size** 2 * max_mask_fill_rate\n",
    "#\n",
    "# Notes: If limited to 0.1 steps or so, we could precalculate the max_mask_size and subsequently max positions ect\n",
    "shape_sizes, max_mask_size = get_shape_sizes_evenly_scaled(shapes, min_mask_area, max_mask_area)\n",
    "\n",
    "# n_scales_max\n",
    "n_scales_max = len(list(shape_sizes.values())[0])\n",
    "\n",
    "# n_positions_max\n",
    "n_positions_max = get_max_positions(img_size, max_mask_size)\n",
    "#\n",
    "assert n_scales <= n_scales_max\n",
    "assert n_positions <= n_positions_max"
   ]
  },
  {
   "cell_type": "code",
   "execution_count": null,
   "id": "04e7fa4c",
   "metadata": {},
   "outputs": [],
   "source": [
    "# subset\n",
    "generate_subset = config[\"subset\"]\n",
    "n_train = config[\"n_train\"]\n",
    "n_valid = config[\"n_valid\"]\n",
    "n_samples = n_train + n_valid\n",
    "\n",
    "assert be_config.n_samples_min <= n_samples\n",
    "assert n_samples < be_config.n_samples_max\n",
    "train_rate = n_train / n_samples\n",
    "\n",
    "n_masks = n_shapes * n_colors * n_angles * n_scales\n",
    "n_states = n_masks * n_positions**2\n",
    "assert n_states >= n_samples\n",
    "\n",
    "sampling_rate = n_samples / n_states\n",
    "mem_usage_bytes = img_size**2 * 3 * n_samples\n",
    "assert mem_usage_bytes * 1e-9 <= be_config.mem_usage_gb_max"
   ]
  },
  {
   "cell_type": "code",
   "execution_count": null,
   "id": "17359782",
   "metadata": {},
   "outputs": [],
   "source": [
    "print(\"*\"*40)\n",
    "print(\"{:^40}\".format(\"Dataset Stats\"))\n",
    "print(\"*\"*40)\n",
    "print(\"#Masks:        {:>10}\".format(n_masks))\n",
    "print(\"#States:       {:>10}\".format(n_states))\n",
    "print(\"#Samples:      {:>10}\".format(n_samples))\n",
    "print(\"#Train:        {:>10}\".format(n_train))\n",
    "print(\"#Valid:        {:>10}\".format(n_valid))\n",
    "print(\"*\"*40)\n",
    "print(\"Train rate:     {:.2f}\".format(train_rate))\n",
    "print(\"Sampling rate:  {:.2f}\".format(sampling_rate))\n",
    "print(\"Mem usage [mb]: {:.2f}\".format(mem_usage_bytes * 1e-6))\n",
    "print(\"Mem usage [Gb]: {:.2f}\".format(mem_usage_bytes * 1e-9))# Calculate Stuff"
   ]
  },
  {
   "cell_type": "markdown",
   "id": "b35728f5",
   "metadata": {},
   "source": [
    "# Generate Classes"
   ]
  },
  {
   "cell_type": "code",
   "execution_count": null,
   "id": "7568c2bd",
   "metadata": {},
   "outputs": [],
   "source": [
    "colors = get_colors(n_colors + 1, cmap=be_config.cmap_colors)\n",
    "colors = colors[1:]\n",
    "angles = get_angles(n_angles)\n",
    "positions = centered_position_idcs(n_positions, n_positions_max, max_mask_size)\n",
    "#\n",
    "bg_shape = (img_size, img_size, 3)\n",
    "bg_func = get_bg_func(bg_shape, n_bg, bg_style)\n",
    "#\n",
    "shape_map = {idx: shape.name for idx, shape in enumerate(shapes)}\n",
    "angle_map = {idx: angle for idx, angle in enumerate(angles)}\n",
    "color_map = {idx: list(color) for idx, color in enumerate(colors)}\n",
    "sizes_map = {key.name : value for key,value in shape_sizes.items()}\n",
    "posit_map = {idx: pos for idx,pos in enumerate(positions)}"
   ]
  },
  {
   "cell_type": "code",
   "execution_count": null,
   "id": "7566b637",
   "metadata": {},
   "outputs": [],
   "source": [
    "if generate_subset:\n",
    "    # Generate Params for Subset [good for large state space]\n",
    "    s_shapes = np.random.choice(a=n_shapes, size=n_samples, replace=True, p=[1/n_shapes] * n_shapes)\n",
    "    s_scales = np.random.choice(a=n_scales, size=n_samples, replace=True, p=[1/n_scales] * n_scales)\n",
    "    s_colors = np.random.choice(a=n_colors, size=n_samples, replace=True, p=[1/n_colors] * n_colors)\n",
    "    s_angles = np.random.choice(a=n_angles, size=n_samples, replace=True, p=[1/n_angles] * n_angles)\n",
    "    s_px = np.random.choice(a=n_positions, size=n_samples, replace=True, p=[1/n_positions] * n_positions)\n",
    "    s_py = np.random.choice(a=n_positions, size=n_samples, replace=True, p=[1/n_positions] * n_positions)\n",
    "    #\n",
    "    class_targets = np.stack([s_shapes, s_scales, s_colors, s_angles, s_py, s_px]).T\n",
    "else:\n",
    "    # Generate Params for whole Space [fine for small state space]\n",
    "    class_targets = []\n",
    "    for shape_idx in range(n_shapes):\n",
    "        for scale_idx in range(n_scales):\n",
    "            for angle_idx in range(n_angles):\n",
    "                for color_idx in range(n_colors):\n",
    "                    for py_idx in range(n_positions):\n",
    "                        for px_idx in range(n_positions):\n",
    "                            classes = (shape_idx, scale_idx, color_idx, angle_idx, py_idx, px_idx)\n",
    "                            class_targets.append(classes)\n",
    "    class_targets = np.array(class_targets)\n",
    "unique_classes = np.unique(class_targets, axis=0).shape[0]"
   ]
  },
  {
   "cell_type": "code",
   "execution_count": null,
   "id": "fab6ab47",
   "metadata": {},
   "outputs": [],
   "source": [
    "sizes_map"
   ]
  },
  {
   "cell_type": "markdown",
   "id": "9444decd",
   "metadata": {},
   "source": [
    "# Generate Dataset"
   ]
  },
  {
   "cell_type": "code",
   "execution_count": null,
   "id": "4a41863d",
   "metadata": {},
   "outputs": [],
   "source": [
    "csprices_type = \"single\"\n",
    "ds_name = be_config.ds_name_tmp.format(\n",
    "    csprices_type,img_size,img_size,n_shapes, n_colors,\n",
    "    n_angles, n_positions, n_scales, n_bg, bg_style, n_samples)\n",
    "\n",
    "p_data = be_config.p_base / ds_name\n",
    "p_data.mkdir(exist_ok=True, parents=True)\n",
    "#\n",
    "p_X_train = p_data / be_config[\"p_X_train\"]\n",
    "p_Y_train_clas = p_data / be_config[\"p_Y_train_clas\"]\n",
    "p_Y_train_segm = p_data / be_config[\"p_Y_train_segm\"]\n",
    "p_Y_train_bbox = p_data / be_config[\"p_Y_train_bbox\"]\n",
    "#\n",
    "p_X_valid = p_data / be_config[\"p_X_valid\"]\n",
    "p_Y_valid_clas = p_data / be_config[\"p_Y_valid_clas\"]\n",
    "p_Y_valid_segm = p_data / be_config[\"p_Y_valid_segm\"]\n",
    "p_Y_valid_bbox = p_data / be_config[\"p_Y_valid_bbox\"]\n",
    "\n",
    "#\n",
    "p_config = p_data / be_config[\"p_config\"]\n",
    "#\n",
    "p_gifs = p_data / be_config[\"p_gifs\"]\n",
    "p_gifs.mkdir(exist_ok=True)\n",
    "#\n",
    "#\n",
    "p_gifs_shapes_dir = p_gifs / \"shapes\"\n",
    "p_gifs_shapes_dir.mkdir(exist_ok=True)\n",
    "p_gif_colors = p_gifs / \"colors.gif\"\n",
    "p_gif_bg = p_gifs / \"backgrounds.gif\"\n",
    "#\n",
    "#\n",
    "p_imgs = p_data / be_config[\"p_imgs\"]\n",
    "p_imgs.mkdir(exist_ok=True)\n",
    "#\n",
    "if target_segm:\n",
    "    p_segs = p_data / be_config[\"p_segs\"]\n",
    "    p_segs.mkdir(exist_ok=True)"
   ]
  },
  {
   "cell_type": "code",
   "execution_count": null,
   "id": "f6a1119c",
   "metadata": {},
   "outputs": [],
   "source": [
    "debug = False\n",
    "n_debug = 10\n",
    "plot = False\n",
    "imgs = []\n",
    "#\n",
    "targets_bbox = []\n",
    "targets_segm = []\n",
    "#\n",
    "tracker = MeanStdTracker()\n",
    "#\n",
    "start = timeit.default_timer()\n",
    "for sample_idx, (shape_idx, scale_idx, color_idx, angle_idx, py_idx, px_idx) in enumerate(tqdm(class_targets)):\n",
    "    shape = shapes[shape_idx]\n",
    "    size = shape_sizes[shape][scale_idx]\n",
    "    angle = angles[angle_idx]\n",
    "    color = colors[color_idx]\n",
    "    px = positions[px_idx]  # center position width\n",
    "    py = positions[py_idx]  # center position height\n",
    "    #\n",
    "    mask = shape.create(size)\n",
    "    mask = apply_angle(mask, angle)\n",
    "    #\n",
    "    h_mask, w_mask = mask.shape\n",
    "    #\n",
    "    assert h_mask % 2 == 1\n",
    "    assert w_mask % 2 == 1\n",
    "    \n",
    "    #mask = pad_mask(mask, max_mask_size)\n",
    "    if target_bbox:\n",
    "        # corners: (upper left, lower right)\n",
    "        w_shape = (mask.sum(axis=0) > 0).sum()\n",
    "        h_shape = (mask.sum(axis=1) > 0).sum()\n",
    "        #\n",
    "        if w_shape % 2 == 0:\n",
    "            w_shape+=1\n",
    "        if h_shape % 2 == 0:\n",
    "            h_shape+=1\n",
    "        #\n",
    "        assert w_shape % 2 == 1\n",
    "        assert h_shape % 2 == 1\n",
    "        \n",
    "        y0 = max(0, py - h_shape // 2 - 1)\n",
    "        x0 = max(0, px - w_shape // 2 - 1)\n",
    "        y1 = min(py + h_shape // 2 + 1, img_size)\n",
    "        x1 = min(px + w_shape // 2 + 1, img_size)\n",
    "        targets_bbox.append((y0, x0 , y1, x1))\n",
    "\n",
    "    x0, y0, x1, y1 = get_position_idcs_from_center(h_mask, w_mask, px, py)\n",
    "    #\n",
    "    if target_segm:\n",
    "        seg_map = np.zeros((img_size, img_size)).astype(np.uint8)\n",
    "        seg_map[y0: y1, x0: x1] = mask\n",
    "        p_seg = p_segs / be_config[\"seg_name\"].format(sample_idx)\n",
    "        #\n",
    "        Image.fromarray(seg_map).save(p_seg)\n",
    "        targets_segm.append(p_seg.name)\n",
    "    #\n",
    "    mask_wo_color = np.copy(mask)\n",
    "    mask = apply_color(mask, color)\n",
    "    #\n",
    "    img = bg_func()\n",
    "    img[y0: y1, x0: x1,:][mask_wo_color > 0] = mask[mask_wo_color > 0]\n",
    "    #\n",
    "    p_img = p_imgs / be_config[\"img_name\"].format(sample_idx)\n",
    "    Image.fromarray(img).save(p_img)\n",
    "    tracker.add(img/255)\n",
    "    imgs.append(p_img.name)\n",
    "    \n",
    "    if debug and sample_idx > n_debug:\n",
    "        break\n",
    "    if plot:\n",
    "        fig, axes = plt.subplots(1, 3)\n",
    "        # mark center\n",
    "        img[py, px] = 0\n",
    "        seg_map[py, px] = 0\n",
    "        \n",
    "        # mark bboxes\n",
    "        y0, x0, y1, x1 = targets_bbox[-1]\n",
    "        seg_map[y0,x0] = 1\n",
    "        seg_map[y1,x0] = 1\n",
    "        seg_map[y0,x1] = 1\n",
    "        seg_map[y1,x1] = 1\n",
    "        \n",
    "        img[y0,x0] = 0\n",
    "        img[y1,x0] = 0\n",
    "        img[y0,x1] = 0\n",
    "        img[y1,x1] = 0\n",
    "        #\n",
    "        axes[0].imshow(img)\n",
    "        axes[1].imshow(seg_map)\n",
    "        axes[2].imshow(img * (1 - seg_map.reshape((img.shape[0], img.shape[1], 1))))\n",
    "        plt.show()\n",
    "               \n",
    "elapsed  = timeit.default_timer() - start\n",
    "print(\"{:.3f}\".format(elapsed))"
   ]
  },
  {
   "cell_type": "code",
   "execution_count": null,
   "id": "a2b93362",
   "metadata": {},
   "outputs": [],
   "source": [
    "means, stds = tracker.get()"
   ]
  },
  {
   "cell_type": "markdown",
   "id": "68097174",
   "metadata": {},
   "source": [
    "# Generate GIFS"
   ]
  },
  {
   "cell_type": "code",
   "execution_count": null,
   "id": "3622eb3f",
   "metadata": {},
   "outputs": [],
   "source": [
    "# Shapes and sizes\n",
    "shape_sizes_to_html(shape_sizes, angles, max_mask_size, p_data=p_gifs_shapes_dir)\n",
    "#\n",
    "# Colors\n",
    "mask = shapes[-1].create(shape_sizes[shapes[-1]][-1])\n",
    "masks = [apply_color(mask, color) for color in colors]\n",
    "html_str = masks_to_html_animation(masks, p_gif_colors)\n",
    "\n",
    "# BG\n",
    "masks = [bg_func() for _ in range(20)]\n",
    "html_str = masks_to_html_animation(masks, p_gif_bg, interval=300)"
   ]
  },
  {
   "cell_type": "markdown",
   "id": "dec208dc",
   "metadata": {},
   "source": [
    "# Generate Config"
   ]
  },
  {
   "cell_type": "code",
   "execution_count": null,
   "id": "6536c856",
   "metadata": {},
   "outputs": [],
   "source": [
    "gen_config = {\n",
    "    # General DS Information\n",
    "    'date': datetime.now().strftime(\"%d/%m/%Y %H:%M:%S\"),\n",
    "    'version': 1.0,\n",
    "    'type': csprices_type,\n",
    "    'n_states': n_states,\n",
    "    'n_masks': n_masks,\n",
    "    'n_train': n_train,\n",
    "    'n_valid': n_valid,\n",
    "    'n_samples': n_samples,\n",
    "    'n_unique': unique_classes,\n",
    "    'sampling_rate': sampling_rate,\n",
    "    'train_rate': train_rate,\n",
    "    'subset': generate_subset,\n",
    "    'img_size': img_size,\n",
    "    'subset': generate_subset,\n",
    "    'name': ds_name,\n",
    "    'memory_usage': \"{:.3f} GB\".format(mem_usage_bytes * 1e-9),\n",
    "    'color_cmap': be_config.cmap_colors,\n",
    "    \n",
    "    # Targets\n",
    "    'target_bbox': target_bbox,\n",
    "    'target_segm': target_segm,\n",
    "    \n",
    "    # Generative Factors\n",
    "    'classes': ['shape', 'scale', 'color', 'angle', 'py', 'px'],\n",
    "    'n_classes': {\n",
    "        'shape': n_shapes,\n",
    "        'scale': n_scales,\n",
    "        'color': n_colors,\n",
    "        'angle': n_angles,\n",
    "        'px': n_positions,\n",
    "        'py': n_positions,\n",
    "    },\n",
    "    'class_maps': {\n",
    "        'shape': shape_map,\n",
    "        'angle': angle_map,\n",
    "        'color': color_map,\n",
    "        'scale': sizes_map,\n",
    "        'position': posit_map\n",
    "    },\n",
    "    'n_bg': n_bg,\n",
    "    'bg_style': bg_style,\n",
    "    'shapes': shape_names,\n",
    "    'min_mask_fill_rate': min_mask_fill_rate,\n",
    "    'max_mask_fill_rate': max_mask_fill_rate,\n",
    "    'max_mask_size': max_mask_size,\n",
    "    \n",
    "    # PATHS\n",
    "    'p_X_train': p_X_train.name,\n",
    "    'p_X_valid': p_X_valid.name,\n",
    "    'p_Y_train_clas': p_Y_train_clas.name,\n",
    "    'p_Y_valid_clas': p_Y_valid_clas.name,\n",
    "    'p_imgs': p_imgs.name,\n",
    "    'p_gifs': p_gifs.name,\n",
    "    \n",
    "    # stds & means\n",
    "    'means': means,\n",
    "    'stds': stds,\n",
    "    \n",
    "}\n",
    "if target_bbox:\n",
    "    gen_config['p_Y_train_bbox'] = p_Y_train_bbox.name\n",
    "    gen_config['p_Y_valid_bbox'] = p_Y_valid_bbox.name\n",
    "if target_segm:\n",
    "    gen_config['p_Y_train_segm'] = p_Y_train_segm.name\n",
    "    gen_config['p_Y_valid_segm'] = p_Y_valid_segm.name\n",
    "    gen_config[\"p_segs\"] = p_segs.name\n",
    "\n",
    "pprint.pprint(gen_config)"
   ]
  },
  {
   "cell_type": "markdown",
   "id": "48288ec4",
   "metadata": {},
   "source": [
    "# Train Test split"
   ]
  },
  {
   "cell_type": "code",
   "execution_count": null,
   "id": "28d87eca",
   "metadata": {},
   "outputs": [],
   "source": [
    "X = np.array(imgs)\n",
    "assert n_samples == X.shape[0]"
   ]
  },
  {
   "cell_type": "code",
   "execution_count": null,
   "id": "c0cc4267",
   "metadata": {},
   "outputs": [],
   "source": [
    "Y_clas = class_targets\n",
    "print(Y_clas.shape)\n",
    "#\n",
    "if targets_bbox:\n",
    "    Y_bbox = np.array(targets_bbox)\n",
    "    print(Y_bbox.shape)\n",
    "\n",
    "if targets_segm:\n",
    "    Y_segm = np.array(targets_segm)\n",
    "    print(Y_segm.shape)"
   ]
  },
  {
   "cell_type": "code",
   "execution_count": null,
   "id": "2c588669",
   "metadata": {},
   "outputs": [],
   "source": [
    "idcs = np.arange(n_samples)\n",
    "np.random.shuffle(idcs)\n",
    "#\n",
    "train_idcs = idcs[:n_train]\n",
    "valid_idcs = idcs[n_train:]\n",
    "#\n",
    "X_train = X[train_idcs]\n",
    "X_valid = X[valid_idcs]\n",
    "#\n",
    "Y_train_clas = Y_clas[train_idcs]\n",
    "Y_valid_clas = Y_clas[valid_idcs]\n",
    "\n",
    "if target_bbox:\n",
    "    Y_train_bbox = Y_bbox[train_idcs]\n",
    "    Y_valid_bbox = Y_bbox[valid_idcs]\n",
    "    #\n",
    "    np.save(p_Y_train_bbox, Y_train_bbox)\n",
    "    np.save(p_Y_valid_bbox, Y_valid_bbox)\n",
    "\n",
    "if target_segm:\n",
    "    Y_train_segm = Y_segm[train_idcs]\n",
    "    Y_valid_segm = Y_segm[valid_idcs]\n",
    "    #\n",
    "    np.save(p_Y_train_segm, Y_train_segm)\n",
    "    np.save(p_Y_valid_segm, Y_valid_segm)\n",
    "#\n",
    "np.save(p_Y_train_clas, Y_train_clas)\n",
    "np.save(p_Y_valid_clas, Y_valid_clas)\n",
    "np.save(p_X_train, X_train)\n",
    "np.save(p_X_valid, X_valid)\n",
    "#\n",
    "with open(p_config, \"wb\") as file:\n",
    "    pkl.dump(gen_config, file)"
   ]
  },
  {
   "cell_type": "code",
   "execution_count": null,
   "id": "9a432b8b",
   "metadata": {},
   "outputs": [],
   "source": [
    "p_data"
   ]
  },
  {
   "cell_type": "code",
   "execution_count": null,
   "id": "db4352d4",
   "metadata": {},
   "outputs": [],
   "source": [
    "plt.imshow(np.array(Image.open(p_data / \"segs\" / \"csprite0_seg.png\")))"
   ]
  },
  {
   "cell_type": "markdown",
   "id": "c71ec29f",
   "metadata": {},
   "source": [
    "# Show all colors"
   ]
  },
  {
   "cell_type": "code",
   "execution_count": null,
   "id": "e483ff1c",
   "metadata": {},
   "outputs": [],
   "source": [
    "colors"
   ]
  },
  {
   "cell_type": "code",
   "execution_count": null,
   "id": "bf97a29f",
   "metadata": {},
   "outputs": [],
   "source": [
    "for c in colors:\n",
    "    plt.figure(figsize=(2, 2))\n",
    "    img = np.ones((5, 5, 3), dtype=np.uint8) * c\n",
    "    plt.imshow(img)\n",
    "    plt.show()"
   ]
  },
  {
   "cell_type": "markdown",
   "id": "0a6a4748",
   "metadata": {},
   "source": [
    "# Show random samples\n"
   ]
  },
  {
   "cell_type": "code",
   "execution_count": null,
   "id": "2085571c",
   "metadata": {},
   "outputs": [],
   "source": [
    "show_n = 100\n",
    "np.random.shuffle(idcs)"
   ]
  },
  {
   "cell_type": "code",
   "execution_count": null,
   "id": "8d5a91e1",
   "metadata": {},
   "outputs": [],
   "source": [
    "for idx in idcs[:show_n]:\n",
    "    img = np.array(Image.open(p_imgs / X[idx]))\n",
    "    plt.imshow(img)\n",
    "    plt.show()"
   ]
  },
  {
   "cell_type": "markdown",
   "id": "21b7b521",
   "metadata": {},
   "source": [
    "# Color"
   ]
  },
  {
   "cell_type": "code",
   "execution_count": null,
   "id": "5f168567",
   "metadata": {},
   "outputs": [],
   "source": [
    "mask = shape.create(size)\n",
    "mask = apply_angle(mask, angle)\n",
    "#\n",
    "h_mask, w_mask = mask.shape\n",
    "#\n",
    "x0, y0, x1, y1 = get_position_idcs_from_center(h_mask, w_mask, px, py)"
   ]
  },
  {
   "cell_type": "code",
   "execution_count": null,
   "id": "c21d2b9f",
   "metadata": {},
   "outputs": [],
   "source": [
    "mask_o = np.copy(mask)\n",
    "plt.imshow(mask_o)\n",
    "plt.show()\n",
    "#\n",
    "img_o = bg_func()\n",
    "plt.imshow(img_o)"
   ]
  },
  {
   "cell_type": "code",
   "execution_count": null,
   "id": "9c7c34d7",
   "metadata": {
    "scrolled": false
   },
   "outputs": [],
   "source": [
    "for color in colors:\n",
    "    mask = np.copy(mask_o)\n",
    "    mask_wo_color = np.copy(mask)\n",
    "    mask = apply_color(mask, color)\n",
    "    #\n",
    "    img = np.copy(img_o)\n",
    "    img[y0: y1, x0: x1,:][mask_wo_color > 0] = mask[mask_wo_color > 0]\n",
    "    plt.imshow(img)\n",
    "    plt.show()"
   ]
  },
  {
   "cell_type": "code",
   "execution_count": null,
   "id": "66ba7255",
   "metadata": {},
   "outputs": [],
   "source": [
    "p_data"
   ]
  },
  {
   "cell_type": "code",
   "execution_count": null,
   "id": "2c137093",
   "metadata": {},
   "outputs": [],
   "source": []
  }
 ],
 "metadata": {
  "kernelspec": {
   "display_name": "Python 3 (ipykernel)",
   "language": "python",
   "name": "python3"
  },
  "language_info": {
   "codemirror_mode": {
    "name": "ipython",
    "version": 3
   },
   "file_extension": ".py",
   "mimetype": "text/x-python",
   "name": "python",
   "nbconvert_exporter": "python",
   "pygments_lexer": "ipython3",
   "version": "3.8.10"
  },
  "latex_envs": {
   "LaTeX_envs_menu_present": true,
   "autoclose": false,
   "autocomplete": true,
   "bibliofile": "biblio.bib",
   "cite_by": "apalike",
   "current_citInitial": 1,
   "eqLabelWithNumbers": true,
   "eqNumInitial": 1,
   "hotkeys": {
    "equation": "Ctrl-E",
    "itemize": "Ctrl-I"
   },
   "labels_anchors": false,
   "latex_user_defs": false,
   "report_style_numbering": false,
   "user_envs_cfg": false
  }
 },
 "nbformat": 4,
 "nbformat_minor": 5
}
