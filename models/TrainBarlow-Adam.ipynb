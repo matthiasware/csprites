{
 "cells": [
  {
   "cell_type": "code",
   "execution_count": null,
   "id": "a5f7af7f",
   "metadata": {},
   "outputs": [],
   "source": [
    "%load_ext autoreload\n",
    "%autoreload 2"
   ]
  },
  {
   "cell_type": "code",
   "execution_count": null,
   "id": "d89b77a2",
   "metadata": {},
   "outputs": [],
   "source": [
    "import sys\n",
    "sys.path.append(\"..\")"
   ]
  },
  {
   "cell_type": "code",
   "execution_count": null,
   "id": "b05c0113",
   "metadata": {},
   "outputs": [],
   "source": [
    "# Python\n",
    "from pathlib import Path\n",
    "import os\n",
    "import warnings\n",
    "import math\n",
    "import datetime\n",
    "import time\n",
    "warnings.filterwarnings('ignore')\n",
    "\n",
    "# TORCH\n",
    "import torch\n",
    "import torch.nn as nn\n",
    "import torch.nn.functional as F\n",
    "from torch.utils.data import DataLoader\n",
    "import torchvision\n",
    "from torchvision.models.resnet import resnet18\n",
    "\n",
    "# MISC\n",
    "from tqdm import tqdm\n",
    "import pprint\n",
    "import numpy as np\n",
    "import matplotlib.pyplot as plt\n",
    "from sklearn.neighbors import KNeighborsClassifier\n",
    "from sklearn.linear_model import LogisticRegression\n",
    "from dotted_dict import DottedDict\n",
    "import pickle\n",
    "\n",
    "from BTwins.utils import calc_lambda\n",
    "from BTwins.barlow import *\n",
    "from BTwins.transform_utils import *\n",
    "from csprites.datasets import ClassificationDataset\n",
    "import utils\n",
    "from backbone import get_backbone\n",
    "from optimizer import get_optimizer"
   ]
  },
  {
   "cell_type": "markdown",
   "id": "50272c61",
   "metadata": {},
   "source": [
    "# Paper Stuff\n",
    "### Lrearning Rates\n",
    "Batch Size\tLearning Rate\n",
    "- 128  0.7\n",
    "- 256  0.4\n",
    "- 512  0.3\n",
    "- 1024 0.25\n",
    "- 2048 0.2\n",
    "- 4096 0.2"
   ]
  },
  {
   "cell_type": "code",
   "execution_count": null,
   "id": "3dbc87f6",
   "metadata": {},
   "outputs": [],
   "source": [
    "for d in [128, 256, 512, 1024, 2048, 4096, 8192]:\n",
    "    print(\"{:4}: {:.4f}\".format(d, calc_lambda(d)))"
   ]
  },
  {
   "cell_type": "code",
   "execution_count": null,
   "id": "89b78a73",
   "metadata": {},
   "outputs": [],
   "source": [
    "config = {\n",
    "    'device': 'cuda',\n",
    "    'cuda_visible_devices': '0',\n",
    "    'p_data': '/mnt/data/csprites/single_csprites_64x64_n7_c128_a32_p10_s3_bg_inf_random_function_100000',\n",
    "    'target_variable': 'shape',\n",
    "    'batch_size': 512,\n",
    "    'num_workers': 6,\n",
    "    'num_epochs': 100,\n",
    "    'freqs': {\n",
    "        'ckpt': 50,         # epochs\n",
    "        'linprob': 5,       # epochs\n",
    "    },\n",
    "    'num_vis': 64,\n",
    "    'backbone': \"ResNet-18\",\n",
    "    'optimizer': 'adam',\n",
    "    'optimizer_args': {\n",
    "        'lr': 0.001,\n",
    "        'weight_decay': 1e-6\n",
    "    },\n",
    "    'projector': [1024, 1024, 1024],\n",
    "    'scale_factor': 1,\n",
    "    'p_ckpts': \"ckpts\",\n",
    "    'p_model': \"model_{}.ckpt\",\n",
    "    'p_stats': \"stats.pkl\",\n",
    "    'p_config': 'config.pkl',\n",
    "    'p_R_train': 'R_train.npy',\n",
    "    'p_R_valid': 'R_valid.npy',\n",
    "    'p_Y_valid': 'Y_valid.npy',\n",
    "    'p_Y_train': 'Y_train.npy',\n",
    "    'linprob': {\n",
    "        'optimizer': 'adam',\n",
    "        'optimizer_args': {\n",
    "            'lr': 0.001,\n",
    "            'weight_decay': 1e-6\n",
    "        },\n",
    "        'n_hid': 0,\n",
    "        'd_hid': 1024,\n",
    "        'num_epochs': 1\n",
    "    }\n",
    "    \n",
    "}\n",
    "p_base = Path(\"/mnt/experiments/csprites\") / Path(config[\"p_data\"]).name / \"tmp\"\n",
    "#\n",
    "ts = time.time()\n",
    "st = datetime.datetime.fromtimestamp(ts).strftime('%Y-%m-%d_%H-%M-%S')\n",
    "#\n",
    "config[\"p_experiment\"] = str(p_base / \"BTwins_bb_[{}]_target_[{}]_{}\".format(config[\"backbone\"],\n",
    "                                                           config[\"target_variable\"],\n",
    "                                                                            st))\n",
    "config['lambd'] = calc_lambda(config[\"projector\"][-1])\n",
    "config = DottedDict(config)\n",
    "pprint.pprint(config)"
   ]
  },
  {
   "cell_type": "code",
   "execution_count": null,
   "id": "671a85b4",
   "metadata": {},
   "outputs": [],
   "source": [
    "# TORCH SETTINGS\n",
    "torch.backends.cudnn.benchmark = True\n",
    "os.environ[\"CUDA_VISIBLE_DEVICES\"] = config.cuda_visible_devices\n",
    "device = torch.device(config.device)"
   ]
  },
  {
   "cell_type": "markdown",
   "id": "b8eff096",
   "metadata": {},
   "source": [
    "# Dataset"
   ]
  },
  {
   "cell_type": "code",
   "execution_count": null,
   "id": "b54f9494",
   "metadata": {},
   "outputs": [],
   "source": [
    "p_ds_config = Path(config.p_data) / \"config.pkl\"\n",
    "\n",
    "with open(p_ds_config, \"rb\") as file:\n",
    "    ds_config = pickle.load(file)\n",
    "\n",
    "target_variable = config.target_variable\n",
    "target_idx = [idx for idx, target in enumerate(ds_config[\"classes\"]) if target == target_variable][0]\n",
    "n_classes = ds_config[\"n_classes\"][target_variable]"
   ]
  },
  {
   "cell_type": "code",
   "execution_count": null,
   "id": "441591bf",
   "metadata": {},
   "outputs": [],
   "source": [
    "norm_transform = utils.normalize_transform(\n",
    "    ds_config[\"means\"],\n",
    "    ds_config[\"stds\"])\n",
    "inverse_norm_transform = utils.inverse_normalize_transform(\n",
    "    ds_config[\"means\"],\n",
    "    ds_config[\"stds\"]\n",
    ")\n",
    "target_transform = lambda x: x[target_idx]"
   ]
  },
  {
   "cell_type": "code",
   "execution_count": null,
   "id": "40c556c7",
   "metadata": {},
   "outputs": [],
   "source": [
    "transform_train = transforms.Compose([\n",
    "                #transforms.Resize(ds_config[\"img_size\"]),\n",
    "                transforms.RandomResizedCrop(ds_config[\"img_size\"],\n",
    "                                             scale=(0.6, 1.0),\n",
    "                                             ratio=(1, 1),\n",
    "                                             interpolation=Image.BICUBIC),\n",
    "                transforms.RandomHorizontalFlip(p=0.5),\n",
    "                transforms.RandomApply(\n",
    "                    [transforms.ColorJitter(brightness=0.4, contrast=0.4,\n",
    "                                            saturation=0.2, hue=0.1)],\n",
    "                    p=0.8\n",
    "                ),\n",
    "                transforms.RandomGrayscale(p=0.2),\n",
    "                GaussianBlur(p=1.0),\n",
    "                Solarization(p=0.0),\n",
    "                transforms.ToTensor(),\n",
    "                norm_transform\n",
    "            ])\n",
    "\n",
    "transform_train_prime = transforms.Compose([\n",
    "                #transforms.Resize(ds_config[\"img_size\"]),\n",
    "                transforms.RandomResizedCrop(ds_config[\"img_size\"],\n",
    "                                             scale=(0.6, 1.0),\n",
    "                                             ratio=(1, 1),\n",
    "                                             interpolation=Image.BICUBIC),\n",
    "                transforms.RandomHorizontalFlip(p=0.5),\n",
    "                transforms.RandomApply(\n",
    "                    [transforms.ColorJitter(brightness=0.4, contrast=0.4,\n",
    "                                            saturation=0.2, hue=0.1)],\n",
    "                    p=0.8\n",
    "                ),\n",
    "                transforms.RandomGrayscale(p=0.2),\n",
    "                GaussianBlur(p=0.1),\n",
    "                Solarization(p=0.2),\n",
    "                transforms.ToTensor(),\n",
    "                norm_transform\n",
    "            ])\n",
    "\n",
    "transform_linprob = transforms.Compose([\n",
    "                transforms.Resize(ds_config[\"img_size\"]),\n",
    "                transforms.ToTensor(),\n",
    "                norm_transform\n",
    "            ])"
   ]
  },
  {
   "cell_type": "code",
   "execution_count": null,
   "id": "2bd96ea7",
   "metadata": {},
   "outputs": [],
   "source": [
    "# TRAIN\n",
    "ds_train = ClassificationDataset(\n",
    "    p_data = config.p_data,\n",
    "    transform=Transform(transform_train, transform_train_prime),\n",
    "    target_transform=target_transform,\n",
    "    split=\"train\"\n",
    ")\n",
    "dl_train = DataLoader(\n",
    "    ds_train,\n",
    "    batch_size=config.batch_size,\n",
    "    shuffle=True,\n",
    "    num_workers=config.num_workers,\n",
    "    pin_memory=False,\n",
    "    drop_last=True\n",
    ")\n",
    "# LINPROB\n",
    "ds_linprob = ClassificationDataset(\n",
    "    p_data = config.p_data,\n",
    "    transform=transform_linprob,\n",
    "    target_transform=target_transform,\n",
    "    split=\"valid\"\n",
    ")\n",
    "dl_linprob = DataLoader(\n",
    "    ds_linprob,\n",
    "    batch_size=config.batch_size,\n",
    "    shuffle=True,\n",
    "    num_workers = config.num_workers,\n",
    "    pin_memory=False\n",
    ")"
   ]
  },
  {
   "cell_type": "markdown",
   "id": "9fdafdbd",
   "metadata": {},
   "source": [
    "# Visualize Data"
   ]
  },
  {
   "cell_type": "code",
   "execution_count": null,
   "id": "60176b03",
   "metadata": {},
   "outputs": [],
   "source": [
    "n_vis = config.num_vis"
   ]
  },
  {
   "cell_type": "code",
   "execution_count": null,
   "id": "fb70d5d3",
   "metadata": {},
   "outputs": [],
   "source": [
    "# dl_train\n",
    "(x1, x2),_ = next(iter(dl_train))\n",
    "x1 = x1[:n_vis]\n",
    "x2 = x2[:n_vis]\n",
    "#\n",
    "x1 = inverse_norm_transform(x1)\n",
    "x2 = inverse_norm_transform(x2)\n",
    "#\n",
    "grid_img = torchvision.utils.make_grid(x1, nrow=int(np.sqrt(n_vis)))\n",
    "plt.imshow(grid_img.permute(1, 2, 0))\n",
    "plt.show()\n",
    "\n",
    "grid_img = torchvision.utils.make_grid(x2, nrow=int(np.sqrt(n_vis)))\n",
    "plt.imshow(grid_img.permute(1, 2, 0))\n",
    "plt.show()\n",
    "\n",
    "(x1 - x2).sum()"
   ]
  },
  {
   "cell_type": "code",
   "execution_count": null,
   "id": "216ead3e",
   "metadata": {},
   "outputs": [],
   "source": [
    "# dl_linprob_train\n",
    "x,y = next(iter(dl_linprob))\n",
    "x = x[:n_vis]\n",
    "y = y[:n_vis]\n",
    "#\n",
    "x = inverse_norm_transform(x)\n",
    "#\n",
    "grid_img = torchvision.utils.make_grid(x, nrow=int(np.sqrt(n_vis)))\n",
    "plt.imshow(grid_img.permute(1, 2, 0))\n",
    "#\n",
    "y = [ds_config[\"class_maps\"][\"shape\"][idx.item()] for idx in y]\n",
    "print(y)"
   ]
  },
  {
   "cell_type": "markdown",
   "id": "c3c96b87",
   "metadata": {},
   "source": [
    "# Model"
   ]
  },
  {
   "cell_type": "code",
   "execution_count": null,
   "id": "1d5266be",
   "metadata": {},
   "outputs": [],
   "source": [
    "model = BarlowTwins(get_backbone(config.backbone, pretrained=False, zero_init_residual=True),\n",
    "                    config.projector,\n",
    "                    config.lambd,\n",
    "                    config.scale_factor)\n",
    "#\n",
    "if torch.cuda.device_count() > 1 and device != \"cpu\":\n",
    "    print(\"Using {} gpus!\".format(torch.cuda.device_count()))\n",
    "    model = torch.nn.DataParallel(model)\n",
    "    model.backbone = model.module.backbone\n",
    "elif device != \"cpu\":\n",
    "    print(\"Using 1 GPU!\")\n",
    "else:\n",
    "    print(\"Using CPU!\")\n",
    "model = model.to(device)"
   ]
  },
  {
   "cell_type": "code",
   "execution_count": null,
   "id": "337e69b6",
   "metadata": {},
   "outputs": [],
   "source": [
    "model"
   ]
  },
  {
   "cell_type": "code",
   "execution_count": null,
   "id": "d9eed836",
   "metadata": {},
   "outputs": [],
   "source": [
    "optimizer = get_optimizer(config.optimizer, model.parameters(), config.optimizer_args)"
   ]
  },
  {
   "cell_type": "code",
   "execution_count": null,
   "id": "533b9699",
   "metadata": {},
   "outputs": [],
   "source": [
    "stats = {\n",
    "    'train': {\n",
    "        'loss': [],\n",
    "        'epoch': [],\n",
    "    },\n",
    "    'linprob': {\n",
    "        'linacc': [],\n",
    "        'knnacc': [],\n",
    "        'epoch': [],\n",
    "    }\n",
    "}\n",
    "stats = DottedDict(stats)\n",
    "#\n",
    "p_experiment = Path(config.p_experiment)\n",
    "p_experiment.mkdir(exist_ok=True, parents=True)\n",
    "p_ckpts = p_experiment / config.p_ckpts\n",
    "p_ckpts.mkdir(exist_ok=True)"
   ]
  },
  {
   "cell_type": "code",
   "execution_count": null,
   "id": "e245d246",
   "metadata": {},
   "outputs": [],
   "source": [
    "config.p_experiment"
   ]
  },
  {
   "cell_type": "code",
   "execution_count": null,
   "id": "069d970c",
   "metadata": {},
   "outputs": [],
   "source": [
    "global_step = 0\n",
    "for epoch_idx in range(1, config.num_epochs + 1, 1):\n",
    "    ################\n",
    "    # TRAIN\n",
    "    ################\n",
    "    model.train()\n",
    "    epoch_step = 0\n",
    "    epoch_loss = 0\n",
    "   \n",
    "    desc = \"Epoch [{:3}/{:3}] {}:\".format(epoch_idx, config.num_epochs, 'train')\n",
    "    pbar = tqdm(dl_train, bar_format= desc + '{bar:10}{r_bar}{bar:-10b}')\n",
    "    #\n",
    "    for (x1, x2), _ in pbar:\n",
    "        x1 = x1.to(device)\n",
    "        x2 = x2.to(device)\n",
    "        for param in model.parameters():\n",
    "            param.grad = None\n",
    "        loss = model(x1, x2)\n",
    "        loss.backward()\n",
    "        optimizer.step()\n",
    "\n",
    "        epoch_loss += loss.item()\n",
    "        epoch_step += 1\n",
    "        global_step += 1\n",
    "        #\n",
    "        pbar.set_postfix({'loss': loss.item()})\n",
    "\n",
    "    stats.train.loss.append(epoch_loss / epoch_step)\n",
    "    stats.train.epoch.append(epoch_idx)\n",
    "\n",
    "    ################\n",
    "    # Linprob\n",
    "    ################\n",
    "    if epoch_idx % config.freqs.linprob == 0 or epoch_idx == config.num_epochs:\n",
    "        model.eval()\n",
    "        linacc, knnacc = utils.linprob_model(model.backbone, dl_linprob, device)\n",
    "        print(\"    Linprob Eval @LR: {:.2f} @KNN: {:.2f}\".format(linacc, knnacc))\n",
    "        stats.linprob.epoch.append(epoch_idx)\n",
    "        stats.linprob.knnacc.append(knnacc)\n",
    "        stats.linprob.linacc.append(linacc)\n",
    "        model.train()\n",
    "    # Checkpoint\n",
    "    if epoch_idx % config.freqs.ckpt == 0 or epoch_idx == config.num_epochs:\n",
    "        print(\"save model!\")\n",
    "        if torch.cuda.device_count() > 1 and device != \"cpu\":\n",
    "            torch.save(model.module.state_dict(), p_ckpts / config.p_model.format(epoch_idx))\n",
    "        else:\n",
    "            torch.save(model.state_dict(), p_ckpts / config.p_model.format(epoch_idx))"
   ]
  },
  {
   "cell_type": "code",
   "execution_count": null,
   "id": "79cad2a7",
   "metadata": {},
   "outputs": [],
   "source": [
    "x1 = x1[:n_vis]\n",
    "x2 = x2[:n_vis]\n",
    "#\n",
    "x1 = x1.cpu()\n",
    "x2 = x2.cpu()"
   ]
  },
  {
   "cell_type": "code",
   "execution_count": null,
   "id": "f4420dab",
   "metadata": {},
   "outputs": [],
   "source": [
    "x1 = inverse_norm_transform(x1)\n",
    "x2 = inverse_norm_transform(x2)\n",
    "#\n",
    "grid_img = torchvision.utils.make_grid(x1, nrow=int(np.sqrt(n_vis)))\n",
    "plt.imshow(grid_img.permute(1, 2, 0))\n",
    "plt.show()\n",
    "\n",
    "grid_img = torchvision.utils.make_grid(x2, nrow=int(np.sqrt(n_vis)))\n",
    "plt.imshow(grid_img.permute(1, 2, 0))\n",
    "plt.show()\n",
    "\n",
    "(x1 - x2).sum()"
   ]
  },
  {
   "cell_type": "markdown",
   "id": "cdd23796",
   "metadata": {},
   "source": [
    "# Plot "
   ]
  },
  {
   "cell_type": "code",
   "execution_count": null,
   "id": "03717e7d",
   "metadata": {},
   "outputs": [],
   "source": [
    "# plot losses\n",
    "plt.plot(stats.train.epoch, stats.train.loss, label=\"train\")\n",
    "plt.legend()\n",
    "plt.savefig(p_experiment / \"barlow_loss.png\")\n",
    "plt.show()\n",
    "\n",
    "\n",
    "# plot linprob loss\n",
    "#plt.plot(stats.linprob.epoch, stats.linprob.loss, label=\"train\")\n",
    "#plt.legend()\n",
    "#plt.savefig(p_experiment / \"linprob_loss.png\")\n",
    "#plt.show()\n",
    "\n",
    "# plot linprob acc\n",
    "plt.plot(stats.linprob.epoch, stats.linprob.knnacc, label=\"knn\")\n",
    "plt.plot(stats.linprob.epoch, stats.linprob.linacc, label=\"lin\")\n",
    "plt.yscale(\"log\")\n",
    "plt.legend()\n",
    "plt.savefig(p_experiment / \"linprob_acc.png\")\n",
    "plt.show()"
   ]
  },
  {
   "cell_type": "markdown",
   "id": "6a946ec7",
   "metadata": {},
   "source": [
    "# Save stats and config"
   ]
  },
  {
   "cell_type": "code",
   "execution_count": null,
   "id": "fb567d4b",
   "metadata": {},
   "outputs": [],
   "source": [
    "with open(p_experiment / config.p_config, \"wb\") as file:\n",
    "    pickle.dump(config, file)\n",
    "with open(p_experiment / config.p_stats, \"wb\") as file:\n",
    "    pickle.dump(stats, file)"
   ]
  },
  {
   "cell_type": "markdown",
   "id": "d3549b78",
   "metadata": {},
   "source": [
    "# Get Representations "
   ]
  },
  {
   "cell_type": "code",
   "execution_count": null,
   "id": "a0e41a61",
   "metadata": {},
   "outputs": [],
   "source": [
    "p_R_train = p_experiment / config[\"p_R_train\"]\n",
    "p_Y_train = p_experiment / config[\"p_Y_train\"]\n",
    "p_R_valid = p_experiment / config[\"p_R_valid\"]\n",
    "p_Y_valid = p_experiment / config[\"p_Y_valid\"]"
   ]
  },
  {
   "cell_type": "code",
   "execution_count": null,
   "id": "9e23b91a",
   "metadata": {},
   "outputs": [],
   "source": [
    "# TRAIN\n",
    "ds_train = ClassificationDataset(\n",
    "    p_data = config.p_data,\n",
    "    transform=transform_linprob,\n",
    "    target_transform=None,\n",
    "    split=\"train\"\n",
    ")\n",
    "dl_train = DataLoader(\n",
    "    ds_train,\n",
    "    batch_size=config.batch_size,\n",
    "    shuffle=False,\n",
    "    num_workers=config.num_workers,\n",
    "    pin_memory=False,\n",
    "    drop_last=True\n",
    ")\n",
    "# LINPROB\n",
    "ds_valid = ClassificationDataset(\n",
    "    p_data = config.p_data,\n",
    "    transform=transform_linprob,\n",
    "    target_transform=None,\n",
    "    split=\"valid\"\n",
    ")\n",
    "dl_valid = DataLoader(\n",
    "    ds_valid,\n",
    "    batch_size=config.batch_size,\n",
    "    shuffle=False,\n",
    "    num_workers = config.num_workers,\n",
    "    pin_memory=False\n",
    ")"
   ]
  },
  {
   "cell_type": "code",
   "execution_count": null,
   "id": "8e9676f0",
   "metadata": {},
   "outputs": [],
   "source": [
    "model.eval()\n",
    "R_train, Y_train = utils.get_representations(model.backbone, dl_train, device)\n",
    "R_valid, Y_valid = utils.get_representations(model.backbone, dl_train, device)\n",
    "#\n",
    "np.save(p_R_train, R_train)\n",
    "np.save(p_Y_train, Y_train)\n",
    "np.save(p_R_valid, R_valid)\n",
    "np.save(p_Y_valid, Y_valid)"
   ]
  },
  {
   "cell_type": "code",
   "execution_count": null,
   "id": "b8da15e7",
   "metadata": {},
   "outputs": [],
   "source": []
  }
 ],
 "metadata": {
  "kernelspec": {
   "display_name": "Python 3 (ipykernel)",
   "language": "python",
   "name": "python3"
  },
  "language_info": {
   "codemirror_mode": {
    "name": "ipython",
    "version": 3
   },
   "file_extension": ".py",
   "mimetype": "text/x-python",
   "name": "python",
   "nbconvert_exporter": "python",
   "pygments_lexer": "ipython3",
   "version": "3.8.10"
  },
  "latex_envs": {
   "LaTeX_envs_menu_present": true,
   "autoclose": false,
   "autocomplete": true,
   "bibliofile": "biblio.bib",
   "cite_by": "apalike",
   "current_citInitial": 1,
   "eqLabelWithNumbers": true,
   "eqNumInitial": 1,
   "hotkeys": {
    "equation": "Ctrl-E",
    "itemize": "Ctrl-I"
   },
   "labels_anchors": false,
   "latex_user_defs": false,
   "report_style_numbering": false,
   "user_envs_cfg": false
  }
 },
 "nbformat": 4,
 "nbformat_minor": 5
}
