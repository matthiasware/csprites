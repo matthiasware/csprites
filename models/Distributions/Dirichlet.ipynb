{
 "cells": [
  {
   "cell_type": "code",
   "execution_count": null,
   "id": "b9e31046",
   "metadata": {},
   "outputs": [],
   "source": [
    "%load_ext autoreload\n",
    "%autoreload 2"
   ]
  },
  {
   "cell_type": "code",
   "execution_count": null,
   "id": "97b0595d",
   "metadata": {},
   "outputs": [],
   "source": [
    "import sys\n",
    "sys.path.append(\"..\")\n",
    "from plot_utils import *"
   ]
  },
  {
   "cell_type": "code",
   "execution_count": null,
   "id": "5dca76b9",
   "metadata": {},
   "outputs": [],
   "source": [
    "import sys\n",
    "sys.path.append(\"..\")\n",
    "from plot_utils import *\n",
    "\n",
    "import torch\n",
    "import numpy as np\n",
    "import matplotlib.pyplot as plt\n",
    "#\n",
    "from tqdm import tqdm\n",
    "from torch.distributions.dirichlet import Dirichlet\n",
    "import math"
   ]
  },
  {
   "cell_type": "markdown",
   "id": "2022374d",
   "metadata": {},
   "source": [
    "# Links\n",
    "- https://arxiv.org/pdf/1901.02739.pdf\n",
    "- https://www.tensorflow.org/probability/api_docs/python/tfp/distributions/Dirichlet?hl=de-deHarap"
   ]
  },
  {
   "cell_type": "code",
   "execution_count": null,
   "id": "5f77fc93",
   "metadata": {},
   "outputs": [],
   "source": [
    "alphas = [0.2] * 3\n",
    "dirdist = Dirichlet(torch.Tensor(alphas))\n",
    "n_samples = 100\n",
    "samples = dirdist.sample((n_samples, ))\n",
    "simplex_plot(samples)"
   ]
  },
  {
   "cell_type": "code",
   "execution_count": null,
   "id": "d2acc9cd",
   "metadata": {},
   "outputs": [],
   "source": [
    "print(dirdist.log_prob(dirdist.sample((10, ))).mean())\n",
    "print(dirdist.log_prob(dirdist.sample((100, ))).mean())\n",
    "print(dirdist.log_prob(dirdist.sample((512, ))).mean())"
   ]
  },
  {
   "cell_type": "code",
   "execution_count": null,
   "id": "f049cf5d",
   "metadata": {},
   "outputs": [],
   "source": [
    "dirdist_ske = Dirichlet(torch.Tensor([0.9, 0.05, 0.005]))\n",
    "dirdist_ide = Dirichlet(torch.Tensor([0.1, 0.1, 0.1]))\n",
    "dirdist_uni = Dirichlet(torch.Tensor([1, 1, 1]))\n",
    "dirdist_con = Dirichlet(torch.Tensor([10, 6, 7]))\n",
    "#\n",
    "dir_dists = [dirdist_ske, dirdist_ide, dirdist_uni, dirdist_con]\n",
    "dir_names = [\"skewed\", \"sparse\", \"uniform\", \"concentrated\"]\n",
    "n_samples = 1000\n",
    "dir_samples = [dist.sample((n_samples, )) for dist in dir_dists]\n",
    "#\n",
    "for x in dir_samples:\n",
    "    simplex_plot((x))"
   ]
  },
  {
   "cell_type": "code",
   "execution_count": null,
   "id": "d4aeb7b2",
   "metadata": {},
   "outputs": [],
   "source": [
    "lls = []\n",
    "n_samples = 100\n",
    "for dist_1 in dir_dists:\n",
    "    dist_1_samples = dist_1.sample((n_samples, ))\n",
    "    dist_1_lls = []\n",
    "    for dist_2 in dir_dists:\n",
    "        dist_2_ll = dist_2.log_prob(dist_1_samples).mean()\n",
    "        dist_1_lls.append(dist_2_ll)\n",
    "    lls.append(dist_1_lls)\n",
    "#\n",
    "x = np.array(lls)\n",
    "plot_mat(x, dir_names, dir_names, title=\"log likelihoods dist(data)\", xlabel=\"Dist\", ylabel=\"Data\")"
   ]
  },
  {
   "cell_type": "markdown",
   "id": "d029d9b6",
   "metadata": {},
   "source": [
    "# 2D Dirichlet"
   ]
  },
  {
   "cell_type": "code",
   "execution_count": null,
   "id": "ad968173",
   "metadata": {},
   "outputs": [],
   "source": [
    "dirdist_ske = Dirichlet(torch.Tensor([0.99, 0.005]))\n",
    "dirdist_ide = Dirichlet(torch.Tensor([0.01, 0.01]))\n",
    "dirdist_uni = Dirichlet(torch.Tensor([1, 1]))\n",
    "dirdist_con = Dirichlet(torch.Tensor([10, 8,]))\n",
    "#\n",
    "dir_dists = [dirdist_ske, dirdist_ide, dirdist_uni, dirdist_con]\n",
    "dir_names = [\"skewed\", \"sparse\", \"uniform\", \"concentrated\"]\n",
    "n_samples = 100\n",
    "dir_samples = [dist.sample((n_samples, )) for dist in dir_dists]"
   ]
  },
  {
   "cell_type": "code",
   "execution_count": null,
   "id": "cfa94dbd",
   "metadata": {},
   "outputs": [],
   "source": [
    "n_samples = 100\n",
    "for dist in dir_dists:\n",
    "    x = dist.sample((n_samples,))\n",
    "    simplex_plot(x)"
   ]
  },
  {
   "cell_type": "code",
   "execution_count": null,
   "id": "ff2ee68b",
   "metadata": {},
   "outputs": [],
   "source": [
    "lls = []\n",
    "n_samples = 1000\n",
    "for dist_1 in dir_dists:\n",
    "    dist_1_samples = dist_1.sample((n_samples, ))\n",
    "    dist_1_lls = []\n",
    "    for dist_2 in dir_dists:\n",
    "        dist_2_ll = dist_2.log_prob(dist_1_samples).sum()\n",
    "        dist_1_lls.append(dist_2_ll)\n",
    "    lls.append(dist_1_lls)\n",
    "#\n",
    "x = np.array(lls)\n",
    "plot_mat(x, dir_names, dir_names, title=\"log likelihoods dist(data)\", xlabel=\"Dist\", ylabel=\"Data\")"
   ]
  }
 ],
 "metadata": {
  "kernelspec": {
   "display_name": "Python 3 (ipykernel)",
   "language": "python",
   "name": "python3"
  },
  "language_info": {
   "codemirror_mode": {
    "name": "ipython",
    "version": 3
   },
   "file_extension": ".py",
   "mimetype": "text/x-python",
   "name": "python",
   "nbconvert_exporter": "python",
   "pygments_lexer": "ipython3",
   "version": "3.8.10"
  },
  "latex_envs": {
   "LaTeX_envs_menu_present": true,
   "autoclose": false,
   "autocomplete": true,
   "bibliofile": "biblio.bib",
   "cite_by": "apalike",
   "current_citInitial": 1,
   "eqLabelWithNumbers": true,
   "eqNumInitial": 1,
   "hotkeys": {
    "equation": "Ctrl-E",
    "itemize": "Ctrl-I"
   },
   "labels_anchors": false,
   "latex_user_defs": false,
   "report_style_numbering": false,
   "user_envs_cfg": false
  }
 },
 "nbformat": 4,
 "nbformat_minor": 5
}
