{
 "cells": [
  {
   "cell_type": "code",
   "execution_count": 1,
   "id": "106b95c1",
   "metadata": {},
   "outputs": [],
   "source": [
    "import sys\n",
    "sys.path.append(\"..\")\n",
    "from plot_utils import *\n",
    "#\n",
    "import numpy as np\n",
    "import time\n",
    "import torch\n",
    "import torch.nn as nn\n",
    "from torch.distributions import Beta\n",
    "from torch.distributions.dirichlet import Dirichlet\n",
    "from tqdm import tqdm\n",
    "#\n",
    "from utils import *\n",
    "from functions import *\n",
    "from BTwins.utils import calc_lambda"
   ]
  },
  {
   "cell_type": "code",
   "execution_count": 2,
   "id": "5b553fc2",
   "metadata": {},
   "outputs": [],
   "source": [
    "def mean_var(x, axis=0):\n",
    "    x = np.array(x)\n",
    "    print(\"mu={:.3f} var={:.3f}\".format(float(x.mean(axis=0)),\n",
    "                                        float(x.var(axis=0))))\n",
    "\n",
    "def cc_matrix(x1, x2):\n",
    "    x1 = reshape_(x1)\n",
    "    x2 = reshape_(x2)\n",
    "    c = x1.T @ x2\n",
    "    c.div_(x1.shape[0])\n",
    "    return c\n",
    "\n",
    "def reshape_(x):\n",
    "    if len(x.shape) == 1:\n",
    "        x = x.reshape((-1, 1))\n",
    "    return x\n",
    "\n",
    "def cc_bn(x1, x2, debug=False, eps=1e-5):\n",
    "    x1 = reshape_(x1)\n",
    "    x2 = reshape_(x2)\n",
    "    \n",
    "    bn = torch.nn.BatchNorm1d(x1.shape[1], affine=False, eps=eps)\n",
    "    x1 = bn(x1)\n",
    "    bn = torch.nn.BatchNorm1d(x1.shape[1], affine=False, eps=eps)\n",
    "    x2 = bn(x2)\n",
    "    if debug:\n",
    "        print(\"bn(X1)\", x1.mean(axis=0), x1.var(axis=0))\n",
    "        print(\"bn(X2)\", x2.mean(axis=0), x1.var(axis=0))\n",
    "    #\n",
    "    return cc_matrix(x1, x2)\n",
    "\n",
    "def cc_norm(x1, x2, debug=False, eps=1e-5):\n",
    "    x1 = reshape_(x1)\n",
    "    x2 = reshape_(x2)\n",
    "    \n",
    "    # recenter\n",
    "    #x1 = x1 - x1.mean()\n",
    "    #x2 = x2 - x2.mean()\n",
    "    \n",
    "    # unit variance\n",
    "    if eps > 0:\n",
    "        x1 = (x1 - x1.mean(axis=0)) / torch.sqrt(x1.var(axis=0) + eps)\n",
    "        x2 = (x2 - x2.mean(axis=0)) / torch.sqrt(x2.var(axis=0) + eps)\n",
    "    else:\n",
    "        x1 = (x1 - x1.mean(axis=0)) / x1.std(axis=0)\n",
    "        x2 = (x2 - x2.mean(axis=0)) / x2.std(axis=0)\n",
    "    \n",
    "    if debug:\n",
    "        print(\"mv(X1)\", x1.mean(axis=0), x1.var(axis=0))\n",
    "        print(\"mv(X2)\", x2.mean(axis=0), x1.var(axis=0))\n",
    "    #\n",
    "    return cc_matrix(x1, x2)"
   ]
  },
  {
   "cell_type": "code",
   "execution_count": 3,
   "id": "8e78d770",
   "metadata": {},
   "outputs": [],
   "source": [
    "n = 100\n",
    "d = 3\n",
    "x1 = 2 * torch.rand((n, d)) + 1\n",
    "x2 = 10 * torch.rand((n, d)) + 4"
   ]
  },
  {
   "cell_type": "code",
   "execution_count": 4,
   "id": "5c44b03f",
   "metadata": {},
   "outputs": [
    {
     "data": {
      "text/plain": [
       "tensor([[0.9900, 0.0130, 0.0772],\n",
       "        [0.0130, 0.9900, 0.0530],\n",
       "        [0.0772, 0.0530, 0.9900]])"
      ]
     },
     "execution_count": 4,
     "metadata": {},
     "output_type": "execute_result"
    }
   ],
   "source": [
    "cc_norm(x1, x1)"
   ]
  },
  {
   "cell_type": "code",
   "execution_count": 5,
   "id": "0490fc6c",
   "metadata": {},
   "outputs": [
    {
     "data": {
      "text/plain": [
       "tensor([[-0.1234, -0.0293,  0.0542],\n",
       "        [-0.1266, -0.0431, -0.2481],\n",
       "        [ 0.0503,  0.0676, -0.1017]])"
      ]
     },
     "execution_count": 5,
     "metadata": {},
     "output_type": "execute_result"
    }
   ],
   "source": [
    "cc_bn(x1, x2)"
   ]
  },
  {
   "cell_type": "code",
   "execution_count": 6,
   "id": "2ba1b4ee",
   "metadata": {},
   "outputs": [
    {
     "ename": "NameError",
     "evalue": "name 'c' is not defined",
     "output_type": "error",
     "traceback": [
      "\u001b[0;31m---------------------------------------------------------------------------\u001b[0m",
      "\u001b[0;31mNameError\u001b[0m                                 Traceback (most recent call last)",
      "\u001b[0;32m/tmp/ipykernel_35432/2751143826.py\u001b[0m in \u001b[0;36m<module>\u001b[0;34m\u001b[0m\n\u001b[0;32m----> 1\u001b[0;31m \u001b[0mon_diag\u001b[0m \u001b[0;34m=\u001b[0m \u001b[0mtorch\u001b[0m\u001b[0;34m.\u001b[0m\u001b[0mdiagonal\u001b[0m\u001b[0;34m(\u001b[0m\u001b[0mc\u001b[0m\u001b[0;34m)\u001b[0m\u001b[0;34m.\u001b[0m\u001b[0madd_\u001b[0m\u001b[0;34m(\u001b[0m\u001b[0;34m-\u001b[0m\u001b[0;36m1\u001b[0m\u001b[0;34m)\u001b[0m\u001b[0;34m.\u001b[0m\u001b[0mpow_\u001b[0m\u001b[0;34m(\u001b[0m\u001b[0;36m2\u001b[0m\u001b[0;34m)\u001b[0m\u001b[0;34m.\u001b[0m\u001b[0msum\u001b[0m\u001b[0;34m(\u001b[0m\u001b[0;34m)\u001b[0m\u001b[0;34m\u001b[0m\u001b[0;34m\u001b[0m\u001b[0m\n\u001b[0m\u001b[1;32m      2\u001b[0m \u001b[0moff_diag\u001b[0m \u001b[0;34m=\u001b[0m \u001b[0moff_diagonal\u001b[0m\u001b[0;34m(\u001b[0m\u001b[0mc\u001b[0m\u001b[0;34m)\u001b[0m\u001b[0;34m.\u001b[0m\u001b[0mpow_\u001b[0m\u001b[0;34m(\u001b[0m\u001b[0;36m2\u001b[0m\u001b[0;34m)\u001b[0m\u001b[0;34m.\u001b[0m\u001b[0msum\u001b[0m\u001b[0;34m(\u001b[0m\u001b[0;34m)\u001b[0m\u001b[0;34m\u001b[0m\u001b[0;34m\u001b[0m\u001b[0m\n\u001b[1;32m      3\u001b[0m \u001b[0mloss\u001b[0m \u001b[0;34m=\u001b[0m \u001b[0mself\u001b[0m\u001b[0;34m.\u001b[0m\u001b[0mscale_factor\u001b[0m \u001b[0;34m*\u001b[0m \u001b[0;34m(\u001b[0m\u001b[0mon_diag\u001b[0m \u001b[0;34m+\u001b[0m \u001b[0mself\u001b[0m\u001b[0;34m.\u001b[0m\u001b[0mlambd\u001b[0m \u001b[0;34m*\u001b[0m \u001b[0moff_diag\u001b[0m\u001b[0;34m)\u001b[0m\u001b[0;34m\u001b[0m\u001b[0;34m\u001b[0m\u001b[0m\n",
      "\u001b[0;31mNameError\u001b[0m: name 'c' is not defined"
     ]
    }
   ],
   "source": [
    "        on_diag = torch.diagonal(c).add_(-1).pow_(2).sum()\n",
    "        off_diag = off_diagonal(c).pow_(2).sum()\n",
    "        loss = self.scale_factor * (on_diag + self.lambd * off_diag)"
   ]
  },
  {
   "cell_type": "code",
   "execution_count": 7,
   "id": "ba917f63",
   "metadata": {},
   "outputs": [],
   "source": [
    "def get_off_scale(d):\n",
    "    return d/(d**2 - d)"
   ]
  },
  {
   "cell_type": "code",
   "execution_count": 8,
   "id": "7480be8a",
   "metadata": {},
   "outputs": [
    {
     "name": "stdout",
     "output_type": "stream",
     "text": [
      "1.000000 : 40.983607 = 1 / 0.0244\n",
      "0.333333 : 13.661202 = 1 / 0.024399999999999998\n",
      "0.142857 : 5.854801 = 1 / 0.0244\n",
      "0.066667 : 2.732240 = 1 / 0.024400000000000005\n",
      "0.032258 : 1.322052 = 1 / 0.0244\n",
      "0.007874 : 0.322706 = 1 / 0.0244\n",
      "0.003922 : 0.160720 = 1 / 0.0244\n",
      "0.001957 : 0.080203 = 1 / 0.0244\n",
      "0.000978 : 0.040062 = 1 / 0.0244\n",
      "0.000489 : 0.020021 = 1 / 0.0244\n",
      "0.000244 : 0.010008 = 1 / 0.0244\n",
      "0.000122 : 0.005003 = 1 / 0.024399999999999998\n"
     ]
    }
   ],
   "source": [
    "dims = [2, 4, 8, 16, 32, 128, 256, 512, 1024, 2048, 4096, 8192]\n",
    "for d in dims:\n",
    "    l1 = get_off_scale(d)\n",
    "    l2 = calc_lambda(d)\n",
    "    print(\"{:.6f} : {:.6f} = 1 / {}\".format(l1, l2, l1/l2))"
   ]
  },
  {
   "cell_type": "code",
   "execution_count": 9,
   "id": "3f9b053f",
   "metadata": {},
   "outputs": [
    {
     "name": "stdout",
     "output_type": "stream",
     "text": [
      "  on      off       l  l*off\n",
      "#############################\n",
      "   2        2 1.00000    2.0\n",
      "   4       12 0.33333    4.0\n",
      "   8       56 0.14286    8.0\n",
      "  16      240 0.06667   16.0\n",
      "  32      992 0.03226   32.0\n",
      " 128    16256 0.00787  128.0\n",
      " 256    65280 0.00392  256.0\n",
      " 512   261632 0.00196  512.0\n",
      "1024  1047552 0.00098 1024.0\n",
      "2048  4192256 0.00049 2048.0\n",
      "4096 16773120 0.00024 4096.0\n",
      "8192 67100672 0.00012 8192.0\n"
     ]
    }
   ],
   "source": [
    "print(\"{:>4} {:>8} {:>7} {:>6}\".format(\"on\", \"off\", \"l\", \"l*off\"))\n",
    "print(\"#\"*(5+9+8+7))\n",
    "for d in dims:\n",
    "    n_on = d\n",
    "    n_of = d**2 - d\n",
    "    lmbda = get_off_scale(d)\n",
    "    print(\"{:>4d} {:>8d} {:7.5f} {:>6}\".format(n_on, n_of, lmbda, lmbda * n_of))"
   ]
  },
  {
   "cell_type": "code",
   "execution_count": 10,
   "id": "eb96037d",
   "metadata": {},
   "outputs": [
    {
     "ename": "NameError",
     "evalue": "name 'w_off' is not defined",
     "output_type": "error",
     "traceback": [
      "\u001b[0;31m---------------------------------------------------------------------------\u001b[0m",
      "\u001b[0;31mNameError\u001b[0m                                 Traceback (most recent call last)",
      "\u001b[0;32m/tmp/ipykernel_35432/3646293754.py\u001b[0m in \u001b[0;36m<module>\u001b[0;34m\u001b[0m\n\u001b[0;32m----> 1\u001b[0;31m \u001b[0mprint\u001b[0m\u001b[0;34m(\u001b[0m\u001b[0mw_off\u001b[0m\u001b[0;34m)\u001b[0m\u001b[0;34m\u001b[0m\u001b[0;34m\u001b[0m\u001b[0m\n\u001b[0m\u001b[1;32m      2\u001b[0m \u001b[0;32mfor\u001b[0m \u001b[0md\u001b[0m \u001b[0;32min\u001b[0m \u001b[0mdims\u001b[0m\u001b[0;34m:\u001b[0m\u001b[0;34m\u001b[0m\u001b[0;34m\u001b[0m\u001b[0m\n\u001b[1;32m      3\u001b[0m     \u001b[0ml1\u001b[0m \u001b[0;34m=\u001b[0m \u001b[0mget_off_scale\u001b[0m\u001b[0;34m(\u001b[0m\u001b[0md\u001b[0m\u001b[0;34m)\u001b[0m\u001b[0;34m\u001b[0m\u001b[0;34m\u001b[0m\u001b[0m\n\u001b[1;32m      4\u001b[0m     \u001b[0ml2\u001b[0m \u001b[0;34m=\u001b[0m \u001b[0mcalc_lambda\u001b[0m\u001b[0;34m(\u001b[0m\u001b[0md\u001b[0m\u001b[0;34m)\u001b[0m\u001b[0;34m\u001b[0m\u001b[0;34m\u001b[0m\u001b[0m\n\u001b[1;32m      5\u001b[0m     \u001b[0ml3\u001b[0m \u001b[0;34m=\u001b[0m \u001b[0ml1\u001b[0m \u001b[0;34m*\u001b[0m \u001b[0mw_off\u001b[0m\u001b[0;34m\u001b[0m\u001b[0;34m\u001b[0m\u001b[0m\n",
      "\u001b[0;31mNameError\u001b[0m: name 'w_off' is not defined"
     ]
    }
   ],
   "source": [
    "print(w_off)\n",
    "for d in dims:\n",
    "    l1 = get_off_scale(d)\n",
    "    l2 = calc_lambda(d)\n",
    "    l3 = l1 * w_off\n",
    "    print(\"{:.5f} {:.5f} {:.5f}\".format(l1, l2, l3))"
   ]
  },
  {
   "cell_type": "code",
   "execution_count": 11,
   "id": "9e4dd436",
   "metadata": {},
   "outputs": [],
   "source": [
    "c = torch.diag(torch.ones(5))\n",
    "c = torch.ones((4, 4))"
   ]
  },
  {
   "cell_type": "code",
   "execution_count": null,
   "id": "11e3c2d6",
   "metadata": {},
   "outputs": [],
   "source": [
    "def cc_loss(c):\n",
    "    loss_on = torch.diagonal(c).add(-1).pow(2).sum()\n",
    "    loss_off = off_diagonal(c).pow(2).sum()\n",
    "    return loss_on + loss_off, loss_on, loss_off\n",
    "    #return (torch.diag(c) - 1).mean()"
   ]
  },
  {
   "cell_type": "code",
   "execution_count": null,
   "id": "c43e935b",
   "metadata": {},
   "outputs": [],
   "source": [
    "d = 8\n",
    "w_off = get_off_scale(d)\n",
    "lamda = 1 / 0.0244\n",
    "c = torch.ones((8, 8))\n",
    "#\n",
    "on_diag = torch.diagonal(c).mean()\n",
    "off_diag = off_diagonal(c).mean()"
   ]
  },
  {
   "cell_type": "code",
   "execution_count": null,
   "id": "fc49f1d1",
   "metadata": {},
   "outputs": [],
   "source": [
    "on_diag"
   ]
  },
  {
   "cell_type": "code",
   "execution_count": null,
   "id": "0462b17c",
   "metadata": {},
   "outputs": [],
   "source": [
    "off_diag"
   ]
  },
  {
   "cell_type": "code",
   "execution_count": null,
   "id": "5b1574c6",
   "metadata": {},
   "outputs": [],
   "source": [
    "on_diag "
   ]
  },
  {
   "cell_type": "code",
   "execution_count": null,
   "id": "eed75316",
   "metadata": {},
   "outputs": [],
   "source": [
    "off_diag * w_off"
   ]
  },
  {
   "cell_type": "code",
   "execution_count": 12,
   "id": "6099e8bc",
   "metadata": {},
   "outputs": [],
   "source": [
    "# PAPER\n",
    "lambd = 0.0051\n",
    "#\n",
    "d = 8192\n",
    "n_on = d\n",
    "n_off = d**2 - d\n",
    "n_on / (n_off * lambd)\n",
    "#\n",
    "c = torch.ones((d, d))"
   ]
  },
  {
   "cell_type": "code",
   "execution_count": 13,
   "id": "a0c9fc4b",
   "metadata": {},
   "outputs": [
    {
     "data": {
      "text/plain": [
       "41.774100000000004"
      ]
     },
     "execution_count": 13,
     "metadata": {},
     "output_type": "execute_result"
    }
   ],
   "source": [
    "w_off = 41.774\n",
    "(n_off * lambd) / n_on"
   ]
  },
  {
   "cell_type": "code",
   "execution_count": 14,
   "id": "65335f81",
   "metadata": {},
   "outputs": [],
   "source": [
    "# they use sum\n",
    "def cc_loss_paper(c, lambd):\n",
    "    on_diag = torch.diagonal(c).add(-1).pow(2).sum()\n",
    "    off_diag = off_diagonal(c).pow(2).sum() * lambd\n",
    "    loss = on_diag + off_diag\n",
    "    return loss, on_diag, off_diag\n",
    "\n",
    "def cc_loss_1(c, woff):\n",
    "    on_diag = torch.diagonal(c).add(-1).pow(2).mean()\n",
    "    off_diag = off_diagonal(c).pow(2).mean()\n",
    "    loss = on_diag + off_diag\n",
    "    return loss, on_diag, off_diag"
   ]
  },
  {
   "cell_type": "code",
   "execution_count": 15,
   "id": "3a686718",
   "metadata": {},
   "outputs": [
    {
     "data": {
      "text/plain": [
       "tensor([0., 0., 0.,  ..., 0., 0., 0.])"
      ]
     },
     "execution_count": 15,
     "metadata": {},
     "output_type": "execute_result"
    }
   ],
   "source": [
    "c_rand = torch.rand((d, d))\n",
    "c_best = torch.zeros((d, d))\n",
    "torch.diagonal(c_best).add_(1)\n",
    "c_worst = torch.ones((d, d))\n",
    "torch.diagonal(c_worst).add_(-1)"
   ]
  },
  {
   "cell_type": "code",
   "execution_count": 16,
   "id": "8d23a0cd",
   "metadata": {},
   "outputs": [
    {
     "ename": "TypeError",
     "evalue": "cc_loss_1() missing 1 required positional argument: 'woff'",
     "output_type": "error",
     "traceback": [
      "\u001b[0;31m---------------------------------------------------------------------------\u001b[0m",
      "\u001b[0;31mTypeError\u001b[0m                                 Traceback (most recent call last)",
      "\u001b[0;32m/tmp/ipykernel_35432/3472719107.py\u001b[0m in \u001b[0;36m<module>\u001b[0;34m\u001b[0m\n\u001b[1;32m      1\u001b[0m \u001b[0;32mfor\u001b[0m \u001b[0mc\u001b[0m \u001b[0;32min\u001b[0m \u001b[0;34m[\u001b[0m\u001b[0mc_rand\u001b[0m\u001b[0;34m,\u001b[0m \u001b[0mc_best\u001b[0m\u001b[0;34m,\u001b[0m \u001b[0mc_worst\u001b[0m\u001b[0;34m]\u001b[0m\u001b[0;34m:\u001b[0m\u001b[0;34m\u001b[0m\u001b[0;34m\u001b[0m\u001b[0m\n\u001b[0;32m----> 2\u001b[0;31m     \u001b[0ml\u001b[0m\u001b[0;34m,\u001b[0m \u001b[0ml_on\u001b[0m\u001b[0;34m,\u001b[0m \u001b[0ml_off\u001b[0m \u001b[0;34m=\u001b[0m \u001b[0mcc_loss_1\u001b[0m\u001b[0;34m(\u001b[0m\u001b[0mc\u001b[0m\u001b[0;34m)\u001b[0m\u001b[0;34m\u001b[0m\u001b[0;34m\u001b[0m\u001b[0m\n\u001b[0m\u001b[1;32m      3\u001b[0m     \u001b[0mprint\u001b[0m\u001b[0;34m(\u001b[0m\u001b[0ml\u001b[0m\u001b[0;34m,\u001b[0m \u001b[0ml_on\u001b[0m\u001b[0;34m,\u001b[0m \u001b[0ml_off\u001b[0m\u001b[0;34m)\u001b[0m\u001b[0;34m\u001b[0m\u001b[0;34m\u001b[0m\u001b[0m\n",
      "\u001b[0;31mTypeError\u001b[0m: cc_loss_1() missing 1 required positional argument: 'woff'"
     ]
    }
   ],
   "source": [
    "for c in [c_rand, c_best, c_worst]:\n",
    "    l, l_on, l_off = cc_loss_1(c)\n",
    "    print(l, l_on, l_off)"
   ]
  },
  {
   "cell_type": "code",
   "execution_count": 17,
   "id": "f7e1d37b",
   "metadata": {},
   "outputs": [
    {
     "name": "stdout",
     "output_type": "stream",
     "text": [
      "tensor(116729.5469) tensor(2673.0620) tensor(114056.4844)\n",
      "tensor(0.) tensor(0.) tensor(0.)\n",
      "tensor(350405.4375) tensor(8192.) tensor(342213.4375)\n"
     ]
    }
   ],
   "source": [
    "for c in [c_rand, c_best, c_worst]:\n",
    "    l, l_on, l_off = cc_loss_paper(c, lambd)\n",
    "    print(l, l_on , l_off)"
   ]
  },
  {
   "cell_type": "code",
   "execution_count": 18,
   "id": "4a001313",
   "metadata": {},
   "outputs": [
    {
     "data": {
      "text/plain": [
       "tensor(41.7741)"
      ]
     },
     "execution_count": 18,
     "metadata": {},
     "output_type": "execute_result"
    }
   ],
   "source": [
    "l_off / l_on"
   ]
  },
  {
   "cell_type": "code",
   "execution_count": 19,
   "id": "cf21157a",
   "metadata": {},
   "outputs": [
    {
     "name": "stdout",
     "output_type": "stream",
     "text": [
      "   2:  40.9836 on/off=0.0244 off/on= 40.9836\n",
      "   4:  13.6612 on/off=0.0244 off/on= 40.9836\n",
      "   8:   5.8548 on/off=0.0244 off/on= 40.9836\n",
      "  16:   2.7322 on/off=0.0244 off/on= 40.9836\n",
      "  32:   1.3221 on/off=0.0244 off/on= 40.9836\n",
      "  64:   0.6505 on/off=0.0244 off/on= 40.9836\n",
      " 128:   0.3227 on/off=0.0244 off/on= 40.9836\n",
      " 512:   0.0802 on/off=0.0244 off/on= 40.9836\n"
     ]
    }
   ],
   "source": [
    "for d in [2, 4, 8, 16, 32, 64, 128, 512]:\n",
    "    lmbda = calc_lambda(d)\n",
    "    g = d / ((d**2 - d) * lmbda)\n",
    "    h = ((d**2 - d) * lmbda) / d\n",
    "    print(\"{:>4d}: {:8.4f} on/off={:.4f} off/on={:8.4f}\".format(d,lmbda, g, h))"
   ]
  },
  {
   "cell_type": "code",
   "execution_count": null,
   "id": "10e06fdd",
   "metadata": {},
   "outputs": [],
   "source": []
  }
 ],
 "metadata": {
  "kernelspec": {
   "display_name": "Python 3 (ipykernel)",
   "language": "python",
   "name": "python3"
  },
  "language_info": {
   "codemirror_mode": {
    "name": "ipython",
    "version": 3
   },
   "file_extension": ".py",
   "mimetype": "text/x-python",
   "name": "python",
   "nbconvert_exporter": "python",
   "pygments_lexer": "ipython3",
   "version": "3.8.10"
  },
  "latex_envs": {
   "LaTeX_envs_menu_present": true,
   "autoclose": false,
   "autocomplete": true,
   "bibliofile": "biblio.bib",
   "cite_by": "apalike",
   "current_citInitial": 1,
   "eqLabelWithNumbers": true,
   "eqNumInitial": 1,
   "hotkeys": {
    "equation": "Ctrl-E",
    "itemize": "Ctrl-I"
   },
   "labels_anchors": false,
   "latex_user_defs": false,
   "report_style_numbering": false,
   "user_envs_cfg": false
  }
 },
 "nbformat": 4,
 "nbformat_minor": 5
}
