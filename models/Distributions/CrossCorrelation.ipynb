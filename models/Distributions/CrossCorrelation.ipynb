{
 "cells": [
  {
   "cell_type": "code",
   "execution_count": null,
   "id": "9670acdb",
   "metadata": {},
   "outputs": [],
   "source": [
    "import sys\n",
    "sys.path.append(\"..\")\n",
    "from plot_utils import *"
   ]
  },
  {
   "cell_type": "code",
   "execution_count": null,
   "id": "a4a8a747",
   "metadata": {},
   "outputs": [],
   "source": [
    "import numpy as np\n",
    "import time\n",
    "import torch\n",
    "import torch.nn as nn\n",
    "from torch.distributions import Beta\n",
    "from torch.distributions.dirichlet import Dirichlet\n",
    "from tqdm import tqdm\n",
    "#\n",
    "from utils import *\n",
    "from functions import *"
   ]
  },
  {
   "cell_type": "code",
   "execution_count": null,
   "id": "6d63a701",
   "metadata": {},
   "outputs": [],
   "source": [
    "a, b = torch.Tensor([.1]), torch.Tensor([.1])\n",
    "d = Beta(a, b)\n",
    "n_samples = 1000\n",
    "bn = nn.BatchNorm1d(1, affine=False)\n",
    "x1 = d.sample((n_samples, ))\n",
    "x2 = d.sample((n_samples, ))\n",
    "simplex_plot(x1)\n",
    "simplex_plot(x2)\n",
    "plot_beta_pdf(d, \"True\")"
   ]
  },
  {
   "cell_type": "markdown",
   "id": "82ef4f37",
   "metadata": {},
   "source": [
    "# No COrrelation"
   ]
  },
  {
   "cell_type": "code",
   "execution_count": null,
   "id": "78d081e3",
   "metadata": {},
   "outputs": [],
   "source": [
    "def cc_matrix(x1, x2):\n",
    "    x1 = reshape_(x1)\n",
    "    x2 = reshape_(x2)\n",
    "    c = x1.T @ x2\n",
    "    c.div_(x1.shape[0])\n",
    "    return c\n",
    "\n",
    "def reshape_(x):\n",
    "    if len(x.shape) == 1:\n",
    "        x = x.reshape((-1, 1))\n",
    "    return x"
   ]
  },
  {
   "cell_type": "code",
   "execution_count": null,
   "id": "e1b166e7",
   "metadata": {},
   "outputs": [],
   "source": [
    "x1 = torch.rand((1000,)) * 2 - 1\n",
    "x2 = torch.rand((1000,)) * 2 - 1\n",
    "#\n",
    "x1 = (x1 - x1.mean()) / x1.std()\n",
    "x2 = (x2 - x2.mean()) / x2.std()"
   ]
  },
  {
   "cell_type": "code",
   "execution_count": null,
   "id": "247cee06",
   "metadata": {},
   "outputs": [],
   "source": [
    "cc_matrix(x1, x2)"
   ]
  },
  {
   "cell_type": "markdown",
   "id": "9cff95f2",
   "metadata": {},
   "source": [
    "# SINUS CROSS CORRELATION"
   ]
  },
  {
   "cell_type": "code",
   "execution_count": null,
   "id": "c1aa4ad6",
   "metadata": {},
   "outputs": [],
   "source": [
    "def mean_var(x, axis=0):\n",
    "    x = np.array(x)\n",
    "    print(\"mu={:.3f} var={:.3f}\".format(float(x.mean(axis=0)),\n",
    "                                        float(x.var(axis=0))))\n",
    "\n",
    "def cc_matrix(x1, x2):\n",
    "    x1 = reshape_(x1)\n",
    "    x2 = reshape_(x2)\n",
    "    c = x1.T @ x2\n",
    "    c.div_(x1.shape[0])\n",
    "    return c\n",
    "\n",
    "def reshape_(x):\n",
    "    if len(x.shape) == 1:\n",
    "        x = x.reshape((-1, 1))\n",
    "    return x\n",
    "\n",
    "def cc_bn(x1, x2, debug=False, eps=1e-5):\n",
    "    x1 = reshape_(x1)\n",
    "    x2 = reshape_(x2)\n",
    "    \n",
    "    bn = torch.nn.BatchNorm1d(x1.shape[1], affine=False, eps=eps)\n",
    "    x1 = bn(x1)\n",
    "    bn = torch.nn.BatchNorm1d(x1.shape[1], affine=False, eps=eps)\n",
    "    x2 = bn(x2)\n",
    "    if debug:\n",
    "        print(\"bn(X1)\", x1.mean(axis=0), x1.var(axis=0))\n",
    "        print(\"bn(X2)\", x2.mean(axis=0), x1.var(axis=0))\n",
    "    #\n",
    "    return cc_matrix(x1, x2)\n",
    "\n",
    "def cc_norm(x1, x2, debug=False, eps=1e-5):\n",
    "    x1 = reshape_(x1)\n",
    "    x2 = reshape_(x2)\n",
    "    \n",
    "    # recenter\n",
    "    #x1 = x1 - x1.mean()\n",
    "    #x2 = x2 - x2.mean()\n",
    "    \n",
    "    # unit variance\n",
    "    if eps > 0:\n",
    "        x1 = (x1 - x1.mean(axis=0)) / torch.sqrt(x1.var(axis=0) + eps)\n",
    "        x2 = (x2 - x2.mean(axis=0)) / torch.sqrt(x2.var(axis=0) + eps)\n",
    "    else:\n",
    "        x1 = (x1 - x1.mean(axis=0)) / x1.std()\n",
    "        x2 = (x2 - x2.mean(axis=0)) / x2.std()\n",
    "    \n",
    "    if debug:\n",
    "        print(\"mv(X1)\", x1.mean(axis=0), x1.var(axis=0))\n",
    "        print(\"mv(X2)\", x2.mean(axis=0), x1.var(axis=0))\n",
    "    #\n",
    "    return cc_matrix(x1, x2)\n",
    "\n",
    "def cc_norm2(x1, x2, debug=False, eps=1e-5):\n",
    "    x1 = reshape_(x1)\n",
    "    x2 = reshape_(x2)\n",
    "    \n",
    "    # recenter\n",
    "    x1 = x1 - x1.mean(axis=0)\n",
    "    x2 = x2 - x2.mean(axis=0)\n",
    "    \n",
    "    # unit variance\n",
    "    if eps > 0:\n",
    "        x1 = x1 / torch.sqrt(x1.var(axis=0) + eps)\n",
    "        x2 = x2 / torch.sqrt(x2.var(axis=0) + eps)\n",
    "    else:\n",
    "        x1 = x1 / x1.std()\n",
    "        x2 = x2 / x2.std()\n",
    "    \n",
    "    if debug:\n",
    "        print(\"mv(X1)\", x1.mean(axis=0), x1.var(axis=0))\n",
    "        print(\"mv(X2)\", x2.mean(axis=0), x1.var(axis=0))\n",
    "    #\n",
    "    return cc_matrix(x1, x2)"
   ]
  },
  {
   "cell_type": "code",
   "execution_count": null,
   "id": "de17b2db",
   "metadata": {},
   "outputs": [],
   "source": [
    "n_samples = 300\n",
    "xx = torch.linspace(0, 4*np.pi, n_samples)\n",
    "x_sin_1 = torch.sin(xx + 0.5) + 0.1\n",
    "x_sin_2 = 2 * torch.sin(xx - 0.2) - 1\n",
    "x_ran_1 = 2 * torch.rand((n_samples,)) + 1\n",
    "#\n",
    "scatter([x_sin_1, x_sin_2, x_ran_1])\n",
    "#\n",
    "mean_var(x_sin_1)\n",
    "mean_var(x_sin_2)\n",
    "mean_var(x_ran_1)"
   ]
  },
  {
   "cell_type": "code",
   "execution_count": null,
   "id": "7f2a169a",
   "metadata": {},
   "outputs": [],
   "source": [
    "# PERFECTLY CORRELATED\n",
    "x1 = x_sin_2\n",
    "x2 = x_sin_2\n",
    "scatter([x1, x2])\n",
    "eps = 1e-9\n",
    "\n",
    "c_bn = cc_bn(x1, x2, True, eps)\n",
    "print(c_bn)\n",
    "#\n",
    "c_norm = cc_norm(x1, x2, True,eps)\n",
    "print(c_norm)"
   ]
  },
  {
   "cell_type": "code",
   "execution_count": null,
   "id": "4089ea97",
   "metadata": {},
   "outputs": [],
   "source": [
    "# PERFECTLY NEGATIVLY CORRELATED\n",
    "x1 = x_sin_2\n",
    "x2 = -x_sin_2\n",
    "scatter([x1, x2])\n",
    "c_bn = cc_bn(x1, x2, True)\n",
    "print(c_bn)\n",
    "#\n",
    "c_norm = cc_norm(x1, x2, True)\n",
    "print(c_norm)"
   ]
  },
  {
   "cell_type": "code",
   "execution_count": null,
   "id": "2d76ba61",
   "metadata": {},
   "outputs": [],
   "source": [
    "# SOMEHOW CORRELATED\n",
    "x1 = x_sin_1\n",
    "x2 = x_sin_2\n",
    "scatter([x1, x2])\n",
    "c_bn = cc_bn(x1, x2, True)\n",
    "print(c_bn)\n",
    "#\n",
    "c_norm = cc_norm(x1, x2, True)\n",
    "print(c_norm)"
   ]
  },
  {
   "cell_type": "code",
   "execution_count": null,
   "id": "5262e5b8",
   "metadata": {},
   "outputs": [],
   "source": [
    "# NOT CORRELATED\n",
    "x1 = x_sin_2\n",
    "x2 = x_ran_1\n",
    "scatter([x1, x2])\n",
    "c_bn = cc_bn(x1, x2, True)\n",
    "print(c_bn)\n",
    "#\n",
    "c_norm = cc_norm(x1, x2, True)\n",
    "print(c_norm)"
   ]
  },
  {
   "cell_type": "code",
   "execution_count": null,
   "id": "8991f225",
   "metadata": {},
   "outputs": [],
   "source": [
    "# constant values\n",
    "n_samples  = 10000\n",
    "x1 = torch.rand((n_samples,)) * 2 + 10\n",
    "x2 = torch.rand((n_samples,)) / 2 - 3\n",
    "#\n",
    "scatter([x1, x2])\n",
    "#\n",
    "c_norm = cc_norm(x1, x2, False)\n",
    "print(c_norm)"
   ]
  },
  {
   "cell_type": "markdown",
   "id": "65518ba2",
   "metadata": {},
   "source": [
    "# CC"
   ]
  },
  {
   "cell_type": "code",
   "execution_count": null,
   "id": "e8b3a4d1",
   "metadata": {},
   "outputs": [],
   "source": [
    "n_samples = 300\n",
    "xx = torch.linspace(0, 4*np.pi, n_samples)\n",
    "x_sin_1 = torch.sin(xx + 0.5) + 0.1\n",
    "x_sin_2 = 2 * torch.sin(xx - 0.2) - 1\n",
    "x_ran_1 = 2 * torch.rand((n_samples,)) + 1\n",
    "#\n",
    "scatter([x_sin_1, x_sin_2, x_ran_1])\n",
    "#\n",
    "mean_var(x_sin_1)\n",
    "mean_var(x_sin_2)\n",
    "mean_var(x_ran_1)"
   ]
  },
  {
   "cell_type": "code",
   "execution_count": null,
   "id": "7faa66c9",
   "metadata": {},
   "outputs": [],
   "source": [
    "n_samples = 300\n",
    "#\n",
    "xx = torch.linspace(0, 4*np.pi, n_samples)\n",
    "#\n",
    "x_const = torch.ones((n_samples,))\n",
    "x_zero = torch.zeros((n_samples, ))\n",
    "x_rand = torch.rand((n_samples,))\n",
    "#\n",
    "x1 = torch.sin(xx + 0.5) + 0.1\n",
    "x2 = torch.sin(xx + 0.8) - 1\n",
    "x3 = torch.cos(xx + 3) * 2 + 2\n",
    "#\n",
    "scatter([x1,x2,x3, x1+x2])\n",
    "#\n",
    "print(cc_norm(x1, x2))\n",
    "print(cc_norm(x1, x_rand))\n",
    "print(cc_norm(x2, x_rand))\n",
    "print(cc_norm(x1 + x2, x_rand))"
   ]
  },
  {
   "cell_type": "code",
   "execution_count": null,
   "id": "b41b4a9c",
   "metadata": {},
   "outputs": [],
   "source": [
    "z = torch.Tensor([[0.2, 0.4, 0.8, 2, 0.1]])\n",
    "torch.nn.Softmax(dim=1)(z)"
   ]
  },
  {
   "cell_type": "markdown",
   "id": "e39cf5ca",
   "metadata": {},
   "source": [
    "# Beta"
   ]
  },
  {
   "cell_type": "code",
   "execution_count": null,
   "id": "5fec1175",
   "metadata": {},
   "outputs": [],
   "source": [
    "a, b = torch.Tensor([.1]), torch.Tensor([.9])\n",
    "dist = Beta(a, b)\n",
    "n_samples = 512\n",
    "x = dist.sample((n_samples, ))\n",
    "simplex_plot(x)\n",
    "plot_beta_pdf(dist)"
   ]
  },
  {
   "cell_type": "code",
   "execution_count": null,
   "id": "205e02be",
   "metadata": {},
   "outputs": [],
   "source": [
    "n_samples = 10000\n",
    "x1 = dist.sample((n_samples, ))\n",
    "x2 = dist.sample((n_samples, ))\n",
    "\n",
    "print(dist.mean, dist.variance)\n",
    "mean_var(x1)\n",
    "mean_var(x2)"
   ]
  },
  {
   "cell_type": "code",
   "execution_count": null,
   "id": "06bcee45",
   "metadata": {},
   "outputs": [],
   "source": [
    "xn1 = (x1 - dist.mean) / torch.sqrt(dist.variance)\n",
    "xn2 = (x2 - dist.mean) / torch.sqrt(dist.variance)"
   ]
  },
  {
   "cell_type": "code",
   "execution_count": null,
   "id": "e403fb49",
   "metadata": {},
   "outputs": [],
   "source": [
    "cc_matrix(xn1, xn2)"
   ]
  },
  {
   "cell_type": "code",
   "execution_count": null,
   "id": "aea3792c",
   "metadata": {},
   "outputs": [],
   "source": [
    "cc_bn(x1, x2)"
   ]
  },
  {
   "cell_type": "code",
   "execution_count": null,
   "id": "b08230b2",
   "metadata": {},
   "outputs": [],
   "source": [
    "cc_norm(x1, x2)"
   ]
  },
  {
   "cell_type": "code",
   "execution_count": null,
   "id": "9d772bcd",
   "metadata": {},
   "outputs": [],
   "source": [
    "n_samples = [50, 100, 500, 1000]\n",
    "n_simulations = 50000\n",
    "\n",
    "errs = []\n",
    "pbar = tqdm(total=len(n_samples) * n_simulations)\n",
    "for n in n_samples:\n",
    "    for _ in range(n_simulations):\n",
    "        x1 = dist.sample((n, ))\n",
    "        x2 = dist.sample((n, ))\n",
    "        #\n",
    "        xn1 = (x1 - d.mean) / torch.sqrt(d.variance)\n",
    "        xn2 = (x2 - d.mean) / torch.sqrt(d.variance)\n",
    "        #\n",
    "        cc = cc_matrix(xn1, xn2)\n",
    "        if cc > 1 or cc < -1:\n",
    "            errs.append((cc.item(), n))\n",
    "        #time.sleep(0.1)\n",
    "        pbar.update(1)\n",
    "pbar.close()"
   ]
  },
  {
   "cell_type": "code",
   "execution_count": null,
   "id": "99bb3cb6",
   "metadata": {},
   "outputs": [],
   "source": [
    "pbar.close()"
   ]
  },
  {
   "cell_type": "code",
   "execution_count": null,
   "id": "a244bf08",
   "metadata": {},
   "outputs": [],
   "source": [
    "for cc, n in errs:\n",
    "    print(\"cc={:.2f}, n={}\".format(cc, n))"
   ]
  },
  {
   "cell_type": "code",
   "execution_count": null,
   "id": "ff4eab4a",
   "metadata": {},
   "outputs": [],
   "source": [
    "ds = list(range(2, 11, 1)) + [128, 256, 512, 1024]\n",
    "for d in ds:\n",
    "    n_on_diag = d\n",
    "    n_of_diag = d**2 - d\n",
    "    #\n",
    "    scale_on = 1 / n_on_diag\n",
    "    scale_of = 1 / n_of_diag\n",
    "    #\n",
    "    f_on = n_on_diag * scale_on\n",
    "    f_of = n_of_diag * scale_of\n",
    "    #\n",
    "    #\n",
    "    s = d / (d**2 - d)\n",
    "    #\n",
    "    print(\"{:>4d}:{:>8d}: {:.4f} {:.4f}: ({}:{}) {:.4f}\".format(d, d**2 - d, scale_on, scale_of, f_on, f_of, s))"
   ]
  },
  {
   "cell_type": "code",
   "execution_count": null,
   "id": "76e490b2",
   "metadata": {},
   "outputs": [],
   "source": [
    "72 * 0.125"
   ]
  },
  {
   "cell_type": "code",
   "execution_count": null,
   "id": "68cf9047",
   "metadata": {},
   "outputs": [],
   "source": []
  },
  {
   "cell_type": "markdown",
   "id": "08c39a90",
   "metadata": {},
   "source": [
    "# OLD"
   ]
  },
  {
   "cell_type": "code",
   "execution_count": null,
   "id": "d2bcd41a",
   "metadata": {},
   "outputs": [],
   "source": [
    "c = (x - d.mean).T @ (x - d.mean)\n",
    "c.div_(x.shape[0])\n",
    "c.div_(torch.sqrt(d.variance)**2)\n",
    "print(c)"
   ]
  },
  {
   "cell_type": "code",
   "execution_count": null,
   "id": "dd7221bb",
   "metadata": {},
   "outputs": [],
   "source": [
    "n = 10000\n",
    "x1 = torch.rand(n) * 2 - 1\n",
    "x2 = torch.rand(n) * 2 - 1\n",
    "#\n",
    "mean_var(x1)\n",
    "mean_var(x2)"
   ]
  },
  {
   "cell_type": "code",
   "execution_count": null,
   "id": "83884241",
   "metadata": {},
   "outputs": [],
   "source": [
    "x1 = torch.rand(n) * 2 - 1\n",
    "x2 = torch.rand(n) * 2 - 1\n",
    "x2 = x1\n",
    "\n",
    "c = (x1 - x1.mean()).T @ (x2 - x2.mean())\n",
    "c.div_(x1.shape[0])\n",
    "c.div_(x1.std() * x2.std()) # in (0, 1)\n",
    "c.add(-1).pow(2)"
   ]
  },
  {
   "cell_type": "code",
   "execution_count": null,
   "id": "88ed1183",
   "metadata": {},
   "outputs": [],
   "source": [
    "c - 1"
   ]
  },
  {
   "cell_type": "code",
   "execution_count": null,
   "id": "680027b8",
   "metadata": {},
   "outputs": [],
   "source": [
    "ab1 = [\n",
    "    torch.Tensor([0.1, 0.2, 0.5, 0.9, 1, 5]),\n",
    "    torch.Tensor([0.9, 0.8, 0.5, 0.1, 5, 1])\n",
    "]\n",
    "ab2 = torch.Tensor([0.1, 0.9])\n",
    "print(kl_beta_beta(ab1, ab2))\n",
    "print(kl_beta_beta(ab2, ab1))\n",
    "print(0.5 * (kl_beta_beta(ab1, ab2) + kl_beta_beta(ab2, ab1)))"
   ]
  },
  {
   "cell_type": "code",
   "execution_count": null,
   "id": "ca92cf17",
   "metadata": {},
   "outputs": [],
   "source": [
    "def sample_ab(min_val, max_val):\n",
    "    ab = torch.rand(2)\n",
    "    if torch.rand(1) > 0.25:\n",
    "        ab[0] *= max_val\n",
    "    if torch.rand(1) > 0.25:\n",
    "        ab[1] *= max_val\n",
    "    ab = torch.maximum(ab, torch.Tensor([min_val]))\n",
    "    return ab\n",
    "\n",
    "def dJD(ab1, ab2):\n",
    "    return 0.5 * (kl_beta_beta(ab1, ab2) + kl_beta_beta(ab2, ab1))"
   ]
  },
  {
   "cell_type": "code",
   "execution_count": null,
   "id": "65853776",
   "metadata": {},
   "outputs": [],
   "source": [
    "n_simulations  = 100\n",
    "min_ab = 1e-3\n",
    "max_ab = 50\n",
    "dkl = []\n",
    "djd = []\n",
    "for idx in range(n_simulations):\n",
    "    ab1 = sample_ab(min_ab, max_ab)\n",
    "    ab2 = sample_ab(min_ab, max_ab)\n",
    "    dkl.append(kl_beta_beta(ab1, ab2))\n",
    "    djd.append(dJD(ab1, ab2))"
   ]
  },
  {
   "cell_type": "code",
   "execution_count": null,
   "id": "a6e62c4b",
   "metadata": {},
   "outputs": [],
   "source": [
    "print(min(dkl), max(dkl))\n",
    "print(min(djd), max(djd))"
   ]
  },
  {
   "cell_type": "code",
   "execution_count": null,
   "id": "be283389",
   "metadata": {},
   "outputs": [],
   "source": []
  }
 ],
 "metadata": {
  "kernelspec": {
   "display_name": "Python 3 (ipykernel)",
   "language": "python",
   "name": "python3"
  },
  "language_info": {
   "codemirror_mode": {
    "name": "ipython",
    "version": 3
   },
   "file_extension": ".py",
   "mimetype": "text/x-python",
   "name": "python",
   "nbconvert_exporter": "python",
   "pygments_lexer": "ipython3",
   "version": "3.8.10"
  },
  "latex_envs": {
   "LaTeX_envs_menu_present": true,
   "autoclose": false,
   "autocomplete": true,
   "bibliofile": "biblio.bib",
   "cite_by": "apalike",
   "current_citInitial": 1,
   "eqLabelWithNumbers": true,
   "eqNumInitial": 1,
   "hotkeys": {
    "equation": "Ctrl-E",
    "itemize": "Ctrl-I"
   },
   "labels_anchors": false,
   "latex_user_defs": false,
   "report_style_numbering": false,
   "user_envs_cfg": false
  }
 },
 "nbformat": 4,
 "nbformat_minor": 5
}
