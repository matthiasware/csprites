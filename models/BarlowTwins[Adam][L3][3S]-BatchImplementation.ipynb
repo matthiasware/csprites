{
 "cells": [
  {
   "cell_type": "code",
   "execution_count": null,
   "id": "a5f7af7f",
   "metadata": {},
   "outputs": [],
   "source": [
    "%load_ext autoreload\n",
    "%autoreload 2"
   ]
  },
  {
   "cell_type": "code",
   "execution_count": null,
   "id": "d89b77a2",
   "metadata": {},
   "outputs": [],
   "source": [
    "import sys\n",
    "sys.path.append(\"..\")"
   ]
  },
  {
   "cell_type": "code",
   "execution_count": null,
   "id": "b05c0113",
   "metadata": {},
   "outputs": [],
   "source": [
    "# Python\n",
    "from pathlib import Path\n",
    "import os\n",
    "import warnings\n",
    "import math\n",
    "import datetime\n",
    "import time\n",
    "warnings.filterwarnings('ignore')\n",
    "\n",
    "# TORCH\n",
    "import torch\n",
    "import torch.nn as nn\n",
    "import torch.nn.functional as F\n",
    "from torch.utils.data import DataLoader\n",
    "import torchvision\n",
    "from torchvision.models.resnet import resnet18\n",
    "\n",
    "# MISC\n",
    "from tqdm import tqdm\n",
    "import pprint\n",
    "import numpy as np\n",
    "import matplotlib.pyplot as plt\n",
    "from sklearn.neighbors import KNeighborsClassifier\n",
    "from sklearn.linear_model import LogisticRegression\n",
    "from dotted_dict import DottedDict\n",
    "import pickle\n",
    "\n",
    "from BTwins.utils import calc_lambda\n",
    "from BTwins.barlow import *\n",
    "from BTwins.transform_utils import *\n",
    "from csprites.datasets import ClassificationDataset\n",
    "import utils\n",
    "from backbone import get_backbone\n",
    "from optimizer import get_optimizer\n",
    "from Beta.models import get_projector"
   ]
  },
  {
   "cell_type": "markdown",
   "id": "3dae7416",
   "metadata": {},
   "source": [
    "# TODO\n",
    "- same augmentation setting as in baselines\n",
    "- search over csg splits\n",
    "    - content: 0.1 -> 0.9\n",
    "    - style: 0.1 -> 0.9 of (1 - content)\n"
   ]
  },
  {
   "cell_type": "code",
   "execution_count": null,
   "id": "89b78a73",
   "metadata": {},
   "outputs": [],
   "source": [
    "config = {\n",
    "    'device': 'cuda',\n",
    "    'cuda_visible_devices': '1',\n",
    "    'p_data': '/mnt/data/csprites/single_csprites_64x64_n7_c32_a32_p30_s3_bg_inf_random_function_70000',\n",
    "    #'p_data': '/mnt/data/csprites/single_csprites_64x64_n7_c32_a16_p38_s1_bg_1_constant_color_70000/',\n",
    "    'target_variable': 'shape',\n",
    "    'batch_size': 512,\n",
    "    'num_workers': 20,\n",
    "    'num_epochs': 20,\n",
    "    'freqs': {\n",
    "        'ckpt': 50,         # epochs\n",
    "        'linprob': 5,       # epochs\n",
    "    },\n",
    "    'num_vis': 64,\n",
    "    'backbone': \"FCN16i223o64\",\n",
    "    'backbone_args': {\n",
    "        'ch_last': 64,\n",
    "        'dim_in': 3,\n",
    "    },\n",
    "    'dim_out': 64,\n",
    "    'optimizer': 'adam',\n",
    "    'optimizer_args': {\n",
    "        'lr': 0.001,\n",
    "        'weight_decay': 1e-6\n",
    "    },\n",
    "    'projector': [256,\n",
    "                  256,\n",
    "                  256],\n",
    "    'cnt_overlap': 0.0,\n",
    "    'ratio_stl_geo': 0.5,\n",
    "    'p_ckpts': \"ckpts\",\n",
    "    'p_model': \"model_{}.ckpt\",\n",
    "    'p_stats': \"stats.pkl\",\n",
    "    'p_config': 'config.pkl',\n",
    "    'p_R_train': 'R_train.npy',\n",
    "    'p_R_valid': 'R_valid.npy',\n",
    "    'p_Y_valid': 'Y_valid.npy',\n",
    "    'p_Y_train': 'Y_train.npy',\n",
    "}\n",
    "p_base = Path(\"/mnt/experiments/csprites\") / Path(config[\"p_data\"]).name / \"tmp\"\n",
    "#\n",
    "ts = time.time()\n",
    "st = datetime.datetime.fromtimestamp(ts).strftime('%Y-%m-%d_%H-%M-%S')\n",
    "#\n",
    "config[\"p_experiment\"] = str(p_base / \"BT_[{}_d{}]_[S3]_{}\".format(\n",
    "    config[\"backbone\"],\n",
    "    config[\"backbone_args\"][\"ch_last\"],\n",
    "    st\n",
    "    )\n",
    "                            )\n",
    "config = DottedDict(config)\n",
    "pprint.pprint(config)"
   ]
  },
  {
   "cell_type": "code",
   "execution_count": null,
   "id": "671a85b4",
   "metadata": {},
   "outputs": [],
   "source": [
    "# TORCH SETTINGS\n",
    "torch.backends.cudnn.benchmark = True\n",
    "os.environ[\"CUDA_VISIBLE_DEVICES\"] = config.cuda_visible_devices\n",
    "device = torch.device(config.device)"
   ]
  },
  {
   "cell_type": "markdown",
   "id": "b8eff096",
   "metadata": {},
   "source": [
    "# Data"
   ]
  },
  {
   "cell_type": "code",
   "execution_count": null,
   "id": "b54f9494",
   "metadata": {},
   "outputs": [],
   "source": [
    "p_ds_config = Path(config.p_data) / \"config.pkl\"\n",
    "\n",
    "with open(p_ds_config, \"rb\") as file:\n",
    "    ds_config = pickle.load(file)\n",
    "\n",
    "target_variable = config.target_variable\n",
    "target_idx = [idx for idx, target in enumerate(ds_config[\"classes\"]) if target == target_variable][0]\n",
    "n_classes = ds_config[\"n_classes\"][target_variable]"
   ]
  },
  {
   "cell_type": "code",
   "execution_count": null,
   "id": "40c556c7",
   "metadata": {},
   "outputs": [],
   "source": [
    "norm_transform = utils.normalize_transform(\n",
    "    ds_config[\"means\"],\n",
    "    ds_config[\"stds\"])\n",
    "inverse_norm_transform = utils.inverse_normalize_transform(\n",
    "    ds_config[\"means\"],\n",
    "    ds_config[\"stds\"]\n",
    ")\n",
    "target_transform = lambda x: x[target_idx]\n",
    "#\n",
    "init_transform = lambda x: x\n",
    "stl_transform = transforms.Compose([\n",
    "                transforms.RandomApply(\n",
    "                    [transforms.ColorJitter(brightness=(0.8, 1.2),\n",
    "                                            contrast=(0.6, 1.8),\n",
    "                                            saturation=(0.7, 1.3),\n",
    "                                            hue=(-0.5, 0.5))],\n",
    "                    p=1.0\n",
    "                ),\n",
    "                transforms.RandomGrayscale(p=0.1),\n",
    "                GaussianBlur(p=0.3),\n",
    "                Solarization(p=0)\n",
    "])\n",
    "\n",
    "geo_transform = transforms.Compose([\n",
    "    transforms.RandomResizedCrop(ds_config[\"img_size\"],\n",
    "                                 scale=(0.6, 1.5),\n",
    "                                 ratio=(1, 1),\n",
    "                                 interpolation=Image.BICUBIC),\n",
    "                transforms.RandomHorizontalFlip(p=0.5),\n",
    "                transforms.RandomVerticalFlip(p=0.5)\n",
    "])\n",
    "\n",
    "fin_transform = transforms.Compose([\n",
    "                transforms.ToTensor(),\n",
    "                norm_transform\n",
    "            ])\n",
    "\n",
    "train_transform = CSpritesTripleTransform(\n",
    "    init_transform = init_transform,\n",
    "    stl_transform=stl_transform,\n",
    "    geo_transform=geo_transform,\n",
    "    fin_transform=fin_transform\n",
    ")\n",
    "\n",
    "transform_linprob = transforms.Compose([\n",
    "                transforms.Resize(ds_config[\"img_size\"]),\n",
    "                transforms.ToTensor(),\n",
    "                norm_transform\n",
    "            ])"
   ]
  },
  {
   "cell_type": "code",
   "execution_count": null,
   "id": "2bd96ea7",
   "metadata": {},
   "outputs": [],
   "source": [
    "# TRAIN\n",
    "ds_train = ClassificationDataset(\n",
    "    p_data = config.p_data,\n",
    "    transform=train_transform,\n",
    "    target_transform=target_transform,\n",
    "    split=\"train\"\n",
    ")\n",
    "dl_train = DataLoader(\n",
    "    ds_train,\n",
    "    batch_size=config.batch_size,\n",
    "    shuffle=True,\n",
    "    num_workers=config.num_workers,\n",
    "    pin_memory=False,\n",
    "    drop_last=True\n",
    ")\n",
    "# LINPROB\n",
    "ds_linprob_train = ClassificationDataset(\n",
    "    p_data = config.p_data,\n",
    "    transform=transform_linprob,\n",
    "    target_transform=target_transform,\n",
    "    split=\"train\"\n",
    ")\n",
    "dl_linprob_train = DataLoader(\n",
    "    ds_linprob_train,\n",
    "    batch_size=config.batch_size,\n",
    "    shuffle=True,\n",
    "    num_workers = config.num_workers,\n",
    "    pin_memory=False\n",
    ")\n",
    "ds_linprob_valid = ClassificationDataset(\n",
    "    p_data = config.p_data,\n",
    "    transform=transform_linprob,\n",
    "    target_transform=target_transform,\n",
    "    split=\"valid\"\n",
    ")\n",
    "dl_linprob_valid = DataLoader(\n",
    "    ds_linprob_valid,\n",
    "    batch_size=config.batch_size,\n",
    "    shuffle=True,\n",
    "    num_workers = config.num_workers,\n",
    "    pin_memory=False\n",
    ")\n",
    "print(len(dl_train))\n",
    "print(len(dl_linprob_train))\n",
    "print(len(dl_linprob_valid))"
   ]
  },
  {
   "cell_type": "markdown",
   "id": "9fdafdbd",
   "metadata": {},
   "source": [
    "# Visualize Data"
   ]
  },
  {
   "cell_type": "code",
   "execution_count": null,
   "id": "60176b03",
   "metadata": {},
   "outputs": [],
   "source": [
    "n_vis = 36"
   ]
  },
  {
   "cell_type": "code",
   "execution_count": null,
   "id": "fb70d5d3",
   "metadata": {},
   "outputs": [],
   "source": [
    "# dl_train\n",
    "(x_ori, x_stl, x_geo),_ = next(iter(dl_train))\n",
    "#\n",
    "x_ori = inverse_norm_transform(x_ori[:n_vis])\n",
    "x_stl = inverse_norm_transform(x_stl[:n_vis])\n",
    "x_geo = inverse_norm_transform(x_geo[:n_vis])"
   ]
  },
  {
   "cell_type": "code",
   "execution_count": null,
   "id": "0b8bd7de",
   "metadata": {},
   "outputs": [],
   "source": [
    "grid_img = torchvision.utils.make_grid(x_geo, nrow=int(np.sqrt(n_vis)))\n",
    "plt.imshow(grid_img.permute(1, 2, 0))\n",
    "plt.title(\"Same geo\")\n",
    "plt.show()\n",
    "\n",
    "grid_img = torchvision.utils.make_grid(x_ori, nrow=int(np.sqrt(n_vis)))\n",
    "plt.imshow(grid_img.permute(1, 2, 0))\n",
    "plt.title(\"Original img\")\n",
    "plt.show()\n",
    "#\n",
    "grid_img = torchvision.utils.make_grid(x_stl, nrow=int(np.sqrt(n_vis)))\n",
    "plt.imshow(grid_img.permute(1, 2, 0))\n",
    "plt.title(\"Same stl\")\n",
    "plt.show()"
   ]
  },
  {
   "cell_type": "code",
   "execution_count": null,
   "id": "216ead3e",
   "metadata": {},
   "outputs": [],
   "source": [
    "# dl_linprob_train\n",
    "x,y = next(iter(dl_linprob_train))\n",
    "x = x[:n_vis]\n",
    "y = y[:n_vis]\n",
    "#\n",
    "x = inverse_norm_transform(x)\n",
    "#\n",
    "grid_img = torchvision.utils.make_grid(x, nrow=int(np.sqrt(n_vis)))\n",
    "plt.imshow(grid_img.permute(1, 2, 0))\n",
    "#\n",
    "y = [ds_config[\"class_maps\"][\"shape\"][idx.item()] for idx in y]\n",
    "print(y)"
   ]
  },
  {
   "cell_type": "markdown",
   "id": "c3c96b87",
   "metadata": {},
   "source": [
    "# Model"
   ]
  },
  {
   "cell_type": "code",
   "execution_count": null,
   "id": "5e5e91c4",
   "metadata": {},
   "outputs": [],
   "source": [
    "class BarlowTwins(nn.Module):\n",
    "    def __init__(self, backbone, projector, dim_cnt, dim_stl, dim_geo):\n",
    "        super().__init__()\n",
    "        self.backbone = backbone\n",
    "        self.projector = projector\n",
    "        self.dim_cnt = dim_cnt\n",
    "        self.dim_stl = dim_stl\n",
    "        self.dim_geo = dim_geo\n",
    "        \n",
    "        self.bn = nn.BatchNorm1d(projector.dim_out, affine=False)\n",
    "        self.bn_cnt = nn.BatchNorm1d(dim_cnt, affine=False)\n",
    "        self.bn_geo = nn.BatchNorm1d(dim_geo, affine=False)\n",
    "        self.bn_stl = nn.BatchNorm1d(dim_stl, affine=False)\n",
    "\n",
    "    def get_representation(self, x):\n",
    "        return self.backbone(x)\n",
    "\n",
    "    def forward(self, x):\n",
    "        return self.projector(self.backbone(x))"
   ]
  },
  {
   "cell_type": "code",
   "execution_count": null,
   "id": "63ff7da0",
   "metadata": {},
   "outputs": [],
   "source": [
    "# backbone\n",
    "backbone = get_backbone(config.backbone, **config.backbone_args)\n",
    "\n",
    "# barlow projector\n",
    "barlow_projector = get_projector(planes_in=backbone.dim_out, sizes=config.projector)\n",
    "\n",
    "overlap_cnt = config[\"cnt_overlap\"]\n",
    "ratio_stl_geo = config[\"ratio_stl_geo\"]"
   ]
  },
  {
   "cell_type": "code",
   "execution_count": null,
   "id": "ddda18e2",
   "metadata": {},
   "outputs": [],
   "source": [
    "dim_stl = int(barlow_projector.dim_out * ratio_stl_geo)\n",
    "dim_geo = barlow_projector.dim_out - dim_stl\n",
    "print(dim_stl, dim_geo)\n",
    "#\n",
    "dim_cnt = int(overlap_cnt * barlow_projector.dim_out)\n",
    "print(dim_cnt)\n",
    "#\n",
    "model = BarlowTwins(backbone, barlow_projector, dim_cnt, dim_stl, dim_geo)\n",
    "#\n",
    "if torch.cuda.device_count() > 1 and device != \"cpu\":\n",
    "    print(\"Using {} gpus!\".format(torch.cuda.device_count()))\n",
    "    model = torch.nn.DataParallel(model)\n",
    "    model.backbone = model.module.backbone\n",
    "elif device != \"cpu\":\n",
    "    print(\"Using 1 GPU!\")\n",
    "else:\n",
    "    print(\"Using CPU!\")\n",
    "model = model.to(device)"
   ]
  },
  {
   "cell_type": "code",
   "execution_count": null,
   "id": "ad62cd75",
   "metadata": {},
   "outputs": [],
   "source": [
    "w_off_stl = calc_lambda(dim_cnt + dim_stl)\n",
    "w_off_geo = calc_lambda(dim_cnt + dim_geo)"
   ]
  },
  {
   "cell_type": "code",
   "execution_count": null,
   "id": "d9eed836",
   "metadata": {},
   "outputs": [],
   "source": [
    "optimizer = get_optimizer(config.optimizer, model.parameters(), config.optimizer_args)"
   ]
  },
  {
   "cell_type": "code",
   "execution_count": null,
   "id": "533b9699",
   "metadata": {},
   "outputs": [],
   "source": [
    "stats = {\n",
    "    'train': {\n",
    "        'loss': [],\n",
    "        'epoch': [],\n",
    "    },\n",
    "    'linprob': {\n",
    "        'linacc': [],\n",
    "        'knnacc': [],\n",
    "        'epoch': [],\n",
    "    }\n",
    "}\n",
    "stats = DottedDict(stats)\n",
    "#\n",
    "p_experiment = Path(config.p_experiment)\n",
    "p_experiment.mkdir(exist_ok=True, parents=True)\n",
    "p_ckpts = p_experiment / config.p_ckpts\n",
    "p_ckpts.mkdir(exist_ok=True)"
   ]
  },
  {
   "cell_type": "code",
   "execution_count": null,
   "id": "e245d246",
   "metadata": {},
   "outputs": [],
   "source": [
    "config.p_experiment"
   ]
  },
  {
   "cell_type": "code",
   "execution_count": null,
   "id": "ed0bb826",
   "metadata": {},
   "outputs": [],
   "source": [
    "def cc_loss(z1, z2):\n",
    "    c = z1.T @ z2\n",
    "    c.div_(z1.shape[0])\n",
    "        \n",
    "    on_diag = torch.diagonal(c).add_(-1).pow_(2).sum()\n",
    "    off_diag = off_diagonal(c).pow_(2).sum()\n",
    "    return on_diag, off_diag\n",
    "\n",
    "def feature_split(z, dim, overlap=None):\n",
    "    if overlap:\n",
    "        z1 = z[: dim + overlap]\n",
    "        z2 = z[dim:]\n",
    "    else:\n",
    "        z1 = z[:, :dim]\n",
    "        z2 = z[:, dim:]\n",
    "    return z1, z2\n"
   ]
  },
  {
   "cell_type": "code",
   "execution_count": null,
   "id": "069d970c",
   "metadata": {
    "scrolled": false
   },
   "outputs": [],
   "source": [
    "global_step = 0\n",
    "for epoch_idx in range(1, config.num_epochs + 1, 1):\n",
    "    ################\n",
    "    # TRAIN\n",
    "    ################\n",
    "    model.train()\n",
    "    epoch_step = 0\n",
    "    epoch_loss = 0\n",
    "   \n",
    "    desc = \"[{:3}/{:3}]\".format(epoch_idx, config.num_epochs)\n",
    "    pbar = tqdm(dl_train, bar_format= desc + '{bar:10}{n_fmt}/{total_fmt}{postfix}')\n",
    "    #\n",
    "    for (x_ori, x_stl, x_geo), _ in pbar:\n",
    "        x_ori = x_ori.to(device)\n",
    "        x_stl = x_stl.to(device)\n",
    "        x_geo = x_geo.to(device)\n",
    "\n",
    "        for param in model.parameters():\n",
    "            param.grad = None\n",
    "        \n",
    "        # PROJECT\n",
    "        z_stl = model(x_stl)\n",
    "        z_geo = model(x_geo)\n",
    "        z_ori = model(x_ori)\n",
    "        \n",
    "        z_stl = model.bn(z_stl)\n",
    "        z_geo = model.bn(z_geo)\n",
    "        z_ori = model.bn(z_ori)\n",
    "        \n",
    "        # split\n",
    "        z_ori_stl, z_ori_geo = feature_split(z_ori, dim_stl, overlap=dim_cnt)\n",
    "        z_stl_stl, _ = feature_split(z_stl, dim_stl, overlap=dim_cnt)\n",
    "        _, z_geo_geo = feature_split(z_geo, dim_stl, overlap=dim_cnt)\n",
    "        \n",
    "        # CC LOSS\n",
    "        on_diag_stl, off_diag_stl = cc_loss(z_ori_stl, z_stl_stl)\n",
    "        on_diag_geo, off_diag_geo = cc_loss(z_ori_geo, z_geo_geo)\n",
    "        \n",
    "        \n",
    "        loss_stl = on_diag_stl + w_off_stl * off_diag_stl\n",
    "        loss_geo = on_diag_geo + w_off_geo * off_diag_geo\n",
    "        \n",
    "        loss = loss_stl + loss_geo\n",
    "\n",
    "        loss.backward()\n",
    "        optimizer.step()\n",
    "\n",
    "        epoch_loss += loss.item()\n",
    "        epoch_step += 1\n",
    "        global_step += 1\n",
    "        #\n",
    "        pbar.set_postfix({\n",
    "            'L': loss.item(),\n",
    "            'on_s': on_diag_stl.item(),\n",
    "            'on_g': on_diag_geo.item(),\n",
    "            'od_s': off_diag_stl.item(),\n",
    "            'od_g': off_diag_geo.item()\n",
    "        })\n",
    "\n",
    "    stats.train.loss.append(epoch_loss / epoch_step)\n",
    "    stats.train.epoch.append(epoch_idx)\n",
    "\n",
    "    ################\n",
    "    # Linprob\n",
    "    ################\n",
    "    if epoch_idx % config.freqs.linprob == 0 or epoch_idx == config.num_epochs:\n",
    "        model.eval()\n",
    "        linacc, knnacc = utils.linprob_model(model.backbone, dl_linprob_valid, device)\n",
    "        print(\"    Linprob Eval @LR: {:.2f} @KNN: {:.2f}\".format(linacc, knnacc))\n",
    "        stats.linprob.epoch.append(epoch_idx)\n",
    "        stats.linprob.knnacc.append(knnacc)\n",
    "        stats.linprob.linacc.append(linacc)\n",
    "        model.train()\n",
    "    # Checkpoint\n",
    "    if epoch_idx % config.freqs.ckpt == 0 or epoch_idx == config.num_epochs:\n",
    "        print(\"save model!\")\n",
    "        if torch.cuda.device_count() > 1 and device != \"cpu\":\n",
    "            torch.save(model.module.state_dict(), p_ckpts / config.p_model.format(epoch_idx))\n",
    "        else:\n",
    "            torch.save(model.state_dict(), p_ckpts / config.p_model.format(epoch_idx))"
   ]
  },
  {
   "cell_type": "code",
   "execution_count": null,
   "id": "05c68c29",
   "metadata": {},
   "outputs": [],
   "source": [
    "x_ori = inverse_norm_transform(x_ori[:n_vis].cpu().detach())\n",
    "x_stl = inverse_norm_transform(x_stl[:n_vis].cpu().detach())\n",
    "x_geo = inverse_norm_transform(x_geo[:n_vis].cpu().detach())"
   ]
  },
  {
   "cell_type": "code",
   "execution_count": null,
   "id": "5f32895b",
   "metadata": {},
   "outputs": [],
   "source": [
    "grid_img = torchvision.utils.make_grid(x_geo, nrow=int(np.sqrt(n_vis)))\n",
    "plt.imshow(grid_img.permute(1, 2, 0))\n",
    "plt.title(\"Same geo\")\n",
    "plt.show()\n",
    "\n",
    "grid_img = torchvision.utils.make_grid(x_ori, nrow=int(np.sqrt(n_vis)))\n",
    "plt.imshow(grid_img.permute(1, 2, 0))\n",
    "plt.title(\"Original img\")\n",
    "plt.show()\n",
    "#\n",
    "grid_img = torchvision.utils.make_grid(x_stl, nrow=int(np.sqrt(n_vis)))\n",
    "plt.imshow(grid_img.permute(1, 2, 0))\n",
    "plt.title(\"Same stl\")\n",
    "plt.show()"
   ]
  },
  {
   "cell_type": "markdown",
   "id": "c3a2981e",
   "metadata": {},
   "source": [
    "- 05: @LR: 0.29 @KNN: 0.48\n",
    "- 10: @LR: 0.36 @KNN: 0.52\n",
    "- 15: @LR: 0.44 @KNN: 0.55\n",
    "- 20: @LR: 0.51 @KNN: 0.59\n",
    "- 25: @LR: 0.54 @KNN: 0.60\n",
    "- 30: @LR: 0.56 @KNN: 0.62"
   ]
  },
  {
   "cell_type": "markdown",
   "id": "cdd23796",
   "metadata": {},
   "source": [
    "# Plot "
   ]
  },
  {
   "cell_type": "code",
   "execution_count": null,
   "id": "03717e7d",
   "metadata": {},
   "outputs": [],
   "source": [
    "# plot losses\n",
    "plt.plot(stats.train.epoch, stats.train.loss, label=\"train\")\n",
    "plt.legend()\n",
    "plt.savefig(p_experiment / \"barlow_loss.png\")\n",
    "plt.show()\n",
    "\n",
    "\n",
    "# plot linprob loss\n",
    "#plt.plot(stats.linprob.epoch, stats.linprob.loss, label=\"train\")\n",
    "#plt.legend()\n",
    "#plt.savefig(p_experiment / \"linprob_loss.png\")\n",
    "#plt.show()\n",
    "\n",
    "# plot linprob acc\n",
    "plt.plot(stats.linprob.epoch, stats.linprob.knnacc, label=\"knn\")\n",
    "plt.plot(stats.linprob.epoch, stats.linprob.linacc, label=\"lin\")\n",
    "plt.yticks([0.5, 0.6, 0.7, 0.8, 0.85, 0.9, 0.95, 1])\n",
    "plt.legend()\n",
    "plt.savefig(p_experiment / \"linprob_acc.png\")\n",
    "plt.show()"
   ]
  },
  {
   "cell_type": "markdown",
   "id": "6a946ec7",
   "metadata": {},
   "source": [
    "# Save stats and config"
   ]
  },
  {
   "cell_type": "code",
   "execution_count": null,
   "id": "fb567d4b",
   "metadata": {},
   "outputs": [],
   "source": [
    "with open(p_experiment / config.p_config, \"wb\") as file:\n",
    "    pickle.dump(config, file)\n",
    "with open(p_experiment / config.p_stats, \"wb\") as file:\n",
    "    pickle.dump(stats, file)"
   ]
  },
  {
   "cell_type": "markdown",
   "id": "d3549b78",
   "metadata": {},
   "source": [
    "# Get Representations "
   ]
  },
  {
   "cell_type": "code",
   "execution_count": null,
   "id": "a0e41a61",
   "metadata": {},
   "outputs": [],
   "source": [
    "p_R_train = p_experiment / config[\"p_R_train\"]\n",
    "p_Y_train = p_experiment / config[\"p_Y_train\"]\n",
    "p_R_valid = p_experiment / config[\"p_R_valid\"]\n",
    "p_Y_valid = p_experiment / config[\"p_Y_valid\"]"
   ]
  },
  {
   "cell_type": "code",
   "execution_count": null,
   "id": "9e23b91a",
   "metadata": {},
   "outputs": [],
   "source": [
    "# TRAIN\n",
    "ds_train = ClassificationDataset(\n",
    "    p_data = config.p_data,\n",
    "    transform=transform_linprob,\n",
    "    target_transform=None,\n",
    "    split=\"train\"\n",
    ")\n",
    "dl_train = DataLoader(\n",
    "    ds_train,\n",
    "    batch_size=config.batch_size,\n",
    "    shuffle=False,\n",
    "    num_workers=config.num_workers,\n",
    "    pin_memory=False,\n",
    "    drop_last=True\n",
    ")\n",
    "# LINPROB\n",
    "ds_valid = ClassificationDataset(\n",
    "    p_data = config.p_data,\n",
    "    transform=transform_linprob,\n",
    "    target_transform=None,\n",
    "    split=\"valid\"\n",
    ")\n",
    "dl_valid = DataLoader(\n",
    "    ds_valid,\n",
    "    batch_size=config.batch_size,\n",
    "    shuffle=False,\n",
    "    num_workers = config.num_workers,\n",
    "    pin_memory=False\n",
    ")"
   ]
  },
  {
   "cell_type": "code",
   "execution_count": null,
   "id": "8e9676f0",
   "metadata": {},
   "outputs": [],
   "source": [
    "model.eval()\n",
    "R_train, Y_train = utils.get_representations(model.backbone, dl_train, device)\n",
    "R_valid, Y_valid = utils.get_representations(model.backbone, dl_train, device)\n",
    "#\n",
    "np.save(p_R_train, R_train)\n",
    "np.save(p_Y_train, Y_train)\n",
    "np.save(p_R_valid, R_valid)\n",
    "np.save(p_Y_valid, Y_valid)"
   ]
  },
  {
   "cell_type": "markdown",
   "id": "8b455879",
   "metadata": {},
   "source": [
    "# Get Representations"
   ]
  },
  {
   "cell_type": "code",
   "execution_count": null,
   "id": "00d54c22",
   "metadata": {},
   "outputs": [],
   "source": [
    "# EVAL with all Features\n",
    "ds_eval_train = ClassificationDataset(\n",
    "    p_data = config.p_data,\n",
    "    transform=transform_linprob,\n",
    "    target_transform=None,\n",
    "    split=\"train\"\n",
    ")\n",
    "dl_eval_train = DataLoader(\n",
    "    ds_eval_train,\n",
    "    batch_size=config.batch_size,\n",
    "    shuffle=True,\n",
    "    num_workers = config.num_workers,\n",
    "    pin_memory=False\n",
    ")\n",
    "ds_eval_valid = ClassificationDataset(\n",
    "    p_data = config.p_data,\n",
    "    transform=transform_linprob,\n",
    "    target_transform=None,\n",
    "    split=\"valid\"\n",
    ")\n",
    "dl_eval_valid = DataLoader(\n",
    "    ds_eval_valid,\n",
    "    batch_size=config.batch_size,\n",
    "    shuffle=True,\n",
    "    num_workers = config.num_workers,\n",
    "    pin_memory=False\n",
    ")"
   ]
  },
  {
   "cell_type": "code",
   "execution_count": null,
   "id": "5bd572ca",
   "metadata": {},
   "outputs": [],
   "source": [
    "def get_representation(x):\n",
    "    return model.backbone(x)"
   ]
  },
  {
   "cell_type": "code",
   "execution_count": null,
   "id": "781d4955",
   "metadata": {},
   "outputs": [],
   "source": [
    "R_train, Y_train = utils.get_representations(get_representation, dl_eval_train, device, imgs=False)\n",
    "print(R_train.shape, Y_train.shape)"
   ]
  },
  {
   "cell_type": "code",
   "execution_count": null,
   "id": "49d017fe",
   "metadata": {},
   "outputs": [],
   "source": [
    "R_valid, Y_valid, X_valid = utils.get_representations(get_representation, dl_eval_valid, device, imgs=True, inverse_norm_transform=inverse_norm_transform)\n",
    "print(R_valid.shape, Y_valid.shape, X_valid.shape)"
   ]
  },
  {
   "cell_type": "markdown",
   "id": "d6952333",
   "metadata": {},
   "source": [
    "# Predict Classes from Featuers"
   ]
  },
  {
   "cell_type": "code",
   "execution_count": null,
   "id": "857541bf",
   "metadata": {},
   "outputs": [],
   "source": [
    "results = []\n",
    "for target_idx in range(Y_valid.shape[1]):\n",
    "    target = ds_config[\"classes\"][target_idx]\n",
    "    if len(set(Y_train[:, target_idx])) == 1:\n",
    "        print(\"{:>15}: acc = NA\".format(target))\n",
    "        results.append(np.inf)\n",
    "        continue\n",
    "    clf = LogisticRegression(random_state=0).fit(R_train, Y_train[:, target_idx])\n",
    "    score = clf.score(R_valid, Y_valid[:, target_idx])\n",
    "    target = ds_config[\"classes\"][target_idx]\n",
    "    print(\"{:>15}: acc = {:.2f}\".format(target, score))\n",
    "    results.append(score)\n",
    "\n",
    "fig, ax = plt.subplots(1, 1)\n",
    "ax.bar(range(len(results)), results, width=1)\n",
    "ax.set_ylim([0, 1])\n",
    "ax.set_xticks(np.arange(len(ds_config[\"classes\"])))\n",
    "ax.set_xticklabels(ds_config[\"classes\"])\n",
    "plt.title(\"Prediction Accurace LR on valid\")\n",
    "plt.savefig(p_experiment / \"score_lr.png\")"
   ]
  },
  {
   "cell_type": "markdown",
   "id": "b45fd0ca",
   "metadata": {},
   "source": [
    "# Class Distributions on features"
   ]
  },
  {
   "cell_type": "code",
   "execution_count": null,
   "id": "df2c273a",
   "metadata": {},
   "outputs": [],
   "source": [
    "n_plot = 100\n",
    "idcs = np.random.choice(R_valid.shape[0], size=n_plot, replace=False)\n",
    "#\n",
    "R_plot = R_valid[idcs]\n",
    "Y_plot = Y_valid[idcs]\n",
    "#\n",
    "dim_featuers = R_plot.shape[1]\n",
    "num_targets = Y_plot.shape[1]\n",
    "scale = 4\n",
    "figsize = (num_targets * scale, dim_featuers)\n",
    "fig, axes = plt.subplots(1, num_targets, figsize=figsize)\n",
    "for col_idx in range(num_targets):\n",
    "    ax = axes[col_idx]\n",
    "    ax.set_title(ds_config[\"classes\"][col_idx])\n",
    "    for row_idx in range(dim_featuers):\n",
    "        # reps\n",
    "        r = R_plot[:, row_idx]\n",
    "        r = (r - r.min()) / (r - r.min()).max()\n",
    "        # targets\n",
    "        y = Y_plot[:,col_idx]\n",
    "        xx = np.ones(len(r)) * row_idx\n",
    "        #\n",
    "        ax.scatter(r, xx, c=y, cmap=\"turbo\")\n",
    "        ax.get_xaxis().set_ticks([])\n",
    "        ax.get_yaxis().set_ticks([])\n",
    "        #ax.set_ylim([0.95, 1.05])\n",
    "plt.savefig(p_experiment / \"class_distribution.png\")\n",
    "plt.tight_layout()\n",
    "plt.show()"
   ]
  },
  {
   "cell_type": "markdown",
   "id": "33b5e750",
   "metadata": {},
   "source": [
    "# DISTS"
   ]
  },
  {
   "cell_type": "code",
   "execution_count": null,
   "id": "7de5b5c5",
   "metadata": {},
   "outputs": [],
   "source": [
    "R = R_valid\n",
    "plt.bar(range(R.shape[1]), R.mean(axis=0), width=1)\n",
    "plt.title(\"Feature Mean\")\n",
    "plt.savefig(p_experiment / \"feature_dist_valid.png\")\n",
    "plt.show()\n",
    "\n",
    "plt.bar(range(R.shape[0]), R.mean(axis=1), width=1)\n",
    "plt.title(\"Sample Mean\")\n",
    "plt.savefig(p_experiment / \"sample_dist_valid.png\")\n",
    "plt.show()"
   ]
  },
  {
   "cell_type": "markdown",
   "id": "a11ad352",
   "metadata": {},
   "source": [
    "# Visualize Latent Dimensions"
   ]
  },
  {
   "cell_type": "code",
   "execution_count": null,
   "id": "d7304ba4",
   "metadata": {},
   "outputs": [],
   "source": [
    "R = R_valid\n",
    "X = X_valid\n",
    "Y = Y_valid\n",
    "#\n",
    "n_imgs = 50\n",
    "topic_idcs = []\n",
    "for dim_idx in range(R.shape[1]):\n",
    "    r = R[:, dim_idx]\n",
    "    idcs = np.argsort(r)[-n_imgs:]\n",
    "    topic_idcs.append(idcs)\n",
    "topic_idcs = np.array(topic_idcs)"
   ]
  },
  {
   "cell_type": "code",
   "execution_count": null,
   "id": "8052cd04",
   "metadata": {},
   "outputs": [],
   "source": [
    "h, w = np.array(topic_idcs.shape) * 64\n",
    "img = np.zeros((h, w, 3))\n",
    "print(img.shape)\n",
    "n_rows, n_cols = topic_idcs.shape\n",
    "for row_idx in range(n_rows):\n",
    "    for col_idx in range(n_cols):\n",
    "        img_idx = topic_idcs[row_idx][col_idx]\n",
    "        img[row_idx * 64: row_idx * 64 + 64, col_idx * 64:col_idx * 64 + 64,:] = X[img_idx]"
   ]
  },
  {
   "cell_type": "code",
   "execution_count": null,
   "id": "621f1445",
   "metadata": {},
   "outputs": [],
   "source": [
    "plt.figure(figsize=topic_idcs.shape)\n",
    "plt.imshow(img)\n",
    "Image.fromarray(np.uint8(img * 255)).save(p_experiment / \"feature_dims_highest.png\")\n",
    "plt.show()"
   ]
  },
  {
   "cell_type": "code",
   "execution_count": null,
   "id": "5e739722",
   "metadata": {},
   "outputs": [],
   "source": []
  }
 ],
 "metadata": {
  "kernelspec": {
   "display_name": "Python 3 (ipykernel)",
   "language": "python",
   "name": "python3"
  },
  "language_info": {
   "codemirror_mode": {
    "name": "ipython",
    "version": 3
   },
   "file_extension": ".py",
   "mimetype": "text/x-python",
   "name": "python",
   "nbconvert_exporter": "python",
   "pygments_lexer": "ipython3",
   "version": "3.8.10"
  },
  "latex_envs": {
   "LaTeX_envs_menu_present": true,
   "autoclose": false,
   "autocomplete": true,
   "bibliofile": "biblio.bib",
   "cite_by": "apalike",
   "current_citInitial": 1,
   "eqLabelWithNumbers": true,
   "eqNumInitial": 1,
   "hotkeys": {
    "equation": "Ctrl-E",
    "itemize": "Ctrl-I"
   },
   "labels_anchors": false,
   "latex_user_defs": false,
   "report_style_numbering": false,
   "user_envs_cfg": false
  }
 },
 "nbformat": 4,
 "nbformat_minor": 5
}
