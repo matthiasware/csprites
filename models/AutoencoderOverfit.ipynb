{
 "cells": [
  {
   "cell_type": "code",
   "execution_count": 1,
   "id": "a3d90ddf",
   "metadata": {},
   "outputs": [],
   "source": [
    "%load_ext autoreload\n",
    "%autoreload 2"
   ]
  },
  {
   "cell_type": "code",
   "execution_count": 2,
   "id": "37846418",
   "metadata": {},
   "outputs": [],
   "source": [
    "import sys\n",
    "sys.path.append(\"..\")"
   ]
  },
  {
   "cell_type": "code",
   "execution_count": 3,
   "id": "bb33cfd6",
   "metadata": {},
   "outputs": [],
   "source": [
    "# Python\n",
    "from pathlib import Path\n",
    "import os\n",
    "import warnings\n",
    "import math\n",
    "import datetime\n",
    "import time\n",
    "warnings.filterwarnings('ignore')\n",
    "\n",
    "# MISC\n",
    "from tqdm import tqdm\n",
    "import pprint\n",
    "import numpy as np\n",
    "import matplotlib.pyplot as plt\n",
    "from dotted_dict import DottedDict\n",
    "import pickle\n",
    "\n",
    "# TORCH\n",
    "import torch\n",
    "import torch.nn as nn\n",
    "import torch.nn.functional as F\n",
    "from torch.utils.data import DataLoader\n",
    "import torchvision.transforms as T\n",
    "\n",
    "# LOCAL\n",
    "import utils\n",
    "from csprites.datasets import ClassificationDataset"
   ]
  },
  {
   "cell_type": "code",
   "execution_count": 4,
   "id": "da582789",
   "metadata": {},
   "outputs": [],
   "source": [
    "# TORCH SETTINGS\n",
    "torch.backends.cudnn.benchmark = True\n",
    "os.environ[\"CUDA_VISIBLE_DEVICES\"] = '0'\n",
    "#\n",
    "device = torch.device(\"cpu\")"
   ]
  },
  {
   "cell_type": "markdown",
   "id": "9afba619",
   "metadata": {},
   "source": [
    "# Dataset"
   ]
  },
  {
   "cell_type": "code",
   "execution_count": 5,
   "id": "5196cd60",
   "metadata": {},
   "outputs": [
    {
     "name": "stdout",
     "output_type": "stream",
     "text": [
      "{'bg_style': 'constant_color',\n",
      " 'class_maps': {'angle': {0: 0.0},\n",
      "                'color': {0: [0, 186, 0], 1: [204, 204, 204]},\n",
      "                'position': {0: 15},\n",
      "                'scale': {'moon': [7, 9, 11], 'rectangle': [7, 9, 11]},\n",
      "                'shape': {0: 'rectangle', 1: 'moon'}},\n",
      " 'classes': ['shape', 'scale', 'color', 'angle', 'py', 'px'],\n",
      " 'color_cmap': 'nipy_spectral',\n",
      " 'date': '15/10/2021 16:30:54',\n",
      " 'img_size': 32,\n",
      " 'max_mask_fill_rate': 0.9,\n",
      " 'max_mask_size': 29,\n",
      " 'means': [0.035888671875, 0.068603515625, 0.035888671875],\n",
      " 'memory_usage': '0.000 GB',\n",
      " 'min_mask_fill_rate': 0.1,\n",
      " 'n_bg': 1,\n",
      " 'n_classes': {'angle': 1,\n",
      "               'color': 2,\n",
      "               'px': 1,\n",
      "               'py': 1,\n",
      "               'scale': 1,\n",
      "               'shape': 2},\n",
      " 'n_masks': 4,\n",
      " 'n_samples': 4,\n",
      " 'n_states': 4,\n",
      " 'n_train': 4,\n",
      " 'n_unique': 4,\n",
      " 'n_valid': 0,\n",
      " 'name': 'single_csprites_32x32_n2_c2_a1_p1_s1_bg_1_constant_color_4',\n",
      " 'p_X_train': 'X_train.npy',\n",
      " 'p_X_valid': 'X_valid.npy',\n",
      " 'p_Y_train_bbox': 'Y_train_bbox.npy',\n",
      " 'p_Y_train_clas': 'Y_train_clas.npy',\n",
      " 'p_Y_train_segm': 'Y_train_segm.npy',\n",
      " 'p_Y_valid_bbox': 'Y_valid_bbox.npy',\n",
      " 'p_Y_valid_clas': 'Y_valid_clas.npy',\n",
      " 'p_Y_valid_segm': 'Y_valid_segm.npy',\n",
      " 'p_gifs': 'gifs',\n",
      " 'p_imgs': 'imgs',\n",
      " 'p_segs': 'segs',\n",
      " 'sampling_rate': 1.0,\n",
      " 'shapes': ['rectangle', 'moon'],\n",
      " 'stds': [0.16515585474347733, 0.21859504115805184, 0.16515585474347733],\n",
      " 'subset': False,\n",
      " 'target_bbox': True,\n",
      " 'target_segm': True,\n",
      " 'train_rate': 1.0,\n",
      " 'type': 'single',\n",
      " 'version': 1.0}\n"
     ]
    }
   ],
   "source": [
    "# DATASET\n",
    "p_data = \"/mnt/data/csprites/single_csprites_32x32_n2_c2_a1_p1_s1_bg_1_constant_color_4\"\n",
    "p_ds_config = Path(p_data) / \"config.pkl\"\n",
    "\n",
    "with open(p_ds_config, \"rb\") as file:\n",
    "    ds_config = pickle.load(file)\n",
    "#\n",
    "pprint.pprint(ds_config)"
   ]
  },
  {
   "cell_type": "code",
   "execution_count": 6,
   "id": "77dacbf4",
   "metadata": {},
   "outputs": [],
   "source": [
    "# no noamalization\n",
    "train_transform = T.Compose([\n",
    "    T.ToTensor(),\n",
    "])\n",
    "\n",
    "\n",
    "ds_train = ClassificationDataset(\n",
    "    p_data = p_data,\n",
    "    transform=train_transform,\n",
    "    target_transform=None,\n",
    "    split=\"train\"\n",
    ")\n",
    "dl_train = DataLoader(\n",
    "    ds_train,\n",
    "    batch_size=len(ds_train),\n",
    "    shuffle=True,\n",
    "    num_workers=4,\n",
    "\n",
    "    pin_memory=False,\n",
    "    drop_last=False\n",
    ")"
   ]
  },
  {
   "cell_type": "code",
   "execution_count": 7,
   "id": "b15e82e5",
   "metadata": {},
   "outputs": [
    {
     "name": "stdout",
     "output_type": "stream",
     "text": [
      "tensor(0.) tensor(0.8000)\n"
     ]
    }
   ],
   "source": [
    "# get whole dataset into single tensor\n",
    "X_ori,Y = next(iter(dl_train))\n",
    "#\n",
    "print(X_ori.min(), X_ori.max())"
   ]
  },
  {
   "cell_type": "code",
   "execution_count": 8,
   "id": "7c5ba3c7",
   "metadata": {},
   "outputs": [
    {
     "name": "stdout",
     "output_type": "stream",
     "text": [
      "tensor(0.) tensor(0.8000)\n"
     ]
    },
    {
     "data": {
      "image/png": "[encoded data removed]",
      "text/plain": [
       "<Figure size 432x288 with 1 Axes>"
      ]
     },
     "metadata": {
      "needs_background": "light"
     },
     "output_type": "display_data"
    },
    {
     "name": "stdout",
     "output_type": "stream",
     "text": [
      "tensor(0.) tensor(0.8000)\n"
     ]
    },
    {
     "data": {
      "image/png": "[encoded data removed]",
      "text/plain": [
       "<Figure size 432x288 with 1 Axes>"
      ]
     },
     "metadata": {
      "needs_background": "light"
     },
     "output_type": "display_data"
    },
    {
     "name": "stdout",
     "output_type": "stream",
     "text": [
      "tensor(0.) tensor(0.7294)\n"
     ]
    },
    {
     "data": {
      "image/png": "[encoded data removed]",
      "text/plain": [
       "<Figure size 432x288 with 1 Axes>"
      ]
     },
     "metadata": {
      "needs_background": "light"
     },
     "output_type": "display_data"
    },
    {
     "name": "stdout",
     "output_type": "stream",
     "text": [
      "tensor(0.) tensor(0.7294)\n"
     ]
    },
    {
     "data": {
      "image/png": "[encoded data removed]",
      "text/plain": [
       "<Figure size 432x288 with 1 Axes>"
      ]
     },
     "metadata": {
      "needs_background": "light"
     },
     "output_type": "display_data"
    }
   ],
   "source": [
    "# inverse normalize transform for display\n",
    "for xi in X_ori:\n",
    "    print(xi.min(), xi.max())\n",
    "    plt.imshow(xi.permute(1,2,0))\n",
    "    plt.show()"
   ]
  },
  {
   "cell_type": "markdown",
   "id": "b18c00a4",
   "metadata": {},
   "source": [
    "# Model"
   ]
  },
  {
   "cell_type": "code",
   "execution_count": 17,
   "id": "63518ef5",
   "metadata": {},
   "outputs": [],
   "source": [
    "encoder = torch.nn.Sequential(\n",
    "    nn.Conv2d(3, 1, kernel_size=(11, 11), stride=5, padding=0),\n",
    "    nn.ReLU(inplace=True),\n",
    "    torch.nn.Flatten(),\n",
    "    torch.nn.Linear(25, 2),\n",
    "    nn.ReLU(inplace=True)\n",
    ")\n",
    "decoder = torch.nn.Sequential(\n",
    "    torch.nn.Linear(2, 512),\n",
    "    torch.nn.ReLU(inplace=True),\n",
    "    torch.nn.Linear(512, 32*32*3),\n",
    "    torch.nn.Sigmoid(), # need function to map in [0, 1]\n",
    ")\n",
    "# test pipeline\n",
    "with torch.no_grad():\n",
    "    z = encoder(torch.rand(1,3,32,32))\n",
    "    d = decoder(z)"
   ]
  },
  {
   "cell_type": "code",
   "execution_count": 18,
   "id": "21ff78e1",
   "metadata": {},
   "outputs": [],
   "source": [
    "loss_fn = torch.nn.MSELoss()\n",
    "#\n",
    "lr= 0.001\n",
    "#\n",
    "params_to_optimize = [\n",
    "    {'params': encoder.parameters()},\n",
    "    {'params': decoder.parameters()}\n",
    "]\n",
    "optim = torch.optim.Adam(params_to_optimize, lr=lr, weight_decay=1e-05)\n",
    "#\n",
    "n_epochs = 1000"
   ]
  },
  {
   "cell_type": "code",
   "execution_count": 19,
   "id": "42ee8932",
   "metadata": {
    "scrolled": false
   },
   "outputs": [
    {
     "name": "stdout",
     "output_type": "stream",
     "text": [
      "0 0.24141307175159454\n"
     ]
    },
    {
     "data": {
      "image/png": "[encoded data removed]",
      "text/plain": [
       "<Figure size 720x360 with 2 Axes>"
      ]
     },
     "metadata": {
      "needs_background": "light"
     },
     "output_type": "display_data"
    },
    {
     "name": "stdout",
     "output_type": "stream",
     "text": [
      "100 0.017533086240291595\n",
      "200 0.016863731667399406\n"
     ]
    },
    {
     "data": {
      "image/png": "[encoded data removed]",
      "text/plain": [
       "<Figure size 720x360 with 2 Axes>"
      ]
     },
     "metadata": {
      "needs_background": "light"
     },
     "output_type": "display_data"
    },
    {
     "name": "stdout",
     "output_type": "stream",
     "text": [
      "300 0.016666674986481667\n",
      "400 0.016562914475798607\n"
     ]
    },
    {
     "data": {
      "image/png": "[encoded data removed]",
      "text/plain": [
       "<Figure size 720x360 with 2 Axes>"
      ]
     },
     "metadata": {
      "needs_background": "light"
     },
     "output_type": "display_data"
    },
    {
     "name": "stdout",
     "output_type": "stream",
     "text": [
      "500 0.016490282490849495\n",
      "600 0.0164434015750885\n"
     ]
    },
    {
     "data": {
      "image/png": "[encoded data removed]",
      "text/plain": [
       "<Figure size 720x360 with 2 Axes>"
      ]
     },
     "metadata": {
      "needs_background": "light"
     },
     "output_type": "display_data"
    },
    {
     "name": "stdout",
     "output_type": "stream",
     "text": [
      "700 0.016404056921601295\n",
      "800 0.003315904876217246\n"
     ]
    },
    {
     "data": {
      "image/png": "[encoded data removed]",
      "text/plain": [
       "<Figure size 720x360 with 2 Axes>"
      ]
     },
     "metadata": {
      "needs_background": "light"
     },
     "output_type": "display_data"
    },
    {
     "name": "stdout",
     "output_type": "stream",
     "text": [
      "900 0.00017312855925410986\n"
     ]
    }
   ],
   "source": [
    "for epoch_idx in range(n_epochs):\n",
    "    optim.zero_grad()\n",
    "    z = encoder(X_ori)\n",
    "    X_rec = decoder(z)\n",
    "    X_rec = X_rec.reshape(-1, 3, 32, 32)\n",
    "    #\n",
    "    loss = loss_fn(X_rec, X_ori)\n",
    "    loss.backward()\n",
    "    optim.step()\n",
    "    #\n",
    "    if epoch_idx % 100 == 0:\n",
    "        print(epoch_idx, loss.item())\n",
    "    if epoch_idx % 200 == 0:\n",
    "        with torch.no_grad():\n",
    "            #\n",
    "            x_rec = X_rec.permute(0,2,3,1).detach()[0]\n",
    "            x_ori = X_ori.permute(0,2,3,1).detach()[0]\n",
    "        fig, axes = plt.subplots(1, 2, figsize=(10, 5))\n",
    "        axes[0].imshow(x_ori)\n",
    "        axes[1].imshow(x_rec)\n",
    "        plt.show()"
   ]
  },
  {
   "cell_type": "code",
   "execution_count": 20,
   "id": "3cb90bb1",
   "metadata": {},
   "outputs": [],
   "source": [
    "with torch.no_grad():\n",
    "    Z = encoder(X_ori)\n",
    "    X_rec = decoder(z)\n",
    "    X_rec = X_rec.reshape(-1, 3, 32, 32)\n",
    "#\n",
    "#\n",
    "X_ori = X_ori.permute(0,2,3,1)\n",
    "X_rec = X_rec.permute(0,2,3,1)"
   ]
  },
  {
   "cell_type": "code",
   "execution_count": 21,
   "id": "95fb2043",
   "metadata": {},
   "outputs": [
    {
     "name": "stdout",
     "output_type": "stream",
     "text": [
      "tensor(0.) tensor(0.8000)\n",
      "tensor(2.5249e-07) tensor(0.8983)\n"
     ]
    }
   ],
   "source": [
    "print(X_ori.min(), X_ori.max())\n",
    "print(X_rec.min(), X_rec.max())"
   ]
  },
  {
   "cell_type": "code",
   "execution_count": 22,
   "id": "7d7d9a1a",
   "metadata": {},
   "outputs": [
    {
     "data": {
      "image/png": "[encoded data removed]",
      "text/plain": [
       "<Figure size 720x360 with 2 Axes>"
      ]
     },
     "metadata": {
      "needs_background": "light"
     },
     "output_type": "display_data"
    },
    {
     "data": {
      "image/png": "[encoded data removed]",
      "text/plain": [
       "<Figure size 720x360 with 2 Axes>"
      ]
     },
     "metadata": {
      "needs_background": "light"
     },
     "output_type": "display_data"
    },
    {
     "data": {
      "image/png": "[encoded data removed]",
      "text/plain": [
       "<Figure size 720x360 with 2 Axes>"
      ]
     },
     "metadata": {
      "needs_background": "light"
     },
     "output_type": "display_data"
    },
    {
     "data": {
      "image/png": "[encoded data removed]",
      "text/plain": [
       "<Figure size 720x360 with 2 Axes>"
      ]
     },
     "metadata": {
      "needs_background": "light"
     },
     "output_type": "display_data"
    }
   ],
   "source": [
    "for idx in range(len(X_ori)):\n",
    "    x_ori = X_ori[idx]\n",
    "    x_rec = X_rec[idx]\n",
    "    #\n",
    "    fig, axes = plt.subplots(1, 2, figsize=(10, 5))\n",
    "    axes[0].imshow(x_ori)\n",
    "    axes[1].imshow(x_rec)\n",
    "    plt.show()"
   ]
  },
  {
   "cell_type": "code",
   "execution_count": 23,
   "id": "4ff24493",
   "metadata": {},
   "outputs": [
    {
     "data": {
      "image/png": "[encoded data removed]",
      "text/plain": [
       "<Figure size 432x288 with 1 Axes>"
      ]
     },
     "metadata": {
      "needs_background": "light"
     },
     "output_type": "display_data"
    }
   ],
   "source": [
    "# shape\n",
    "plt.scatter(Z[:,0], Z[:,1], c=list(Y[:,0].numpy()))\n",
    "plt.show()"
   ]
  },
  {
   "cell_type": "code",
   "execution_count": 24,
   "id": "1f266b4d",
   "metadata": {},
   "outputs": [
    {
     "data": {
      "image/png": "[encoded data removed]",
      "text/plain": [
       "<Figure size 432x288 with 1 Axes>"
      ]
     },
     "metadata": {
      "needs_background": "light"
     },
     "output_type": "display_data"
    }
   ],
   "source": [
    "# color\n",
    "plt.scatter(Z[:,0], Z[:,1], c=list(Y[:,2].numpy()))\n",
    "plt.show()"
   ]
  },
  {
   "cell_type": "code",
   "execution_count": 25,
   "id": "e71be756",
   "metadata": {},
   "outputs": [],
   "source": [
    "convs = list(encoder.parameters())[0].data"
   ]
  },
  {
   "cell_type": "code",
   "execution_count": 26,
   "id": "22554a0a",
   "metadata": {},
   "outputs": [
    {
     "data": {
      "text/plain": [
       "torch.Size([1, 3, 11, 11])"
      ]
     },
     "execution_count": 26,
     "metadata": {},
     "output_type": "execute_result"
    }
   ],
   "source": [
    "convs.shape"
   ]
  },
  {
   "cell_type": "code",
   "execution_count": 27,
   "id": "58364f47",
   "metadata": {},
   "outputs": [
    {
     "data": {
      "image/png": "[encoded data removed]",
      "text/plain": [
       "<Figure size 432x288 with 1 Axes>"
      ]
     },
     "metadata": {
      "needs_background": "light"
     },
     "output_type": "display_data"
    },
    {
     "name": "stdout",
     "output_type": "stream",
     "text": [
      "tensor([[0.1565, 0.1565, 0.1847, 0.1841, 0.1682, 0.1681, 0.1682, 0.1813, 0.1816,\n",
      "         0.1557, 0.1551],\n",
      "        [0.1565, 0.1257, 0.1848, 0.1840, 0.1805, 0.1682, 0.1677, 0.1809, 0.1809,\n",
      "         0.1188, 0.1546],\n",
      "        [0.1368, 0.1224, 0.1856, 0.1857, 0.1570, 0.1590, 0.1472, 0.1727, 0.1723,\n",
      "         0.1060, 0.1122],\n",
      "        [0.0686, 0.0686, 0.1435, 0.1436, 0.1497, 0.1497, 0.1498, 0.1495, 0.1493,\n",
      "         0.0730, 0.0729],\n",
      "        [0.0677, 0.0677, 0.1501, 0.1503, 0.1620, 0.1625, 0.1627, 0.1636, 0.1636,\n",
      "         0.0845, 0.0839],\n",
      "        [0.0677, 0.0677, 0.1503, 0.1503, 0.1627, 0.1622, 0.1622, 0.1635, 0.1635,\n",
      "         0.0838, 0.0845],\n",
      "        [0.0677, 0.0673, 0.1503, 0.1501, 0.1636, 0.1626, 0.1536, 0.1639, 0.1641,\n",
      "         0.0937, 0.0836],\n",
      "        [0.1456, 0.1570, 0.1760, 0.1756, 0.2170, 0.2158, 0.2100, 0.1875, 0.1872,\n",
      "         0.1759, 0.1723],\n",
      "        [0.1084, 0.1065, 0.1524, 0.1525, 0.2175, 0.2180, 0.2180, 0.1726, 0.1730,\n",
      "         0.1466, 0.1497],\n",
      "        [0.0863, 0.0861, 0.1327, 0.1343, 0.2160, 0.2149, 0.2156, 0.1666, 0.1655,\n",
      "         0.1358, 0.1366],\n",
      "        [0.0864, 0.0867, 0.1322, 0.1350, 0.2145, 0.2148, 0.2146, 0.1665, 0.1663,\n",
      "         0.1361, 0.1338]])\n"
     ]
    },
    {
     "data": {
      "image/png": "[encoded data removed]",
      "text/plain": [
       "<Figure size 432x288 with 1 Axes>"
      ]
     },
     "metadata": {
      "needs_background": "light"
     },
     "output_type": "display_data"
    },
    {
     "name": "stdout",
     "output_type": "stream",
     "text": [
      "tensor([[ 0.1332,  0.1242,  0.0279,  0.0248, -0.0456, -0.0502, -0.0479,  0.0169,\n",
      "          0.0276,  0.1604,  0.1606],\n",
      "        [ 0.1230, -0.0497,  0.0139,  0.0171, -0.0277, -0.0302, -0.0055,  0.0255,\n",
      "          0.0380, -0.0510,  0.1537],\n",
      "        [-0.0708, -0.1122, -0.0363, -0.0340, -0.0335, -0.0312, -0.0496, -0.0816,\n",
      "         -0.0668, -0.1254, -0.0946],\n",
      "        [-0.0948, -0.1123, -0.0855, -0.0836, -0.0521, -0.0452, -0.0549, -0.0824,\n",
      "         -0.1064, -0.1148, -0.1125],\n",
      "        [-0.1022, -0.1084,  0.0036,  0.0129, -0.0371, -0.0452, -0.0226, -0.0339,\n",
      "         -0.0053, -0.1067, -0.1060],\n",
      "        [-0.1113, -0.0902, -0.0137, -0.0154, -0.0395, -0.0202, -0.0398, -0.0213,\n",
      "         -0.0285, -0.1092, -0.1059],\n",
      "        [-0.1045, -0.0961, -0.0091, -0.0059, -0.0231, -0.0135, -0.0473, -0.0167,\n",
      "         -0.0262, -0.1207, -0.1115],\n",
      "        [ 0.3478,  0.3695,  0.1960,  0.2166,  0.2000,  0.2132,  0.2360,  0.0811,\n",
      "          0.1105,  0.2862,  0.3640],\n",
      "        [ 0.3330,  0.3382,  0.1456,  0.1573,  0.2595,  0.2602,  0.2395,  0.0539,\n",
      "          0.0808,  0.3715,  0.3743],\n",
      "        [ 0.3580,  0.3639,  0.2001,  0.1933,  0.3059,  0.2854,  0.2838,  0.1421,\n",
      "          0.1697,  0.3818,  0.3835],\n",
      "        [ 0.3605,  0.3623,  0.1831,  0.1651,  0.3118,  0.2874,  0.3009,  0.1579,\n",
      "          0.1571,  0.3845,  0.3780]])\n"
     ]
    },
    {
     "data": {
      "image/png": "[encoded data removed]",
      "text/plain": [
       "<Figure size 432x288 with 1 Axes>"
      ]
     },
     "metadata": {
      "needs_background": "light"
     },
     "output_type": "display_data"
    },
    {
     "name": "stdout",
     "output_type": "stream",
     "text": [
      "tensor([[0.1565, 0.1570, 0.1841, 0.1848, 0.1677, 0.1679, 0.1681, 0.1816, 0.1815,\n",
      "         0.1548, 0.1552],\n",
      "        [0.1565, 0.1255, 0.1845, 0.1838, 0.1804, 0.1675, 0.1677, 0.1810, 0.1816,\n",
      "         0.1195, 0.1579],\n",
      "        [0.1368, 0.1228, 0.1854, 0.1856, 0.1562, 0.1593, 0.1473, 0.1726, 0.1725,\n",
      "         0.1060, 0.1124],\n",
      "        [0.0686, 0.0686, 0.1439, 0.1439, 0.1494, 0.1495, 0.1495, 0.1495, 0.1492,\n",
      "         0.0730, 0.0730],\n",
      "        [0.0677, 0.0677, 0.1502, 0.1502, 0.1626, 0.1625, 0.1627, 0.1640, 0.1636,\n",
      "         0.0844, 0.0837],\n",
      "        [0.0677, 0.0677, 0.1502, 0.1502, 0.1623, 0.1626, 0.1626, 0.1641, 0.1636,\n",
      "         0.0839, 0.0842],\n",
      "        [0.0677, 0.0673, 0.1503, 0.1503, 0.1644, 0.1624, 0.1538, 0.1640, 0.1641,\n",
      "         0.0936, 0.0837],\n",
      "        [0.1428, 0.1566, 0.1762, 0.1760, 0.2169, 0.2156, 0.2100, 0.1873, 0.1871,\n",
      "         0.1757, 0.1742],\n",
      "        [0.1079, 0.1070, 0.1524, 0.1523, 0.2176, 0.2177, 0.2180, 0.1728, 0.1722,\n",
      "         0.1478, 0.1502],\n",
      "        [0.0868, 0.0867, 0.1339, 0.1331, 0.2152, 0.2149, 0.2156, 0.1655, 0.1658,\n",
      "         0.1332, 0.1360],\n",
      "        [0.0868, 0.0882, 0.1344, 0.1333, 0.2156, 0.2159, 0.2146, 0.1660, 0.1667,\n",
      "         0.1369, 0.1337]])\n"
     ]
    }
   ],
   "source": [
    "for conv in convs[0]:\n",
    "    plt.imshow(conv)\n",
    "    plt.show()\n",
    "    print(conv)"
   ]
  },
  {
   "cell_type": "code",
   "execution_count": null,
   "id": "f115077f",
   "metadata": {},
   "outputs": [],
   "source": []
  }
 ],
 "metadata": {
  "kernelspec": {
   "display_name": "Python 3 (ipykernel)",
   "language": "python",
   "name": "python3"
  },
  "language_info": {
   "codemirror_mode": {
    "name": "ipython",
    "version": 3
   },
   "file_extension": ".py",
   "mimetype": "text/x-python",
   "name": "python",
   "nbconvert_exporter": "python",
   "pygments_lexer": "ipython3",
   "version": "3.8.10"
  },
  "latex_envs": {
   "LaTeX_envs_menu_present": true,
   "autoclose": false,
   "autocomplete": true,
   "bibliofile": "biblio.bib",
   "cite_by": "apalike",
   "current_citInitial": 1,
   "eqLabelWithNumbers": true,
   "eqNumInitial": 1,
   "hotkeys": {
    "equation": "Ctrl-E",
    "itemize": "Ctrl-I"
   },
   "labels_anchors": false,
   "latex_user_defs": false,
   "report_style_numbering": false,
   "user_envs_cfg": false
  }
 },
 "nbformat": 4,
 "nbformat_minor": 5
}
