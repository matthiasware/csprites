{
 "cells": [
  {
   "cell_type": "code",
   "execution_count": null,
   "id": "843cebc2",
   "metadata": {},
   "outputs": [],
   "source": [
    "%load_ext autoreload\n",
    "%autoreload 2"
   ]
  },
  {
   "cell_type": "code",
   "execution_count": null,
   "id": "b26e2769",
   "metadata": {},
   "outputs": [],
   "source": [
    "import sys\n",
    "sys.path.append(\"..\")\n",
    "sys.path.append(\"../..\")"
   ]
  },
  {
   "cell_type": "code",
   "execution_count": null,
   "id": "5a895e09",
   "metadata": {},
   "outputs": [],
   "source": [
    "import warnings\n",
    "warnings.filterwarnings('ignore')"
   ]
  },
  {
   "cell_type": "code",
   "execution_count": null,
   "id": "ae80f575",
   "metadata": {},
   "outputs": [],
   "source": [
    "import os\n",
    "from pathlib import Path\n",
    "import pickle\n",
    "import timeit\n",
    "#\n",
    "import matplotlib.pyplot as plt\n",
    "import numpy as np\n",
    "import torch\n",
    "import torch.nn as nn\n",
    "import torch.optim as optim\n",
    "from torch.utils.data import DataLoader\n",
    "import torchvision\n",
    "from torchvision import transforms, models\n",
    "from dotted_dict import DottedDict\n",
    "from tqdm import tqdm\n",
    "import pprint\n",
    "#\n",
    "from csprites.datasets import ClassificationDataset\n",
    "import utils\n",
    "from backbone import get_backbone\n",
    "from optimizer import get_optimizer\n",
    "from sklearn.linear_model import LogisticRegression\n",
    "from plot_utils import *\n",
    "from eval_utils import load_data_tensors"
   ]
  },
  {
   "cell_type": "markdown",
   "id": "3ad211d7",
   "metadata": {},
   "source": [
    "# Settings"
   ]
  },
  {
   "cell_type": "code",
   "execution_count": null,
   "id": "9d644275",
   "metadata": {},
   "outputs": [],
   "source": [
    "# linprob config\n",
    "linprob_config = {\n",
    "    'p_eval': 'eval',\n",
    "    'p_eval_results': 'results_lr.pkl',\n",
    "    'p_config': \"linprob_config_lr.pkl\",\n",
    "    'p_results': 'results_lr.pkl',\n",
    "    'p_acc_mat': 'accuracy_lr.png',\n",
    "}\n",
    "linprob_config = DottedDict(linprob_config)"
   ]
  },
  {
   "cell_type": "code",
   "execution_count": null,
   "id": "448ba96a",
   "metadata": {},
   "outputs": [],
   "source": [
    "p_experiments_base = Path(\"/mnt/experiments/csprites/single_csprites_64x64_n7_c24_a32_p13_s3_bg_inf_random_function_77000/\")\n",
    "p_experiments = [\n",
    "    p_experiments_base / 'SUP_[FCN16i223o64_d64]_target_[angle]',\n",
    "    p_experiments_base / 'SUP_[FCN16i223o64_d64]_target_[color]',\n",
    "    p_experiments_base / 'SUP_[FCN16i223o64_d64]_target_[px]',\n",
    "    p_experiments_base / 'SUP_[FCN16i223o64_d64]_target_[py]',\n",
    "    p_experiments_base / 'SUP_[FCN16i223o64_d64]_target_[scale]',\n",
    "    p_experiments_base / 'SUP_[FCN16i223o64_d64]_target_[shape]',\n",
    "    p_experiments_base / 'BarlowTwins' / 'BTwins_[FCN8i223o32_d_32]_2021-09-14_21-47-07',\n",
    "    p_experiments_base / 'BarlowTwins' / 'BTwins_[FCN8i223o32_d_64]_2021-09-14_21-19-32',\n",
    "    p_experiments_base / 'BarlowTwins' / 'BTwins_[FCN8i223o32_d_128]_2021-09-14_20-52-16',\n",
    "    p_experiments_base / 'BarlowTwins' / 'BTwins_[FCN8i223o32_d_256]_2021-09-14_20-21-16',\n",
    "    p_experiments_base / 'BarlowTwins' / 'BTwins_[FCN16i223o64_d_32]_2021-09-14_19-50-04',\n",
    "    p_experiments_base / 'BarlowTwins' / 'BTwins_[FCN16i223o64_d_64]_2021-09-14_19-17-32',\n",
    "    p_experiments_base / 'BarlowTwins' / 'BTwins_[FCN16i223o64_d_128]_2021-09-14_18-44-50',\n",
    "    p_experiments_base / 'BarlowTwins' / 'BTwins_[FCN16i223o64_d_256]_2021-09-14_18-15-36',\n",
    "    p_experiments_base / 'BarlowTwins' / 'BTwins_[FCN32i223o128_d_32]_2021-09-14_17-38-13',\n",
    "    p_experiments_base / 'BarlowTwins' / 'BTwins_[FCN32i223o128_d_64]_2021-09-14_17-01-16',\n",
    "    p_experiments_base / 'BarlowTwins' / 'BTwins_[FCN32i223o128_d_128]_2021-09-14_16-22-39',\n",
    "    p_experiments_base / 'BarlowTwins' / 'BTwins_[FCN32i223o128_d_256]_2021-09-14_15-44-33',\n",
    "\n",
    "]\n",
    "for p in p_experiments:\n",
    "    if not p.exists():\n",
    "        print(\"NOT EXISTENT: \\n\", p)"
   ]
  },
  {
   "cell_type": "code",
   "execution_count": null,
   "id": "fcfbbdbf",
   "metadata": {},
   "outputs": [],
   "source": [
    "step = 1\n",
    "max_steps = len(p_experiments) * 6\n",
    "print_str = \"[{:>3}/{:>3}] {:<10} {}\"\n",
    "for p_experiment in p_experiments:\n",
    "    experiment_name = p_experiment.name\n",
    "    \n",
    "    # experiment config\n",
    "    p_experiment_config = p_experiment / \"config.pkl\"\n",
    "    with open(p_experiment_config, \"rb\") as file:\n",
    "        experiment_config = pickle.load(file)\n",
    "    # dataset config\n",
    "    p_ds_config = Path(experiment_config.p_data) / \"config.pkl\"\n",
    "    with open(p_ds_config, \"rb\") as file:\n",
    "        ds_config = pickle.load(file)\n",
    "\n",
    "    results = {}\n",
    "    for target_variable in ds_config[\"classes\"]:\n",
    "        print(print_str.format(step, max_steps, target_variable, experiment_name))\n",
    "        target_idx = [idx for idx, target in enumerate(ds_config[\"classes\"]) if target == target_variable][0]\n",
    "        n_classes = ds_config[\"n_classes\"][target_variable]\n",
    "        #\n",
    "        R_train, Y_train, R_valid, Y_valid = load_data_tensors(\n",
    "                target_idx,\n",
    "                p_experiment / experiment_config[\"p_R_train\"],\n",
    "                p_experiment / experiment_config[\"p_Y_train\"],\n",
    "                p_experiment / experiment_config[\"p_R_valid\"],\n",
    "                p_experiment / experiment_config[\"p_Y_valid\"])\n",
    "        #\n",
    "        clf = LogisticRegression(random_state=0).fit(R_train, Y_train)\n",
    "        score = clf.score(R_valid, Y_valid)\n",
    "        print(\"   LINPROB: {:.3f}\".format(score))\n",
    "        results[target_variable] = score\n",
    "        step += 1\n",
    "    p_results = p_experiment / linprob_config[\"p_results\"]\n",
    "    p_linprob_config = p_experiment / linprob_config[\"p_config\"]\n",
    "    #\n",
    "    plt.bar(range(R_train.shape[1]),R_train.mean(axis=0), width=1)\n",
    "    plt.title(\"TRAIN REPRESENTAIONS\")\n",
    "    plt.savefig(p_experiment / \"R_train_feature_mean.png\")\n",
    "    plt.show()\n",
    "    plt.bar(range(R_valid.shape[1]),R_train.mean(axis=0), width=1)\n",
    "    plt.title(\"VALID REPRESENTAIONS\")\n",
    "    plt.savefig(p_experiment / \"R_valid_feature_mean.png\")\n",
    "    plt.show()\n",
    "    #\n",
    "    with open(p_results, \"wb\") as file:\n",
    "        pickle.dump(results, file)\n",
    "    with open(p_linprob_config, \"wb\") as file:\n",
    "        pickle.dump(linprob_config, file)"
   ]
  },
  {
   "cell_type": "markdown",
   "id": "c3833587",
   "metadata": {},
   "source": [
    "# Load all results "
   ]
  },
  {
   "cell_type": "code",
   "execution_count": null,
   "id": "2d694169",
   "metadata": {},
   "outputs": [],
   "source": [
    "p_experiments_base = Path(\"/mnt/experiments/csprites/single_csprites_64x64_n7_c24_a32_p13_s3_bg_inf_random_function_77000/\")\n",
    "p_experiments = [\n",
    "    p_experiments_base / 'SUP_[FCN16i223o64_d64]_target_[shape]',\n",
    "    p_experiments_base / 'SUP_[FCN16i223o64_d64]_target_[scale]',\n",
    "    p_experiments_base / 'SUP_[FCN16i223o64_d64]_target_[color]',\n",
    "    p_experiments_base / 'SUP_[FCN16i223o64_d64]_target_[angle]',\n",
    "    p_experiments_base / 'SUP_[FCN16i223o64_d64]_target_[py]',\n",
    "    p_experiments_base / 'SUP_[FCN16i223o64_d64]_target_[px]',\n",
    "    p_experiments_base / 'BarlowTwins' / 'BTwins_[FCN8i223o32_d_32]_2021-09-14_21-47-07',\n",
    "    p_experiments_base / 'BarlowTwins' / 'BTwins_[FCN8i223o32_d_64]_2021-09-14_21-19-32',\n",
    "    p_experiments_base / 'BarlowTwins' / 'BTwins_[FCN8i223o32_d_128]_2021-09-14_20-52-16',\n",
    "    p_experiments_base / 'BarlowTwins' / 'BTwins_[FCN8i223o32_d_256]_2021-09-14_20-21-16',\n",
    "    p_experiments_base / 'BarlowTwins' / 'BTwins_[FCN16i223o64_d_32]_2021-09-14_19-50-04',\n",
    "    p_experiments_base / 'BarlowTwins' / 'BTwins_[FCN16i223o64_d_64]_2021-09-14_19-17-32',\n",
    "    p_experiments_base / 'BarlowTwins' / 'BTwins_[FCN16i223o64_d_128]_2021-09-14_18-44-50',\n",
    "    p_experiments_base / 'BarlowTwins' / 'BTwins_[FCN16i223o64_d_256]_2021-09-14_18-15-36',\n",
    "    p_experiments_base / 'BarlowTwins' / 'BTwins_[FCN32i223o128_d_32]_2021-09-14_17-38-13',\n",
    "    p_experiments_base / 'BarlowTwins' / 'BTwins_[FCN32i223o128_d_64]_2021-09-14_17-01-16',\n",
    "    p_experiments_base / 'BarlowTwins' / 'BTwins_[FCN32i223o128_d_128]_2021-09-14_16-22-39',\n",
    "    p_experiments_base / 'BarlowTwins' / 'BTwins_[FCN32i223o128_d_256]_2021-09-14_15-44-33',\n",
    "\n",
    "]\n",
    "for p in p_experiments:\n",
    "    if not p.exists():\n",
    "        print(\"NOT EXISTENT: \\n\", p)"
   ]
  },
  {
   "cell_type": "code",
   "execution_count": null,
   "id": "fbaa9147",
   "metadata": {},
   "outputs": [],
   "source": [
    "p_eval =  p_experiments_base / linprob_config[\"p_eval\"]\n",
    "p_eval.mkdir(exist_ok=True)\n",
    "p_results = p_eval / linprob_config[\"p_results\"]\n",
    "p_config = p_eval / linprob_config[\"p_config\"]\n",
    "p_acc_map = p_eval / linprob_config[\"p_acc_mat\"]"
   ]
  },
  {
   "cell_type": "code",
   "execution_count": null,
   "id": "4bdaa292",
   "metadata": {},
   "outputs": [],
   "source": [
    "experiment_results = {}\n",
    "for p_experiment in p_experiments:\n",
    "    experiment_name = p_experiment.name\n",
    "    print(experiment_name)\n",
    "    #\n",
    "    p_results = p_experiment / linprob_config[\"p_results\"]\n",
    "    #\n",
    "    with open(p_results, \"rb\") as file:\n",
    "        results = pickle.load(file)\n",
    "    experiment_results[experiment_name] = results"
   ]
  },
  {
   "cell_type": "code",
   "execution_count": null,
   "id": "7d877bbd",
   "metadata": {},
   "outputs": [],
   "source": [
    "acc_results = []\n",
    "for experiment_name in experiment_results.keys():\n",
    "    results = experiment_results[experiment_name]\n",
    "        # targets\n",
    "    targets = list(results.keys())\n",
    "    accs = [results[t] for t in targets]\n",
    "    acc_results.append(accs)\n",
    "acc_matrix = np.array(acc_results)\n",
    "path_experiment_names = [n for n in experiment_results.keys()]\n",
    "#\n",
    "experiment_names = []\n",
    "for name in path_experiment_names:\n",
    "    if \"_2021-09\" in name:\n",
    "        experiment_names.append(name[:-21])\n",
    "    else:\n",
    "        experiment_names.append(name)"
   ]
  },
  {
   "cell_type": "code",
   "execution_count": null,
   "id": "e110a6c4",
   "metadata": {},
   "outputs": [],
   "source": [
    "plot_mat(acc_matrix, experiment_names, targets, scale_factor=1, p_file=p_acc_map)"
   ]
  },
  {
   "cell_type": "code",
   "execution_count": null,
   "id": "1f1bbdb6",
   "metadata": {},
   "outputs": [],
   "source": [
    "for acc, name in zip(acc_matrix.sum(axis=1), experiment_names):\n",
    "    print(\"{:>40}: {:.3f}\".format(name, acc))"
   ]
  },
  {
   "cell_type": "code",
   "execution_count": null,
   "id": "bcffca1f",
   "metadata": {},
   "outputs": [],
   "source": [
    "for p in p_experiments:\n",
    "    R_train = np.load(p / \"R_train.npy\")\n",
    "    print(\"{:<40}: {:.3f} {:.3f} {:.3f}\".format(p.name, R_train.min(), R_train.mean(),R_train.max()))"
   ]
  },
  {
   "cell_type": "code",
   "execution_count": null,
   "id": "5cc4ade3",
   "metadata": {},
   "outputs": [],
   "source": [
    "for p in p_experiments:\n",
    "    R_train = np.load(p / \"R_train.npy\")\n",
    "    print(\"{:<40}: {:.3f} {:.3f} {:.3f}\".format(p.name, R_train.min(), R_train.mean(),R_train.max()))\n",
    "    cov = np.cov(R_train.T)\n",
    "    plt.imshow(cov)\n",
    "    plt.colorbar()\n",
    "    plt.show()"
   ]
  },
  {
   "cell_type": "code",
   "execution_count": null,
   "id": "c592f423",
   "metadata": {},
   "outputs": [],
   "source": []
  }
 ],
 "metadata": {
  "kernelspec": {
   "display_name": "Python 3 (ipykernel)",
   "language": "python",
   "name": "python3"
  },
  "language_info": {
   "codemirror_mode": {
    "name": "ipython",
    "version": 3
   },
   "file_extension": ".py",
   "mimetype": "text/x-python",
   "name": "python",
   "nbconvert_exporter": "python",
   "pygments_lexer": "ipython3",
   "version": "3.8.10"
  },
  "latex_envs": {
   "LaTeX_envs_menu_present": true,
   "autoclose": false,
   "autocomplete": true,
   "bibliofile": "biblio.bib",
   "cite_by": "apalike",
   "current_citInitial": 1,
   "eqLabelWithNumbers": true,
   "eqNumInitial": 1,
   "hotkeys": {
    "equation": "Ctrl-E",
    "itemize": "Ctrl-I"
   },
   "labels_anchors": false,
   "latex_user_defs": false,
   "report_style_numbering": false,
   "user_envs_cfg": false
  }
 },
 "nbformat": 4,
 "nbformat_minor": 5
}
