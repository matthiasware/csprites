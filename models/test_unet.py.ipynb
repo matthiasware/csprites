{
 "cells": [
  {
   "cell_type": "code",
   "execution_count": null,
   "id": "3b90beca",
   "metadata": {},
   "outputs": [],
   "source": [
    "%load_ext autoreload\n",
    "%autoreload 2"
   ]
  },
  {
   "cell_type": "code",
   "execution_count": null,
   "id": "a1d6a346",
   "metadata": {},
   "outputs": [],
   "source": [
    "import sys\n",
    "sys.path.append(\"..\")\n",
    "\n",
    "import torch\n",
    "import torch.nn as nn\n",
    "import torch.nn.functional as F\n",
    "import torchvision\n",
    "#\n",
    "from UNet.blocks import *"
   ]
  },
  {
   "cell_type": "markdown",
   "id": "02341b1d",
   "metadata": {},
   "source": [
    "## BasicConvBlock"
   ]
  },
  {
   "cell_type": "code",
   "execution_count": null,
   "id": "6e210631",
   "metadata": {},
   "outputs": [],
   "source": [
    "c_in = 32\n",
    "c_out = 64\n",
    "n_blocks = 2\n",
    "#\n",
    "x = torch.rand((10, 32, 128, 128))\n",
    "#\n",
    "model = BasicConvBlock(32, 64, 2, True, True)\n",
    "y = model(x)\n",
    "\n",
    "print(x.shape)\n",
    "print(y.shape)\n",
    "model"
   ]
  },
  {
   "cell_type": "code",
   "execution_count": null,
   "id": "0e3ecc40",
   "metadata": {},
   "outputs": [],
   "source": [
    "x = torch.rand((10, 32, 128, 128))\n",
    "model = BasicConvBlock(32, 32, 2, False, False)\n",
    "model"
   ]
  },
  {
   "cell_type": "markdown",
   "id": "544b9c11",
   "metadata": {},
   "source": [
    "## DownBlock"
   ]
  },
  {
   "cell_type": "code",
   "execution_count": null,
   "id": "bdce5566",
   "metadata": {},
   "outputs": [],
   "source": [
    "x = torch.rand((10, 64, 256, 256))\n",
    "#\n",
    "c_in = 64\n",
    "c_out = 128\n",
    "#\n",
    "n_blocks = 2\n",
    "#\n",
    "model = DownBlock(c_in, c_out, n_blocks)\n",
    "y = model(x)\n",
    "#\n",
    "assert y.shape == ((10, 128, 128, 128))\n",
    "print(x.shape)\n",
    "print(y.shape)\n",
    "model"
   ]
  },
  {
   "cell_type": "markdown",
   "id": "8a28573e",
   "metadata": {},
   "source": [
    "## Encoder"
   ]
  },
  {
   "cell_type": "code",
   "execution_count": null,
   "id": "892dced1",
   "metadata": {},
   "outputs": [],
   "source": [
    "# INPUT\n",
    "img_size = 64\n",
    "bs = 10\n",
    "n_c = 3\n",
    "\n",
    "# INPUT\n",
    "x = torch.rand((bs, n_c, img_size, img_size))\n",
    "#\n",
    "chs_tail = [n_c, 4]\n",
    "chs_down = [4, 8, 16, 32, 64, 128, 256]\n",
    "n_conv_blocks = 1\n",
    "#\n",
    "model = Encoder(chs_tail, chs_down, n_conv_blocks=n_conv_blocks)\n",
    "model"
   ]
  },
  {
   "cell_type": "code",
   "execution_count": null,
   "id": "86befb54",
   "metadata": {},
   "outputs": [],
   "source": [
    "xx = model(x)\n",
    "for x in xx:\n",
    "    print(x.shape)"
   ]
  },
  {
   "cell_type": "markdown",
   "id": "298d2c58",
   "metadata": {},
   "source": [
    "## UpBlock"
   ]
  },
  {
   "cell_type": "code",
   "execution_count": null,
   "id": "dfd54af9",
   "metadata": {},
   "outputs": [],
   "source": [
    "x_down = torch.rand((10, 64, 4, 4))\n",
    "x_side = torch.rand((10, 32, 8, 8))\n",
    "c_down = 64\n",
    "c_out = 32\n",
    "\n",
    "#x_down = torch.rand((10, 256, 1, 1))\n",
    "#x_side = torch.rand((10, 128, 2, 2))\n",
    "#c_down = 256\n",
    "#c_out = 128\n",
    "\n",
    "model = UpBlock(c_down, c_out, 1)\n",
    "#\n",
    "x = model.up(x_down)\n",
    "x.shape\n",
    "\n",
    "print(x_down.shape)\n",
    "print(x.shape)\n",
    "print(x_side.shape)\n",
    "x = torch.cat([x, x_side], dim=1)\n",
    "print(x.shape)\n",
    "x = model.convs(x)\n",
    "print(x.shape)"
   ]
  },
  {
   "cell_type": "code",
   "execution_count": null,
   "id": "856fe2c4",
   "metadata": {},
   "outputs": [],
   "source": [
    "x = model(x_down, x_side)\n",
    "print(x.shape)"
   ]
  },
  {
   "cell_type": "markdown",
   "id": "9fb39d23",
   "metadata": {},
   "source": [
    "## Decoder"
   ]
  },
  {
   "cell_type": "code",
   "execution_count": null,
   "id": "09f7276a",
   "metadata": {},
   "outputs": [],
   "source": [
    "# INPUT\n",
    "img_size = 64\n",
    "bs = 10\n",
    "n_c = 3\n",
    "\n",
    "# INPUT\n",
    "x = torch.rand((bs, n_c, img_size, img_size))\n",
    "#\n",
    "chs_tail = [n_c, 4]\n",
    "chs_down = [4, 8, 16, 32, 64, 128, 256]\n",
    "chs_up = chs_down[::-1]\n",
    "chs_head = [4, 1]\n",
    "n_conv_blocks = 1\n",
    "#\n",
    "encoder = Encoder(chs_tail, chs_down, n_conv_blocks=n_conv_blocks)\n",
    "decoder = Decoder(chs_head, chs_up, n_conv_blocks=n_conv_blocks)"
   ]
  },
  {
   "cell_type": "code",
   "execution_count": null,
   "id": "27ee5c53",
   "metadata": {},
   "outputs": [],
   "source": [
    "xx = encoder(x)\n",
    "for x in xx:\n",
    "    print(x.shape)"
   ]
  },
  {
   "cell_type": "code",
   "execution_count": null,
   "id": "c5bbc2da",
   "metadata": {},
   "outputs": [],
   "source": [
    "x = decoder(xx[::-1])\n",
    "print(x.shape)"
   ]
  },
  {
   "cell_type": "markdown",
   "id": "8349fc85",
   "metadata": {},
   "source": [
    "# UNet"
   ]
  },
  {
   "cell_type": "code",
   "execution_count": null,
   "id": "14205f93",
   "metadata": {},
   "outputs": [],
   "source": [
    "class UNet(nn.Module):\n",
    "    def __init__(self, chs_tail, chs_down, chs_up, chs_head, n_conv_blocks):\n",
    "        super().__init__()\n",
    "        self.encoder = Encoder(chs_tail, chs_down, n_conv_blocks)\n",
    "        self.decoder = Decoder(chs_head, chs_up, n_conv_blocks)\n",
    "    \n",
    "    def forward(self, x):\n",
    "        xx = self.encoder(x)\n",
    "        return self.decoder(xx[::-1])"
   ]
  },
  {
   "cell_type": "code",
   "execution_count": null,
   "id": "d3cc8e75",
   "metadata": {},
   "outputs": [],
   "source": [
    "# INPUT\n",
    "img_size = 64\n",
    "bs = 10\n",
    "n_c = 3\n",
    "\n",
    "# INPUT\n",
    "x = torch.rand((bs, n_c, img_size, img_size))\n",
    "#\n",
    "chs_tail = [n_c, 4]\n",
    "chs_down = [4, 8, 16, 32, 64]\n",
    "chs_up = chs_down[::-1]\n",
    "chs_head = [4, 1]\n",
    "n_conv_blocks = 1\n",
    "#\n",
    "model = UNet(chs_tail, chs_down, chs_up, chs_head, n_conv_blocks)"
   ]
  },
  {
   "cell_type": "code",
   "execution_count": null,
   "id": "189bc88a",
   "metadata": {},
   "outputs": [],
   "source": []
  }
 ],
 "metadata": {
  "kernelspec": {
   "display_name": "Python 3 (ipykernel)",
   "language": "python",
   "name": "python3"
  },
  "language_info": {
   "codemirror_mode": {
    "name": "ipython",
    "version": 3
   },
   "file_extension": ".py",
   "mimetype": "text/x-python",
   "name": "python",
   "nbconvert_exporter": "python",
   "pygments_lexer": "ipython3",
   "version": "3.8.10"
  },
  "latex_envs": {
   "LaTeX_envs_menu_present": true,
   "autoclose": false,
   "autocomplete": true,
   "bibliofile": "biblio.bib",
   "cite_by": "apalike",
   "current_citInitial": 1,
   "eqLabelWithNumbers": true,
   "eqNumInitial": 1,
   "hotkeys": {
    "equation": "Ctrl-E",
    "itemize": "Ctrl-I"
   },
   "labels_anchors": false,
   "latex_user_defs": false,
   "report_style_numbering": false,
   "user_envs_cfg": false
  }
 },
 "nbformat": 4,
 "nbformat_minor": 5
}
