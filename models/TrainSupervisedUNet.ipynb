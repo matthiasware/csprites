{
 "cells": [
  {
   "cell_type": "code",
   "execution_count": null,
   "id": "285024c8",
   "metadata": {},
   "outputs": [],
   "source": [
    "%load_ext autoreload\n",
    "%autoreload 2"
   ]
  },
  {
   "cell_type": "code",
   "execution_count": null,
   "id": "4308a7e9",
   "metadata": {},
   "outputs": [],
   "source": [
    "import sys\n",
    "sys.path.append(\"..\")"
   ]
  },
  {
   "cell_type": "code",
   "execution_count": null,
   "id": "32bf213c",
   "metadata": {},
   "outputs": [],
   "source": [
    "# Python\n",
    "from pathlib import Path\n",
    "import os\n",
    "import warnings\n",
    "import math\n",
    "import datetime\n",
    "import time\n",
    "import pickle\n",
    "warnings.filterwarnings('ignore')\n",
    "\n",
    "# Extern\n",
    "import torch\n",
    "import torch.nn as nn\n",
    "import torch.nn.functional as F\n",
    "from torch.utils.data import DataLoader\n",
    "import torchvision\n",
    "from dotted_dict import DottedDict\n",
    "import matplotlib.pyplot as plt\n",
    "from tqdm import tqdm\n",
    "import pprint\n",
    "import numpy as np\n",
    "import matplotlib.pyplot as plt\n",
    "from sklearn.neighbors import KNeighborsClassifier\n",
    "from sklearn.linear_model import LogisticRegression\n",
    "import torchvision.transforms as transforms\n",
    "import pprint\n",
    "\n",
    "# Local\n",
    "from UNet.unet import UNet\n",
    "from csprites.datasets import SegmentationDataset\n",
    "import utils\n",
    "from optimizer import get_optimizer"
   ]
  },
  {
   "cell_type": "code",
   "execution_count": null,
   "id": "97caeee7",
   "metadata": {},
   "outputs": [],
   "source": [
    "config = {\n",
    "    'device': 'cuda',\n",
    "    'cuda_visible_devices': '1',\n",
    "    'p_data': \"/mnt/data/csprites/single_csprites_64x64_n7_c128_a32_p10_s3_bg_inf_random_function_100000\",\n",
    "    'target_variable': 'shape',\n",
    "    'batch_size': 512,\n",
    "    'num_workers': 6,\n",
    "    'num_epochs': 10,\n",
    "    'freqs': {\n",
    "        'ckpt': 50,         # epochs\n",
    "        'eval': 1,       # epochs\n",
    "        'show': 1,\n",
    "    },\n",
    "    'n_vis': 16,\n",
    "    'model': {\n",
    "        'chs_tail': [3, 8],\n",
    "        'chs_down': [8, 16, 32, 64, 128, 256],\n",
    "        'chs_up': [256, 128, 64, 32, 16, 8],\n",
    "        'chs_head': [8, 1],\n",
    "        'n_conv_blocks': 1\n",
    "    },\n",
    "    'optimizer': 'adam',\n",
    "    'optimizer_args': {\n",
    "        'lr': 1e-3,\n",
    "        'weight_decay': 1e-6\n",
    "    },\n",
    "    'p_ckpts': \"ckpts\",\n",
    "    'p_model': \"model_{}.ckpt\",\n",
    "    'p_stats': \"stats.pkl\",\n",
    "    'p_config': 'config.pkl',\n",
    "    'p_R_train': 'R_train.npy',\n",
    "    'p_R_valid': 'R_valid.npy',\n",
    "    'p_Y_valid': 'Y_valid.npy',\n",
    "    'p_Y_train': 'Y_train.npy',\n",
    "    'linprob': {\n",
    "        'optimizer': 'adam',\n",
    "        'optimizer_args': {\n",
    "            'lr': 0.001,\n",
    "            'weight_decay': 1e-6\n",
    "        },\n",
    "        'n_hid': 0,\n",
    "        'd_hid': 1024,\n",
    "        'num_epochs': 1\n",
    "    }\n",
    "    \n",
    "}\n",
    "p_base = Path(\"/mnt/experiments/csprites\") / Path(config[\"p_data\"]).name / \"tmp\"\n",
    "ts = time.time()\n",
    "st = datetime.datetime.fromtimestamp(ts).strftime('%Y-%m-%d_%H-%M-%S')\n",
    "#\n",
    "config[\"p_experiment\"] = str(p_base / \"UNet_sup_{}\".format(st))\n",
    "config = DottedDict(config)\n",
    "pprint.pprint(config)"
   ]
  },
  {
   "cell_type": "code",
   "execution_count": null,
   "id": "7ec94ab0",
   "metadata": {},
   "outputs": [],
   "source": [
    "# TORCH SETTINGS\n",
    "torch.backends.cudnn.benchmark = True\n",
    "os.environ[\"CUDA_VISIBLE_DEVICES\"] = config.cuda_visible_devices\n",
    "device = torch.device(config.device)"
   ]
  },
  {
   "cell_type": "code",
   "execution_count": null,
   "id": "12a192b9",
   "metadata": {},
   "outputs": [],
   "source": [
    "p_ds_config = Path(config.p_data) / \"config.pkl\"\n",
    "\n",
    "with open(p_ds_config, \"rb\") as file:\n",
    "    ds_config = pickle.load(file)"
   ]
  },
  {
   "cell_type": "code",
   "execution_count": null,
   "id": "277d45d4",
   "metadata": {},
   "outputs": [],
   "source": [
    "norm_transform = utils.normalize_transform(\n",
    "    ds_config[\"means\"],\n",
    "    ds_config[\"stds\"])\n",
    "inverse_norm_transform = utils.inverse_normalize_transform(\n",
    "    ds_config[\"means\"],\n",
    "    ds_config[\"stds\"]\n",
    ")\n",
    "\n",
    "transform_train = transforms.Compose([\n",
    "                transforms.ToTensor(),\n",
    "                norm_transform\n",
    "            ])\n",
    "\n",
    "transform_segm = transforms.Compose([\n",
    "    transforms.ToTensor(),\n",
    "    lambda x: (x > 0).float()\n",
    "])"
   ]
  },
  {
   "cell_type": "code",
   "execution_count": null,
   "id": "081af311",
   "metadata": {},
   "outputs": [],
   "source": [
    "# TRAIN\n",
    "ds_train = SegmentationDataset(\n",
    "    p_data = config.p_data,\n",
    "    transform=transform_train,\n",
    "    target_transform=None,\n",
    "    seg_transform=transform_segm,\n",
    "    split=\"train\"\n",
    ")\n",
    "dl_train = DataLoader(\n",
    "    ds_train,\n",
    "    batch_size=config.batch_size,\n",
    "    shuffle=True,\n",
    "    num_workers=config.num_workers,\n",
    "    pin_memory=False,\n",
    "    drop_last=True\n",
    ")\n",
    "# VALID\n",
    "ds_valid = SegmentationDataset(\n",
    "    p_data = config.p_data,\n",
    "    transform=transform_train,\n",
    "    target_transform=None,\n",
    "    seg_transform=transform_segm,\n",
    "    split=\"valid\"\n",
    ")\n",
    "dl_valid = DataLoader(\n",
    "    ds_valid,\n",
    "    batch_size=config.batch_size,\n",
    "    shuffle=True,\n",
    "    num_workers=config.num_workers,\n",
    "    pin_memory=False,\n",
    "    drop_last=True\n",
    ")"
   ]
  },
  {
   "cell_type": "markdown",
   "id": "ab1cfe76",
   "metadata": {},
   "source": [
    "# Visualize"
   ]
  },
  {
   "cell_type": "code",
   "execution_count": null,
   "id": "fb15a8b4",
   "metadata": {},
   "outputs": [],
   "source": [
    "n_vis = 9"
   ]
  },
  {
   "cell_type": "code",
   "execution_count": null,
   "id": "8c88dbde",
   "metadata": {},
   "outputs": [],
   "source": [
    "x,y,z = next(iter(dl_train))"
   ]
  },
  {
   "cell_type": "code",
   "execution_count": null,
   "id": "cc6941b6",
   "metadata": {},
   "outputs": [],
   "source": [
    "x = x[:n_vis]\n",
    "z = z[:n_vis]"
   ]
  },
  {
   "cell_type": "code",
   "execution_count": null,
   "id": "10f8dd8a",
   "metadata": {},
   "outputs": [],
   "source": [
    "print(z.shape, z.dtype, z.min(), z.max())"
   ]
  },
  {
   "cell_type": "code",
   "execution_count": null,
   "id": "13b90e85",
   "metadata": {},
   "outputs": [],
   "source": [
    "x = inverse_norm_transform(x)"
   ]
  },
  {
   "cell_type": "code",
   "execution_count": null,
   "id": "a34d98f9",
   "metadata": {},
   "outputs": [],
   "source": [
    "grid_img = torchvision.utils.make_grid(x, nrow=int(np.sqrt(n_vis)))\n",
    "plt.imshow(grid_img.permute(1, 2, 0))\n",
    "plt.show()"
   ]
  },
  {
   "cell_type": "code",
   "execution_count": null,
   "id": "a8145637",
   "metadata": {},
   "outputs": [],
   "source": [
    "grid_img = torchvision.utils.make_grid(z, nrow=int(np.sqrt(n_vis)))"
   ]
  },
  {
   "cell_type": "code",
   "execution_count": null,
   "id": "857fffef",
   "metadata": {},
   "outputs": [],
   "source": [
    "plt.imshow(grid_img.permute(1, 2, 0))\n",
    "plt.show()"
   ]
  },
  {
   "cell_type": "markdown",
   "id": "da5222e8",
   "metadata": {},
   "source": [
    "# Model"
   ]
  },
  {
   "cell_type": "code",
   "execution_count": null,
   "id": "aaccb364",
   "metadata": {},
   "outputs": [],
   "source": [
    "model = UNet(\n",
    "    config.model.chs_tail,\n",
    "    config.model.chs_down,\n",
    "    config.model.chs_up,\n",
    "    config.model.chs_head,\n",
    "    config.model.n_conv_blocks\n",
    ")\n",
    "#\n",
    "if torch.cuda.device_count() > 1 and device != \"cpu\":\n",
    "    print(\"Using {} gpus!\".format(torch.cuda.device_count()))\n",
    "    model = torch.nn.DataParallel(model)\n",
    "    model.backbone = model.module.backbone\n",
    "elif device != \"cpu\":\n",
    "    print(\"Using 1 GPU!\")\n",
    "else:\n",
    "    print(\"Using CPU!\")\n",
    "n_params = utils.count_parameters(model)\n",
    "model = model.to(device)\n",
    "print(\"#Params:\", n_params)"
   ]
  },
  {
   "cell_type": "code",
   "execution_count": null,
   "id": "c9439822",
   "metadata": {},
   "outputs": [],
   "source": [
    "optimizer = get_optimizer(config.optimizer, model.parameters(), config.optimizer_args)\n",
    "criterion = nn.MSELoss()"
   ]
  },
  {
   "cell_type": "markdown",
   "id": "9d3fa3b9",
   "metadata": {},
   "source": [
    "# Test Pipeline"
   ]
  },
  {
   "cell_type": "code",
   "execution_count": null,
   "id": "63d0fe3e",
   "metadata": {},
   "outputs": [],
   "source": [
    "model.eval()\n",
    "n_vis = config.n_vis\n",
    "x_vis,_,z_ori_vis = next(iter(dl_valid))\n",
    "#\n",
    "x_vis = x_vis[:n_vis]\n",
    "z_ori_vis = z_ori_vis[:n_vis]\n",
    "#\n",
    "z_pre_vis = model(x_vis.to(device)).detach().cpu()"
   ]
  },
  {
   "cell_type": "code",
   "execution_count": null,
   "id": "9d084d60",
   "metadata": {},
   "outputs": [],
   "source": [
    "print(x_vis.shape, x_vis.dtype)\n",
    "print(z_ori_vis.shape, z_ori_vis.dtype)\n",
    "print(z_pre_vis.shape, z_pre_vis.dtype)"
   ]
  },
  {
   "cell_type": "code",
   "execution_count": null,
   "id": "79465c6c",
   "metadata": {},
   "outputs": [],
   "source": [
    "def visualize(x, z_pre, z_ori, n_vis=4):\n",
    "    x = inverse_norm_transform(x).cpu()[:n_vis]\n",
    "    z_pre = z_pre.detach().cpu()[:n_vis]\n",
    "    z_ori = z_ori.detach().cpu()[:n_vis]\n",
    "    #\n",
    "    img_x = torchvision.utils.make_grid(x, ncol=1).permute(1, 2, 0)\n",
    "    img_z_ori = torchvision.utils.make_grid(z_ori, ncol=1).permute(1, 2, 0)\n",
    "    img_z_pre = torchvision.utils.make_grid(z_pre, ncol=1).permute(1, 2, 0)\n",
    "    img_z = torch.cat([img_z_ori, img_z_pre], dim=0)\n",
    "    #\n",
    "    plt.imshow(img_x)\n",
    "    plt.show()\n",
    "    \n",
    "    #\n",
    "    plt.imshow(img_z)\n",
    "    plt.show()"
   ]
  },
  {
   "cell_type": "code",
   "execution_count": null,
   "id": "163e88f5",
   "metadata": {},
   "outputs": [],
   "source": [
    "visualize(x_vis, z_pre_vis, z_ori_vis, n_vis)"
   ]
  },
  {
   "cell_type": "markdown",
   "id": "e05d801b",
   "metadata": {},
   "source": [
    "## Train"
   ]
  },
  {
   "cell_type": "code",
   "execution_count": null,
   "id": "a6f02a05",
   "metadata": {},
   "outputs": [],
   "source": [
    "stats = {\n",
    "    'train': {\n",
    "        'loss': [],\n",
    "        'epoch': [],\n",
    "    },\n",
    "    'valid': {\n",
    "        'loss': [],\n",
    "        'epoch': [],\n",
    "    }\n",
    "}\n",
    "stats = DottedDict(stats)"
   ]
  },
  {
   "cell_type": "code",
   "execution_count": null,
   "id": "3e847459",
   "metadata": {},
   "outputs": [],
   "source": [
    "global_step = 0\n",
    "for epoch_idx in range(1, config.num_epochs + 1, 1):\n",
    "    model.train()\n",
    "    epoch_step = 0\n",
    "    epoch_loss = 0\n",
    "    desc = \"Epoch [{:3}/{:3}] {}:\".format(epoch_idx, config.num_epochs, 'train')\n",
    "    pbar = tqdm(dl_train, bar_format= desc + '{bar:10}{r_bar}{bar:-10b}')\n",
    "    for x, _, z in pbar:\n",
    "        x = x.to(device)\n",
    "        z = z.to(device)\n",
    "        #\n",
    "        for param in model.parameters():\n",
    "            param.grad = None\n",
    "        z_pred = model(x)\n",
    "        loss = criterion(z_pred, z)\n",
    "        loss.backward()\n",
    "        optimizer.step()\n",
    "        #\n",
    "        epoch_loss += loss.item()\n",
    "        epoch_step += 1\n",
    "        global_step += 1\n",
    "        #\n",
    "        pbar.set_postfix({\"loss\": loss.item()})\n",
    "    stats.train.loss.append(epoch_loss / epoch_step)\n",
    "    stats.train.epoch.append(epoch_idx)\n",
    "    \n",
    "    if epoch_idx % config.freqs.eval == 0:\n",
    "        model.eval()\n",
    "        epoch_loss = 0\n",
    "        epoch_step = 0\n",
    "        desc = \"Epoch [{:3}/{:3}] {}:\".format(epoch_idx, config.num_epochs, 'valid')\n",
    "        pbar = tqdm(dl_valid, bar_format= desc + '{bar:10}{r_bar}{bar:-10b}')\n",
    "        for x, _, z in pbar:\n",
    "            x = x.to(device)\n",
    "            z = z.to(device)\n",
    "            with torch.no_grad():\n",
    "                z_pred = model(x)\n",
    "            loss = criterion(z_pred, z)\n",
    "\n",
    "            epoch_loss += loss.item()\n",
    "            epoch_step += 1\n",
    "            #\n",
    "            pbar.set_postfix({\"loss\": loss.item()})\n",
    "        print(\"   Loss: {:.4f}\".format(epoch_loss / epoch_step))\n",
    "        stats.valid.epoch.append(epoch_idx)\n",
    "        stats.valid.loss.append(epoch_loss / epoch_step)\n",
    "    \n",
    "    if epoch_idx % config.freqs.show == 0:\n",
    "        model.eval()\n",
    "        with torch.no_grad():\n",
    "            z_pre_vis = model(x_vis.to(device)).detach().cpu()\n",
    "        visualize(x_vis, z_pre_vis, z_ori_vis, n_vis)"
   ]
  },
  {
   "cell_type": "markdown",
   "id": "42db92c8",
   "metadata": {},
   "source": [
    "# Plot"
   ]
  },
  {
   "cell_type": "code",
   "execution_count": null,
   "id": "7c80b22f",
   "metadata": {},
   "outputs": [],
   "source": [
    "# plot losses\n",
    "plt.plot(stats.train.epoch, stats.train.loss, label=\"train\")\n",
    "plt.plot(stats.valid.epoch, stats.valid.loss, label=\"valid\")\n",
    "plt.legend()\n",
    "plt.show()"
   ]
  },
  {
   "cell_type": "markdown",
   "id": "98e3c69f",
   "metadata": {},
   "source": [
    "# Test"
   ]
  },
  {
   "cell_type": "code",
   "execution_count": null,
   "id": "fd44af4c",
   "metadata": {},
   "outputs": [],
   "source": [
    "model.eval()\n",
    "x2 = torch.rand((128, 3, 64, 64))\n",
    "x1 = torch.rand((128, 3, 64, 64))\n",
    "#\n",
    "with torch.no_grad():\n",
    "    z1 = model(x1.to(device)).cpu()\n",
    "    z2 = model(x2.to(device)).cpu()"
   ]
  },
  {
   "cell_type": "code",
   "execution_count": null,
   "id": "f60d2a97",
   "metadata": {},
   "outputs": [],
   "source": [
    "criterion(z1, z2)"
   ]
  },
  {
   "cell_type": "code",
   "execution_count": null,
   "id": "1f9a7c07",
   "metadata": {},
   "outputs": [],
   "source": [
    "torch.mean((z1 - z2)**2)"
   ]
  },
  {
   "cell_type": "code",
   "execution_count": null,
   "id": "99d32020",
   "metadata": {},
   "outputs": [],
   "source": []
  }
 ],
 "metadata": {
  "kernelspec": {
   "display_name": "Python 3 (ipykernel)",
   "language": "python",
   "name": "python3"
  },
  "language_info": {
   "codemirror_mode": {
    "name": "ipython",
    "version": 3
   },
   "file_extension": ".py",
   "mimetype": "text/x-python",
   "name": "python",
   "nbconvert_exporter": "python",
   "pygments_lexer": "ipython3",
   "version": "3.8.10"
  },
  "latex_envs": {
   "LaTeX_envs_menu_present": true,
   "autoclose": false,
   "autocomplete": true,
   "bibliofile": "biblio.bib",
   "cite_by": "apalike",
   "current_citInitial": 1,
   "eqLabelWithNumbers": true,
   "eqNumInitial": 1,
   "hotkeys": {
    "equation": "Ctrl-E",
    "itemize": "Ctrl-I"
   },
   "labels_anchors": false,
   "latex_user_defs": false,
   "report_style_numbering": false,
   "user_envs_cfg": false
  }
 },
 "nbformat": 4,
 "nbformat_minor": 5
}
