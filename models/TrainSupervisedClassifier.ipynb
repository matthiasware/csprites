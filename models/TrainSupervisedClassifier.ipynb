{
 "cells": [
  {
   "cell_type": "code",
   "execution_count": null,
   "id": "843cebc2",
   "metadata": {},
   "outputs": [],
   "source": [
    "%load_ext autoreload\n",
    "%autoreload 2"
   ]
  },
  {
   "cell_type": "code",
   "execution_count": null,
   "id": "b26e2769",
   "metadata": {},
   "outputs": [],
   "source": [
    "import sys\n",
    "sys.path.append(\"..\")"
   ]
  },
  {
   "cell_type": "code",
   "execution_count": null,
   "id": "ae80f575",
   "metadata": {},
   "outputs": [],
   "source": [
    "import os\n",
    "from pathlib import Path\n",
    "import pickle\n",
    "import timeit\n",
    "#\n",
    "import matplotlib.pyplot as plt\n",
    "import numpy as np\n",
    "import torch\n",
    "import torch.nn as nn\n",
    "import torch.optim as optim\n",
    "from torch.utils.data import DataLoader\n",
    "import torchvision\n",
    "from torchvision import transforms, models\n",
    "from dotted_dict import DottedDict\n",
    "from tqdm import tqdm\n",
    "import pprint\n",
    "#\n",
    "from csprites.datasets import ClassificationDataset\n",
    "import utils\n",
    "from backbone import get_backbone\n",
    "from optimizer import get_optimizer"
   ]
  },
  {
   "cell_type": "markdown",
   "id": "29a81dfa",
   "metadata": {},
   "source": [
    "# Settings"
   ]
  },
  {
   "cell_type": "code",
   "execution_count": null,
   "id": "c89a82b0",
   "metadata": {},
   "outputs": [],
   "source": [
    "config = {\n",
    "    'device': 'cuda',\n",
    "    'cuda_visible_devices': '0,1',\n",
    "    'p_data': \"/mnt/data/csprites/single_csprites_32x32_n7_c32_a32_p6_s2_bg_inf_random_function_100000\",\n",
    "    'target_variable': 'angle',\n",
    "    'batch_size': 1024,\n",
    "    'num_workers': 6,\n",
    "    'num_epochs': 20,\n",
    "    'freqs': {\n",
    "        'ckpt': 10,         # epochs\n",
    "        'eval': 1,          # epochs\n",
    "    },\n",
    "    'num_vis': 64,\n",
    "    'backbone': \"ResNet-18\",\n",
    "    'optimizer': 'adam',\n",
    "    'optimizer_args': {\n",
    "        'lr': 0.001,\n",
    "        'weight_decay': 1e-6\n",
    "    },\n",
    "    'p_ckpts': \"ckpts\",\n",
    "    'p_model': \"model_{}.ckpt\",\n",
    "    'p_stats': \"stats.pkl\",\n",
    "    'p_config': 'config.pkl',\n",
    "    'p_R_train': 'R_train.npy',\n",
    "    'p_R_valid': 'R_valid.npy',\n",
    "    'p_Y_valid': 'Y_valid.npy',\n",
    "    'p_Y_train': 'Y_train.npy'\n",
    "}\n",
    "p_base = Path(\"/mnt/experiments/csprites\") / Path(config[\"p_data\"]).name\n",
    "config[\"p_experiment\"] = str(p_base / \"bb_[{}]_target_[{}]\".format(config[\"backbone\"],\n",
    "                                                           config[\"target_variable\"]))\n",
    "config = DottedDict(config)\n",
    "pprint.pprint(config)"
   ]
  },
  {
   "cell_type": "markdown",
   "id": "77a49cf1",
   "metadata": {},
   "source": [
    "## Settings"
   ]
  },
  {
   "cell_type": "code",
   "execution_count": null,
   "id": "284a2db9",
   "metadata": {},
   "outputs": [],
   "source": [
    "# TORCH SETTINGS\n",
    "torch.backends.cudnn.benchmark = True\n",
    "os.environ[\"CUDA_VISIBLE_DEVICES\"] = config.cuda_visible_devices\n",
    "device = torch.device(config.device)\n",
    "p_ds_config = Path(config.p_data) / \"config.pkl\"\n",
    "\n",
    "with open(p_ds_config, \"rb\") as file:\n",
    "    ds_config = pickle.load(file)\n",
    "\n",
    "target_variable = config.target_variable\n",
    "target_idx = [idx for idx, target in enumerate(ds_config[\"classes\"]) if target == target_variable][0]\n",
    "n_classes = ds_config[\"n_classes\"][target_variable]\n",
    "#\n",
    "target_transform = lambda x: x[target_idx]\n",
    "transform = transform = transforms.Compose(\n",
    "    [transforms.ToTensor(),\n",
    "     utils.normalize_transform(ds_config[\"means\"],\n",
    "                               ds_config[\"stds\"])\n",
    "    ])\n",
    "inverse_transform = utils.inverse_normalize_transform(\n",
    "    ds_config[\"means\"],\n",
    "    ds_config[\"stds\"]\n",
    ")"
   ]
  },
  {
   "cell_type": "markdown",
   "id": "8886aed4",
   "metadata": {},
   "source": [
    "## Dataset"
   ]
  },
  {
   "cell_type": "code",
   "execution_count": null,
   "id": "a4b2d44e",
   "metadata": {},
   "outputs": [],
   "source": [
    "# TRAIN\n",
    "ds_train = ClassificationDataset(\n",
    "    p_data = config.p_data,\n",
    "    transform=transform,\n",
    "    target_transform=target_transform,\n",
    "    split=\"train\"\n",
    ")\n",
    "dl_train = DataLoader(\n",
    "    ds_train,\n",
    "    batch_size=config.batch_size,\n",
    "    shuffle=True,\n",
    "    num_workers=config.num_workers,\n",
    "    pin_memory=False\n",
    ")\n",
    "# VALID\n",
    "ds_valid = ClassificationDataset(\n",
    "    p_data = config.p_data,\n",
    "    transform=transform,\n",
    "    target_transform=target_transform,\n",
    "    split=\"valid\"\n",
    ")\n",
    "dl_valid = DataLoader(\n",
    "    ds_valid,\n",
    "    batch_size=config.batch_size,\n",
    "    shuffle=True,\n",
    "    num_workers = config.num_workers,\n",
    "    pin_memory=False\n",
    ")"
   ]
  },
  {
   "cell_type": "markdown",
   "id": "54debcf5",
   "metadata": {},
   "source": [
    "# Visualize"
   ]
  },
  {
   "cell_type": "code",
   "execution_count": null,
   "id": "ca30aecb",
   "metadata": {},
   "outputs": [],
   "source": [
    "n_vis = config.num_vis\n",
    "x,y = next(iter(dl_train))\n",
    "x = x[:n_vis]\n",
    "y = y[:n_vis]\n",
    "#\n",
    "x = inverse_transform(x)\n",
    "#\n",
    "grid_img = torchvision.utils.make_grid(x, nrow=int(np.sqrt(n_vis)))\n",
    "plt.imshow(grid_img.permute(1, 2, 0))"
   ]
  },
  {
   "cell_type": "markdown",
   "id": "e72a59a3",
   "metadata": {},
   "source": [
    "## Model & Optimizer"
   ]
  },
  {
   "cell_type": "code",
   "execution_count": null,
   "id": "9b50f214",
   "metadata": {},
   "outputs": [],
   "source": [
    "model = get_backbone(config.backbone, pretrained=False)\n",
    "model.fc = torch.nn.Linear(in_features=model.dim_out, out_features=n_classes)\n",
    "print(\"#param [m]: {:.3f}\".format(utils.count_parameters(model) * 1e-6))\n",
    "#\n",
    "if torch.cuda.device_count() > 1 and device != \"cpu\":\n",
    "    print(\"Using {} gpus!\".format(torch.cuda.device_count()))\n",
    "    model = torch.nn.DataParallel(model)\n",
    "model = model.to(device)"
   ]
  },
  {
   "cell_type": "code",
   "execution_count": null,
   "id": "a34bab31",
   "metadata": {},
   "outputs": [],
   "source": [
    "optimizer = get_optimizer(config.optimizer, model, config.optimizer_args)\n",
    "criterion = nn.CrossEntropyLoss()"
   ]
  },
  {
   "cell_type": "code",
   "execution_count": null,
   "id": "cd37e344",
   "metadata": {},
   "outputs": [],
   "source": [
    "n_classes"
   ]
  },
  {
   "cell_type": "markdown",
   "id": "87e91086",
   "metadata": {},
   "source": [
    "# Train"
   ]
  },
  {
   "cell_type": "code",
   "execution_count": null,
   "id": "bde8e885",
   "metadata": {},
   "outputs": [],
   "source": [
    "stats = {\n",
    "    'train': {\n",
    "        'loss': [],\n",
    "        'acc': [],\n",
    "        'epoch': [],\n",
    "    },\n",
    "    'valid': {\n",
    "        'loss': [],\n",
    "        'acc': [],\n",
    "        'epoch': [],\n",
    "    }\n",
    "}\n",
    "stats = DottedDict(stats)"
   ]
  },
  {
   "cell_type": "code",
   "execution_count": null,
   "id": "8b835758",
   "metadata": {},
   "outputs": [],
   "source": [
    "p_experiment = Path(config.p_experiment)\n",
    "p_experiment.mkdir(exist_ok=True, parents=True)\n",
    "p_ckpts = p_experiment / config.p_ckptsbreak\n",
    "p_ckpts.mkdir(exist_ok=True)\n",
    "\n",
    "print_tmp = \"    Epoch [{:3}/{:3}] - {}: loss: {:.3f} acc: {:.3f}\"\n",
    "desc_tmp = \"Epoch [{:3}/{:3}] {}:\"\n",
    "#\n",
    "for epoch_idx in range(1, config.num_epochs + 1, 1):\n",
    "    ################\n",
    "    # TRAIN\n",
    "    ################\n",
    "    model.train()\n",
    "    epoch_step = 0\n",
    "    epoch_loss = 0\n",
    "    epoch_total = 0\n",
    "    epoch_correct = 0\n",
    "    #\n",
    "    desc = desc_tmp.format(epoch_idx, config.num_epochs, 'train')\n",
    "    pbar = tqdm(dl_train, bar_format= desc + '{bar:10}{r_bar}{bar:-10b}')\n",
    "    #\n",
    "    for x, y in pbar:\n",
    "        x = x.to(device)\n",
    "        y = y.to(device)\n",
    "        for param in model.parameters():\n",
    "            param.grad = None\n",
    "        out = model(x)\n",
    "        loss = criterion(out, y)\n",
    "        loss.backward()\n",
    "        optimizer.step()\n",
    "        #\n",
    "        _, y_pred = torch.max(out, 1)\n",
    "        total = y.size(0)\n",
    "        correct = (y_pred == y).sum().item()\n",
    "        #\n",
    "        epoch_loss += loss.item()\n",
    "        epoch_total += total\n",
    "        epoch_correct += correct\n",
    "        epoch_step += 1\n",
    "        #\n",
    "        pbar.set_postfix({'loss': loss.item(), 'acc': correct / total})\n",
    "\n",
    "    stats.train.loss.append(epoch_loss / epoch_step)\n",
    "    stats.train.acc.append(epoch_correct / epoch_total)\n",
    "    stats.train.epoch.append(epoch_idx)\n",
    "    \n",
    "    ################\n",
    "    # EVAL\n",
    "    ################\n",
    "    if epoch_idx % config.freqs.eval == 0 or epoch_idx == config.num_epochs:\n",
    "        model.eval()\n",
    "        epoch_step = 0\n",
    "        epoch_loss = 0\n",
    "        epoch_total = 0\n",
    "        epoch_correct = 0\n",
    "        #\n",
    "        desc = desc_tmp.format(epoch_idx, config.num_epochs, 'valid')\n",
    "        pbar = tqdm(dl_valid, bar_format= desc + '{bar:10}{r_bar}{bar:-10b}')\n",
    "        #\n",
    "        for x, y in pbar:\n",
    "            x = x.to(device)\n",
    "            y = y.to(device)\n",
    "            with torch.no_grad():\n",
    "                out = model(x)\n",
    "                loss = criterion(out, y)\n",
    "            #\n",
    "                _, y_pred = torch.max(out, 1)\n",
    "            total = y.size(0)\n",
    "            correct = (y_pred == y).sum().item()\n",
    "            #\n",
    "            epoch_loss += loss.item()\n",
    "            epoch_total += total\n",
    "            epoch_correct += correct\n",
    "            epoch_step += 1\n",
    "            #\n",
    "            pbar.set_postfix({'loss': loss.item(), 'acc': correct / total})\n",
    "        #\n",
    "        stats.valid.loss.append(epoch_loss / epoch_step)\n",
    "        stats.valid.acc.append(epoch_correct / epoch_total)\n",
    "        stats.valid.epoch.append(epoch_idx)\n",
    "    if epoch_idx % config.freqs.ckpt == 0 or epoch_idx == config.num_epochs:\n",
    "        print(\"save model!\")\n",
    "        if torch.cuda.device_count() > 1 and device != \"cpu\":\n",
    "            torch.save(model.module.state_dict(), p_ckpts / config.p_model.format(epoch_idx))\n",
    "        else:\n",
    "            torch.save(model.state_dict(), p_ckpts / config.p_model.format(epoch_idx))"
   ]
  },
  {
   "cell_type": "markdown",
   "id": "c5abb18d",
   "metadata": {},
   "source": [
    "# Plot losses"
   ]
  },
  {
   "cell_type": "code",
   "execution_count": null,
   "id": "9ee9e7f3",
   "metadata": {},
   "outputs": [],
   "source": [
    "# plot losses\n",
    "plt.plot(stats.train.epoch, stats.train.loss, label=\"train\")\n",
    "plt.plot(stats.valid.epoch, stats.valid.loss, label=\"valid\")\n",
    "plt.yscale('log')\n",
    "plt.legend()\n",
    "plt.savefig(p_experiment / \"loss.png\")\n",
    "plt.show()\n",
    "\n",
    "\n",
    "# plot accs\n",
    "plt.plot(stats.train.epoch, stats.train.acc, label=\"train\")\n",
    "plt.plot(stats.valid.epoch, stats.valid.acc, label=\"valid\")\n",
    "plt.yscale('log')\n",
    "plt.legend()\n",
    "plt.savefig(p_experiment / \"acc.png\")\n",
    "plt.show()"
   ]
  },
  {
   "cell_type": "markdown",
   "id": "ec7592c7",
   "metadata": {},
   "source": [
    "# Save stats and config"
   ]
  },
  {
   "cell_type": "code",
   "execution_count": null,
   "id": "75871f55",
   "metadata": {},
   "outputs": [],
   "source": [
    "with open(p_experiment / config.p_config, \"wb\") as file:\n",
    "    pickle.dump(config, file)\n",
    "with open(p_experiment / config.p_stats, \"wb\") as file:\n",
    "    pickle.dump(stats, file)"
   ]
  },
  {
   "cell_type": "markdown",
   "id": "e37fd481",
   "metadata": {},
   "source": [
    "# Get Representations for Linprob task"
   ]
  },
  {
   "cell_type": "code",
   "execution_count": null,
   "id": "c6d213f7",
   "metadata": {},
   "outputs": [],
   "source": [
    "# TRAIN\n",
    "ds_train = ClassificationDataset(\n",
    "    p_data = config.p_data,\n",
    "    transform=transform,\n",
    "    target_transform=None,\n",
    "    split=\"train\"\n",
    ")\n",
    "dl_train = DataLoader(\n",
    "    ds_train,\n",
    "    batch_size=config.batch_size,\n",
    "    shuffle=False,\n",
    "    num_workers=config.num_workers,\n",
    "    pin_memory=False\n",
    ")\n",
    "# VALID\n",
    "ds_valid = ClassificationDataset(\n",
    "    p_data = config.p_data,\n",
    "    transform=transform,\n",
    "    target_transform=None,\n",
    "    split=\"valid\"\n",
    ")\n",
    "dl_valid = DataLoader(\n",
    "    ds_valid,\n",
    "    batch_size=config.batch_size,\n",
    "    shuffle=False,\n",
    "    num_workers = config.num_workers,\n",
    "    pin_memory=False\n",
    ")"
   ]
  },
  {
   "cell_type": "code",
   "execution_count": null,
   "id": "d2713365",
   "metadata": {},
   "outputs": [],
   "source": [
    "model = get_backbone(config.backbone, pretrained=False)\n",
    "ckpt = torch.load(str(p_ckpts / config.p_model.format(config.num_epochs)))\n",
    "r = model.load_state_dict(ckpt, strict=False)\n",
    "assert len(r.missing_keys) == 0\n",
    "assert len(r.unexpected_keys) == 2\n",
    "#\n",
    "model = model.to(device)\n",
    "model.eval()"
   ]
  },
  {
   "cell_type": "code",
   "execution_count": null,
   "id": "07c3bc48",
   "metadata": {},
   "outputs": [],
   "source": [
    "p_R_train = p_experiment / config[\"p_R_train\"]\n",
    "p_Y_train = p_experiment / config[\"p_Y_train\"]\n",
    "p_R_valid = p_experiment / config[\"p_R_valid\"]\n",
    "p_Y_valid = p_experiment / config[\"p_Y_valid\"]"
   ]
  },
  {
   "cell_type": "code",
   "execution_count": null,
   "id": "3479b67e",
   "metadata": {},
   "outputs": [],
   "source": [
    "R_train = []\n",
    "R_valid = []\n",
    "Y_train = []\n",
    "Y_valid = []\n",
    "#\n",
    "for x, y in tqdm(dl_train):\n",
    "    x = x.to(device)\n",
    "    with torch.no_grad():\n",
    "        r = model(x).detach().cpu().numpy()\n",
    "    R_train.append(r)\n",
    "    Y_train.append(y.numpy())\n",
    "#\n",
    "for x, y in tqdm(dl_valid):\n",
    "    x = x.to(device)\n",
    "    with torch.no_grad():\n",
    "        r = model(x).detach().cpu().numpy()\n",
    "    R_valid.append(r)\n",
    "    Y_valid.append(y.numpy())\n",
    "\n",
    "R_train = np.concatenate(R_train)\n",
    "R_valid = np.concatenate(R_valid)\n",
    "Y_train = np.concatenate(Y_train)\n",
    "Y_valid = np.concatenate(Y_valid)"
   ]
  },
  {
   "cell_type": "code",
   "execution_count": null,
   "id": "c78d23fc",
   "metadata": {},
   "outputs": [],
   "source": [
    "np.save(p_R_train, R_train)\n",
    "np.save(p_Y_train, Y_train)\n",
    "np.save(p_R_valid, R_valid)\n",
    "np.save(p_Y_valid, Y_valid)"
   ]
  },
  {
   "cell_type": "code",
   "execution_count": null,
   "id": "7a57a845",
   "metadata": {},
   "outputs": [],
   "source": [
    "print(R_train.shape)\n",
    "print(R_valid.shape)\n",
    "print(Y_train.shape)\n",
    "print(Y_valid.shape)"
   ]
  },
  {
   "cell_type": "code",
   "execution_count": null,
   "id": "e29e2b46",
   "metadata": {},
   "outputs": [],
   "source": []
  }
 ],
 "metadata": {
  "kernelspec": {
   "display_name": "Python 3 (ipykernel)",
   "language": "python",
   "name": "python3"
  },
  "language_info": {
   "codemirror_mode": {
    "name": "ipython",
    "version": 3
   },
   "file_extension": ".py",
   "mimetype": "text/x-python",
   "name": "python",
   "nbconvert_exporter": "python",
   "pygments_lexer": "ipython3",
   "version": "3.8.10"
  },
  "latex_envs": {
   "LaTeX_envs_menu_present": true,
   "autoclose": false,
   "autocomplete": true,
   "bibliofile": "biblio.bib",
   "cite_by": "apalike",
   "current_citInitial": 1,
   "eqLabelWithNumbers": true,
   "eqNumInitial": 1,
   "hotkeys": {
    "equation": "Ctrl-E",
    "itemize": "Ctrl-I"
   },
   "labels_anchors": false,
   "latex_user_defs": false,
   "report_style_numbering": false,
   "user_envs_cfg": false
  }
 },
 "nbformat": 4,
 "nbformat_minor": 5
}
