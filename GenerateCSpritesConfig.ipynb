{
 "cells": [
  {
   "cell_type": "markdown",
   "id": "7aef4602",
   "metadata": {},
   "source": [
    "# CSprites Config Generator"
   ]
  },
  {
   "cell_type": "code",
   "execution_count": null,
   "id": "b1e82563",
   "metadata": {},
   "outputs": [],
   "source": [
    "%load_ext autoreload\n",
    "%autoreload 2"
   ]
  },
  {
   "cell_type": "code",
   "execution_count": null,
   "id": "58076ed5",
   "metadata": {},
   "outputs": [],
   "source": [
    "from pathlib import Path\n",
    "import pickle as pkl\n",
    "import timeit\n",
    "#\n",
    "import numpy as np\n",
    "import pprint\n",
    "#\n",
    "from csprites.masks import get_shapes\n",
    "from csprites.scales import get_shape_sizes_evenly_scaled\n",
    "from csprites.positions import get_max_positions\n",
    "from csprites.configs import be_config"
   ]
  },
  {
   "cell_type": "markdown",
   "id": "e60b3f62",
   "metadata": {},
   "source": [
    "# Backend Parameters"
   ]
  },
  {
   "cell_type": "code",
   "execution_count": null,
   "id": "e2e6b726",
   "metadata": {},
   "outputs": [],
   "source": [
    "pprint.pprint(be_config)"
   ]
  },
  {
   "cell_type": "markdown",
   "id": "ef1049c7",
   "metadata": {},
   "source": [
    "# User Input: Generative Factors"
   ]
  },
  {
   "cell_type": "code",
   "execution_count": null,
   "id": "a37a9052",
   "metadata": {},
   "outputs": [],
   "source": [
    "be_config.all_shape_names"
   ]
  },
  {
   "cell_type": "code",
   "execution_count": null,
   "id": "7d6ae415",
   "metadata": {},
   "outputs": [],
   "source": [
    "# Independet User Inputs\n",
    "# see be_config for ranges and limits, check client side!\n",
    "# img size\n",
    "img_size = 64\n",
    "assert img_size in be_config.img_sizes\n",
    "\n",
    "# shapes\n",
    "shape_names = be_config.all_shape_names\n",
    "for name in shape_names:\n",
    "    assert name in be_config.all_shape_names\n",
    "\n",
    "# fill rates\n",
    "min_mask_fill_rate = 0.2\n",
    "assert 0 < min_mask_fill_rate < 1\n",
    "\n",
    "max_mask_fill_rate = 0.5  \n",
    "assert min_mask_fill_rate <= max_mask_fill_rate\n",
    "assert max_mask_fill_rate < 1\n",
    "\n",
    "# colors \n",
    "n_colors = 512\n",
    "assert be_config.n_colors_min <= n_colors\n",
    "assert n_colors <= be_config.n_colors_max\n",
    "\n",
    "# angles\n",
    "n_angles = 32\n",
    "assert be_config.n_angles_min <= n_angles\n",
    "assert n_angles <= be_config.n_angles_max\n",
    "\n",
    "# backgrounds\n",
    "n_bg = np.inf                                 # n_bgs_min <= n_bg <= n_bgs_max [1, n, np.inf]\n",
    "if n_bg != np.inf:\n",
    "    assert be_config.n_bgs_min <= n_bg\n",
    "    assert n_bg <= be_config.n_bgs_max\n",
    "\n",
    "bg_style = \"random_function\"              # bg_style in bg_styles\n",
    "assert bg_style in be_config.bg_styles\n",
    "\n",
    "# targets\n",
    "target_bbox = True\n",
    "target_segm = True"
   ]
  },
  {
   "cell_type": "markdown",
   "id": "f6c712a0",
   "metadata": {},
   "source": [
    "# Intermediate Calculations"
   ]
  },
  {
   "cell_type": "code",
   "execution_count": null,
   "id": "79511ef4",
   "metadata": {},
   "outputs": [],
   "source": [
    "# Shapes\n",
    "shapes = get_shapes(shape_names)\n",
    "n_shapes = len(shapes)\n",
    "\n",
    "# shape_sizes\n",
    "min_mask_area = img_size** 2 * min_mask_fill_rate\n",
    "max_mask_area = img_size** 2 * max_mask_fill_rate\n",
    "\n",
    "# Notes: If limited to 0.1 steps or so, we could precalculate the max_mask_size and subsequently max positions ect\n",
    "shape_sizes, max_mask_size = get_shape_sizes_evenly_scaled(shapes, min_mask_area, max_mask_area)\n",
    "\n",
    "# n_scales_max\n",
    "n_scales_max = len(list(shape_sizes.values())[0])\n",
    "\n",
    "# n_positions_max\n",
    "n_positions_max = get_max_positions(img_size, max_mask_size)"
   ]
  },
  {
   "cell_type": "markdown",
   "id": "18b277a4",
   "metadata": {},
   "source": [
    "# User Input: Generative Factors, that depend on Previous User Input"
   ]
  },
  {
   "cell_type": "code",
   "execution_count": null,
   "id": "5f26ff3b",
   "metadata": {},
   "outputs": [],
   "source": [
    "print(n_scales_max)\n",
    "print(n_positions_max)"
   ]
  },
  {
   "cell_type": "code",
   "execution_count": null,
   "id": "1c479ebe",
   "metadata": {},
   "outputs": [],
   "source": [
    "# Dependent Inputs\n",
    "n_scales = n_scales_max        # n_scales_min <= n_scales <= n_scales_max\n",
    "assert be_config.n_scales_min <= n_scales\n",
    "assert n_scales <= be_config.n_scales_max\n",
    "assert n_scales <= n_scales_max\n",
    "\n",
    "n_positions = 10  # n_positions_min <= n_positions <= n_positions_max\n",
    "assert be_config.n_positions_min <= n_positions\n",
    "assert n_positions <= be_config.n_positions_max\n",
    "assert n_positions <= n_positions_max"
   ]
  },
  {
   "cell_type": "markdown",
   "id": "3ddf8e0c",
   "metadata": {},
   "source": [
    "# Visualize Inputs"
   ]
  },
  {
   "cell_type": "code",
   "execution_count": null,
   "id": "c38bc0bd",
   "metadata": {},
   "outputs": [],
   "source": [
    "print(\"img dims:   {}x{}x{}\".format(img_size, img_size, 3))\n",
    "print(\"#shapes:    {}\".format(n_shapes))\n",
    "print(\"#colors:    {}\".format(n_colors))\n",
    "print(\"#angles:    {}\".format(n_angles))\n",
    "print(\"#scales:    {}\".format(n_scales))\n",
    "print(\"#positions: {}\".format(n_positions))"
   ]
  },
  {
   "cell_type": "markdown",
   "id": "51c43b26",
   "metadata": {},
   "source": [
    "# User Input: Dataset Stats"
   ]
  },
  {
   "cell_type": "code",
   "execution_count": null,
   "id": "cfed0411",
   "metadata": {},
   "outputs": [],
   "source": [
    "# we do not care about backgrounds!\n",
    "# some masks are the same, thanks to rotation invariance\n",
    "n_masks = n_shapes * n_colors * n_angles * n_scales\n",
    "n_states = n_masks * n_positions**2\n",
    "#\n",
    "mem_usage_bytes = img_size**2 * 3 * n_states\n",
    "#\n",
    "print(\"*\"*40)\n",
    "print(\"{:^40}\".format(\"Space Stats\"))\n",
    "print(\"*\"*40)\n",
    "print(\"#States:        {:<10}\".format(n_states))\n",
    "print(\"#Masks:         {:<10}\".format(n_masks))\n",
    "print(\"Mem usage [mb]: {:.2f}\".format(mem_usage_bytes * 1e-6))\n",
    "print(\"Mem usage [Gb]: {:.2f}\".format(mem_usage_bytes * 1e-9))# Calculate Stuff"
   ]
  },
  {
   "cell_type": "code",
   "execution_count": null,
   "id": "a1d71600",
   "metadata": {},
   "outputs": [],
   "source": [
    "###### INPUT #####\n",
    "generate_subset = True  # Generate subset or whole state space?\n",
    "##################\n",
    "\n",
    "if generate_subset:\n",
    "    ###### INPUT #####\n",
    "    n_train = 90000\n",
    "    n_valid = 10000\n",
    "    ##################\n",
    "    n_samples = n_train + n_valid\n",
    "    train_rate = n_train / n_samples\n",
    "    #\n",
    "    assert n_samples <= n_states, \"Cannot generate more than all possible states!\"\n",
    "else:\n",
    "    n_samples = n_states\n",
    "    ###### INPUT #####\n",
    "    train_rate = 0.9\n",
    "    ##################generate_subset\n",
    "    n_train = int(train_rate * n_states)\n",
    "    n_valid = n_states - n_train\n",
    "\n",
    "samling_rate = n_samples / n_states\n",
    "mem_usage_bytes = img_size**2 * 3 * n_samples\n",
    "    \n",
    "assert be_config.mem_usage_gb_max >= mem_usage_bytes * 1e-9"
   ]
  },
  {
   "cell_type": "code",
   "execution_count": null,
   "id": "17359782",
   "metadata": {},
   "outputs": [],
   "source": [
    "print(\"*\"*40)\n",
    "print(\"{:^40}\".format(\"Dataset Stats\"))\n",
    "print(\"*\"*40)\n",
    "print(\"#Masks:        {:>10}\".format(n_masks))\n",
    "print(\"#States:       {:>10}\".format(n_states))\n",
    "print(\"#Samples:      {:>10}\".format(n_samples))\n",
    "print(\"#Train:        {:>10}\".format(n_train))\n",
    "print(\"#Valid:        {:>10}\".format(n_valid))\n",
    "print(\"*\"*40)\n",
    "print(\"Train rate:     {:.2f}\".format(train_rate))\n",
    "print(\"Sampling rate:  {:.2f}\".format(samling_rate))\n",
    "print(\"Mem usage [mb]: {:.2f}\".format(mem_usage_bytes * 1e-6))\n",
    "print(\"Mem usage [Gb]: {:.2f}\".format(mem_usage_bytes * 1e-9))# Calculate Stuff"
   ]
  },
  {
   "cell_type": "markdown",
   "id": "5ded3d68",
   "metadata": {},
   "source": [
    "# Generate Config File\n",
    "Used to generate the dataset"
   ]
  },
  {
   "cell_type": "code",
   "execution_count": null,
   "id": "1c704845",
   "metadata": {},
   "outputs": [],
   "source": [
    "# create copy of template dict\n",
    "config = {}\n",
    "config['n_bg'] = n_bg\n",
    "config['bg_style'] = bg_style\n",
    "config['shapes'] = shape_names\n",
    "config[\"n_scales\"] = n_scales\n",
    "config[\"n_angles\"] = n_angles\n",
    "config[\"n_colors\"] = n_colors\n",
    "config[\"n_positions\"] = n_positions\n",
    "config[\"img_size\"] = img_size\n",
    "config[\"n_train\"] = n_train\n",
    "config[\"n_valid\"] = n_valid\n",
    "config[\"subset\"] = generate_subset\n",
    "config[\"target_bbox\"] = target_bbox\n",
    "config[\"target_segm\"] = target_segm\n",
    "config[\"min_mask_fill_rate\"] = min_mask_fill_rate\n",
    "config[\"max_mask_fill_rate\"] = max_mask_fill_rate\n",
    "\n",
    "pprint.pprint(config)"
   ]
  },
  {
   "cell_type": "markdown",
   "id": "271acfe9",
   "metadata": {},
   "source": [
    "### Save or Send config"
   ]
  },
  {
   "cell_type": "code",
   "execution_count": null,
   "id": "39fe5da2",
   "metadata": {},
   "outputs": [],
   "source": [
    "p_data = Path(\"data\")\n",
    "p_config_tmp = p_data / \"config.pkl\"\n",
    "with open(p_config_tmp, \"wb\") as file:\n",
    "    pkl.dump(config, file)"
   ]
  },
  {
   "cell_type": "code",
   "execution_count": null,
   "id": "78752e7a",
   "metadata": {},
   "outputs": [],
   "source": []
  }
 ],
 "metadata": {
  "kernelspec": {
   "display_name": "Python 3 (ipykernel)",
   "language": "python",
   "name": "python3"
  },
  "language_info": {
   "codemirror_mode": {
    "name": "ipython",
    "version": 3
   },
   "file_extension": ".py",
   "mimetype": "text/x-python",
   "name": "python",
   "nbconvert_exporter": "python",
   "pygments_lexer": "ipython3",
   "version": "3.8.10"
  },
  "latex_envs": {
   "LaTeX_envs_menu_present": true,
   "autoclose": false,
   "autocomplete": true,
   "bibliofile": "biblio.bib",
   "cite_by": "apalike",
   "current_citInitial": 1,
   "eqLabelWithNumbers": true,
   "eqNumInitial": 1,
   "hotkeys": {
    "equation": "Ctrl-E",
    "itemize": "Ctrl-I"
   },
   "labels_anchors": false,
   "latex_user_defs": false,
   "report_style_numbering": false,
   "user_envs_cfg": false
  }
 },
 "nbformat": 4,
 "nbformat_minor": 5
}
