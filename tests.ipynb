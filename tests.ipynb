{
 "cells": [
  {
   "cell_type": "markdown",
   "metadata": {},
   "source": [
    "# Notes\n",
    "\n",
    "todo:\n",
    "- D adjust generator functions, such that mask dimensions is always %2 = 1\n",
    "- D make scale and rotations such that aspect ratio stays the same\n",
    "- D mask generator for shapes [square, pyramid, rectangle, moon, gelato, circle]\n",
    "\n",
    "Essential Features:\n",
    "- img size\n",
    "- dataset size\n",
    "- train | test split\n",
    "- get number of possible states + varyation indicator\n",
    "\n",
    "Parameters - Images:\n",
    "- blur and other transformation, e.g. sharpening,  sheer, crop, ect.\n",
    "- n shapes per image\n",
    "- position\n",
    "    - overlapping\n",
    "    - fixed -> number of positions\n",
    "    - random -> cut around objects to make more space available\n",
    "- backgrounds:\n",
    "    - fixed\n",
    "        - constant value\n",
    "        - random value\n",
    "        - something\n",
    "    - varying\n",
    "        - constant\n",
    "        - random\n",
    "        - functionally\n",
    "        - select something\n",
    "\n",
    "Shapes:\n",
    "- shapes (discrete) [1 - n_s]\n",
    "- colors\n",
    "    - discrete [1 - n_k]\n",
    "    - continous interpolation\n",
    "- angles\n",
    "    - discrete [1 - n_a]\n",
    "    - continous [0 - 360]\n",
    "- sizes\n",
    "    - discrete [1 - n_s]\n",
    "    - continous \n",
    "\n",
    "\n",
    "Feates Ideas:\n",
    "- Multiple shapes per image + allow overlappings\n",
    "- Compositionality\n",
    "- Graphical model to model the random variables and their interaction\n",
    "- Add more shapes and build object out of shapes\n",
    "- Min Shapes per image & Max shapes per image\n",
    "- specify what should be in the target variable\n",
    "\n",
    "\n",
    "Generation Process:\n",
    "- Fix img_size\n",
    "- Fix n_shapes\n",
    "- Fix angles\n",
    "- Determine & set the number of possible sizes\n",
    "- Determine & the number of possible positions"
   ]
  },
  {
   "cell_type": "code",
   "execution_count": null,
   "metadata": {},
   "outputs": [],
   "source": [
    "%load_ext autoreload\n",
    "%autoreload 2"
   ]
  },
  {
   "cell_type": "code",
   "execution_count": null,
   "metadata": {},
   "outputs": [],
   "source": [
    "# Python\n",
    "from pathlib import Path\n",
    "\n",
    "# Installed\n",
    "import numpy as np\n",
    "import matplotlib.pyplot as plt\n",
    "\n",
    "# Local\n",
    "from csprites.masks import *\n",
    "from csprites.angles import get_angles, apply_angle\n",
    "from csprites.utils import animate, plot_mask_series, get_max_dim, pad_mask\n",
    "from csprites.scales import get_shape_sizes_evenly_scaled\n",
    "from csprites.positions import get_max_positions, centered_position_idcs\n",
    "from csprites.colors import get_colors, apply_color\n",
    "from csprites.configs import be_config"
   ]
  },
  {
   "cell_type": "code",
   "execution_count": null,
   "metadata": {},
   "outputs": [],
   "source": [
    "p_data = Path(\"./data\")\n",
    "p_gifs = p_data / \"imgs\"\n",
    "p_gifs.mkdir(exist_ok=True, parents=True)"
   ]
  },
  {
   "cell_type": "markdown",
   "metadata": {},
   "source": [
    "# Test Shapes"
   ]
  },
  {
   "cell_type": "markdown",
   "metadata": {},
   "source": [
    "# Rectangle"
   ]
  },
  {
   "cell_type": "code",
   "execution_count": null,
   "metadata": {},
   "outputs": [],
   "source": [
    "mask = RectangleMask.create(RectangleMask.min_size)\n",
    "plt.imshow(mask, cmap=\"gray\")\n",
    "print(mask.shape)"
   ]
  },
  {
   "cell_type": "markdown",
   "metadata": {},
   "source": [
    "### Rotation"
   ]
  },
  {
   "cell_type": "code",
   "execution_count": null,
   "metadata": {},
   "outputs": [],
   "source": [
    "angles = get_angles(32)\n",
    "masks = [apply_angle(mask, angle) for angle in angles]\n",
    "#\n",
    "plot_mask_series(masks)\n",
    "#\n",
    "animate(masks, p_gifs / 'angles_rectangle.gif', 300)"
   ]
  },
  {
   "cell_type": "markdown",
   "metadata": {},
   "source": [
    "### Scaling"
   ]
  },
  {
   "cell_type": "code",
   "execution_count": null,
   "metadata": {},
   "outputs": [],
   "source": [
    "steps = 10\n",
    "widths = list(range(RectangleMask.min_size,RectangleMask.min_size + steps * 2, RectangleMask.min_step))\n",
    "masks = [RectangleMask.create(width) for width in widths]\n",
    "#\n",
    "d_max = get_max_dim(masks)\n",
    "masks = [pad_mask(mask, d_max) for mask in masks]\n",
    "#\n",
    "plot_mask_series(masks)\n",
    "#\n",
    "animate(masks, p_gifs / 'scale_rectangle.gif', 200)"
   ]
  },
  {
   "cell_type": "markdown",
   "metadata": {},
   "source": [
    "# Square"
   ]
  },
  {
   "cell_type": "markdown",
   "metadata": {},
   "source": [
    "### Rotation"
   ]
  },
  {
   "cell_type": "code",
   "execution_count": null,
   "metadata": {},
   "outputs": [],
   "source": [
    "mask = SquareMask.create(SquareMask.min_size)\n",
    "plt.imshow(mask, cmap=\"gray\")\n",
    "print(mask.shape)\n",
    "\n",
    "angles = get_angles(32)\n",
    "masks = [apply_angle(mask, angle) for angle in angles]\n",
    "#\n",
    "plot_mask_series(masks)\n",
    "#\n",
    "animate(masks, p_gifs / 'angles_square.gif', 300)"
   ]
  },
  {
   "cell_type": "markdown",
   "metadata": {},
   "source": [
    "### Scale"
   ]
  },
  {
   "cell_type": "code",
   "execution_count": null,
   "metadata": {},
   "outputs": [],
   "source": [
    "steps = 10\n",
    "widths = list(range(SquareMask.min_size, SquareMask.min_size + steps * 2, SquareMask.min_step))\n",
    "masks = [SquareMask.create(width) for width in widths]\n",
    "#\n",
    "d_max = get_max_dim(masks)\n",
    "masks = [pad_mask(mask, d_max) for mask in masks]\n",
    "#\n",
    "plot_mask_series(masks)\n",
    "#\n",
    "animate(masks,p_gifs / 'scale_square.gif', 200)"
   ]
  },
  {
   "cell_type": "markdown",
   "metadata": {},
   "source": [
    "# Circle"
   ]
  },
  {
   "cell_type": "code",
   "execution_count": null,
   "metadata": {},
   "outputs": [],
   "source": [
    "diameter = CircleMask.min_size\n",
    "mask = CircleMask.create(diameter)\n",
    "print(mask.shape)\n",
    "plt.imshow(mask, cmap=\"gray\")"
   ]
  },
  {
   "cell_type": "markdown",
   "metadata": {},
   "source": [
    "### Rotation"
   ]
  },
  {
   "cell_type": "code",
   "execution_count": null,
   "metadata": {},
   "outputs": [],
   "source": [
    "angles = get_angles(32)\n",
    "masks = [apply_angle(mask, angle) for angle in angles]\n",
    "\n",
    "plot_mask_series(masks)\n",
    "\n",
    "animate(masks, p_gifs / 'angles_circle.gif', 300)"
   ]
  },
  {
   "cell_type": "markdown",
   "metadata": {},
   "source": [
    "### Scale"
   ]
  },
  {
   "cell_type": "code",
   "execution_count": null,
   "metadata": {},
   "outputs": [],
   "source": [
    "steps = 10\n",
    "diameters = list(range(CircleMask.min_size, CircleMask.min_size + steps * 2, CircleMask.min_step))\n",
    "masks = [CircleMask.create(diameter) for diameter in diameters]\n",
    "\n",
    "d_max = get_max_dim(masks)\n",
    "masks = [pad_mask(mask, d_max) for mask in masks]\n",
    "\n",
    "plot_mask_series(masks)\n",
    "\n",
    "animate(masks, p_gifs / 'scale_circle.gif', 200)"
   ]
  },
  {
   "cell_type": "markdown",
   "metadata": {},
   "source": [
    "# Ellipse"
   ]
  },
  {
   "cell_type": "code",
   "execution_count": null,
   "metadata": {},
   "outputs": [],
   "source": [
    "diameter = EllipseMask.min_size\n",
    "mask = EllipseMask.create(diameter)\n",
    "print(mask.shape)\n",
    "plt.imshow(mask, cmap=\"gray\")"
   ]
  },
  {
   "cell_type": "markdown",
   "metadata": {},
   "source": [
    "### Rotation"
   ]
  },
  {
   "cell_type": "code",
   "execution_count": null,
   "metadata": {},
   "outputs": [],
   "source": [
    "angles = get_angles(32)\n",
    "masks = [apply_angle(mask, angle) for angle in angles]\n",
    "\n",
    "plot_mask_series(masks)\n",
    "\n",
    "animate(masks, p_gifs / 'angles_ellipse.gif', 300)"
   ]
  },
  {
   "cell_type": "markdown",
   "metadata": {},
   "source": [
    "### Scale"
   ]
  },
  {
   "cell_type": "code",
   "execution_count": null,
   "metadata": {},
   "outputs": [],
   "source": [
    "steps = 10\n",
    "diameters = list(range(EllipseMask.min_size, EllipseMask.min_size +  2 * steps, EllipseMask.min_step))\n",
    "masks = [EllipseMask.create(diameter) for diameter in diameters]\n",
    "\n",
    "d_max = get_max_dim(masks)\n",
    "masks = [pad_mask(mask, d_max) for mask in masks]\n",
    "\n",
    "plot_mask_series(masks)\n",
    "\n",
    "animate(masks, p_gifs / 'scale_ellipse.gif', 300)"
   ]
  },
  {
   "cell_type": "markdown",
   "metadata": {},
   "source": [
    "# MOON"
   ]
  },
  {
   "cell_type": "code",
   "execution_count": null,
   "metadata": {},
   "outputs": [],
   "source": [
    "radius = MoonMask.min_size\n",
    "mask = MoonMask.create(radius)\n",
    "plt.imshow(mask, cmap=\"gray\")\n",
    "print(mask.shape)"
   ]
  },
  {
   "cell_type": "markdown",
   "metadata": {},
   "source": [
    "### Rotation"
   ]
  },
  {
   "cell_type": "code",
   "execution_count": null,
   "metadata": {},
   "outputs": [],
   "source": [
    "angles = get_angles(32)\n",
    "masks = [apply_angle(mask, angle) for angle in angles]\n",
    "#\n",
    "plot_mask_series(masks)\n",
    "#\n",
    "animate(masks, p_gifs / 'angles_moon.gif', 300)"
   ]
  },
  {
   "cell_type": "markdown",
   "metadata": {},
   "source": [
    "### Scale"
   ]
  },
  {
   "cell_type": "code",
   "execution_count": null,
   "metadata": {},
   "outputs": [],
   "source": [
    "steps = 10\n",
    "diameters = list(range(MoonMask.min_size, MoonMask.min_size + steps * 2, MoonMask.min_step))\n",
    "masks = [MoonMask.create(diameter) for diameter in diameters]\n",
    "\n",
    "d_max = get_max_dim(masks)\n",
    "masks = [pad_mask(mask, d_max) for mask in masks]\n",
    "\n",
    "plot_mask_series(masks)\n",
    "\n",
    "animate(masks, p_gifs / 'scale_moon.gif', 200)"
   ]
  },
  {
   "cell_type": "markdown",
   "metadata": {},
   "source": [
    "# Gelato"
   ]
  },
  {
   "cell_type": "code",
   "execution_count": null,
   "metadata": {},
   "outputs": [],
   "source": [
    "diameter = GelatoMask.min_size\n",
    "mask = GelatoMask.create(diameter)\n",
    "\n",
    "plt.imshow(mask, cmap=\"gray\")\n",
    "#\n",
    "print(mask.shape)"
   ]
  },
  {
   "cell_type": "markdown",
   "metadata": {},
   "source": [
    "### Rotation\n"
   ]
  },
  {
   "cell_type": "code",
   "execution_count": null,
   "metadata": {},
   "outputs": [],
   "source": [
    "angles = get_angles(32)\n",
    "masks = [apply_angle(mask, angle) for angle in angles]\n",
    "#\n",
    "plot_mask_series(masks)\n",
    "#\n",
    "animate(masks, p_gifs / 'angles_gelato.gif', 300)"
   ]
  },
  {
   "cell_type": "markdown",
   "metadata": {},
   "source": [
    "### Scale"
   ]
  },
  {
   "cell_type": "code",
   "execution_count": null,
   "metadata": {},
   "outputs": [],
   "source": [
    "steps = 10\n",
    "diameters = list(range(GelatoMask.min_size, GelatoMask.min_size + steps * 2, GelatoMask.min_step))\n",
    "masks = [GelatoMask.create(diameter) for diameter in diameters]\n",
    "\n",
    "d_max = get_max_dim(masks)\n",
    "masks = [pad_mask(mask, d_max) for mask in masks]\n",
    "\n",
    "plot_mask_series(masks)\n",
    "\n",
    "animate(masks, p_gifs / 'scale_gelato.gif', 300)"
   ]
  },
  {
   "cell_type": "markdown",
   "metadata": {},
   "source": [
    "# Pyramid"
   ]
  },
  {
   "cell_type": "code",
   "execution_count": null,
   "metadata": {},
   "outputs": [],
   "source": [
    "height = PyramidMask.min_size\n",
    "mask = PyramidMask.create(height)\n",
    "print(mask.shape)\n",
    "plt.imshow(mask, cmap=\"gray\")"
   ]
  },
  {
   "cell_type": "markdown",
   "metadata": {},
   "source": [
    "### Rotation"
   ]
  },
  {
   "cell_type": "code",
   "execution_count": null,
   "metadata": {},
   "outputs": [],
   "source": [
    "angles = get_angles(32)\n",
    "masks = [apply_angle(mask, angle) for angle in angles]\n",
    "#\n",
    "plot_mask_series(masks)\n",
    "#\n",
    "animate(masks, p_gifs / 'angles_pyramid.gif', 300)"
   ]
  },
  {
   "cell_type": "markdown",
   "metadata": {},
   "source": [
    "### Scale"
   ]
  },
  {
   "cell_type": "code",
   "execution_count": null,
   "metadata": {},
   "outputs": [],
   "source": [
    "steps = 10\n",
    "heights = list(range(PyramidMask.min_size, PyramidMask.min_size + steps * 2, PyramidMask.min_step))\n",
    "masks = [PyramidMask.create(heigth) for heigth in heights]\n",
    "\n",
    "d_max = get_max_dim(masks)\n",
    "masks = [pad_mask(mask, d_max) for mask in masks]\n",
    "\n",
    "plot_mask_series(masks)\n",
    "\n",
    "animate(masks, p_gifs / 'scale_pyramid.gif', 300)"
   ]
  },
  {
   "cell_type": "markdown",
   "metadata": {},
   "source": [
    "# Shape sizes"
   ]
  },
  {
   "cell_type": "code",
   "execution_count": null,
   "metadata": {},
   "outputs": [],
   "source": [
    "img_size = 64\n",
    "\n",
    "# Fill rates\n",
    "min_mask_fill_rate = 0.1\n",
    "max_mask_fill_rate = 0.8\n",
    "\n",
    "# shape_sizes\n",
    "min_mask_area = img_size** 2 * min_mask_fill_rate\n",
    "max_mask_area = img_size** 2 * max_mask_fill_rate\n",
    "\n",
    "# shapes\n",
    "shapes = [RectangleMask, SquareMask, CircleMask, GelatoMask, PyramidMask, EllipseMask, MoonMask]"
   ]
  },
  {
   "cell_type": "code",
   "execution_count": null,
   "metadata": {},
   "outputs": [],
   "source": [
    "shape_sizes, max_mask_size = get_shape_sizes_evenly_scaled(shapes, min_mask_area, max_mask_area)"
   ]
  },
  {
   "cell_type": "code",
   "execution_count": null,
   "metadata": {},
   "outputs": [],
   "source": [
    "shape_sizes"
   ]
  },
  {
   "cell_type": "code",
   "execution_count": null,
   "metadata": {},
   "outputs": [],
   "source": [
    "# Generate Masks\n",
    "masks = []\n",
    "for shape in shape_sizes.keys():\n",
    "    shape_masks = []\n",
    "    for size in shape_sizes[shape]:\n",
    "        mask = shape.create(size)\n",
    "        shape_masks.append(mask)\n",
    "    masks.append(shape_masks)"
   ]
  },
  {
   "cell_type": "code",
   "execution_count": null,
   "metadata": {},
   "outputs": [],
   "source": [
    "# Plot Masks\n",
    "n_cols = len(masks)\n",
    "n_rows = len(masks[0])\n",
    "#\n",
    "img = np.zeros((n_rows * max_mask_size, n_cols * max_mask_size))\n",
    "\n",
    "for row_idx in range(n_rows):\n",
    "    for col_idx in range(n_cols):\n",
    "        y_from = row_idx * max_mask_size\n",
    "        y_to = y_from + max_mask_size\n",
    "        x_from = col_idx * max_mask_size\n",
    "        x_to = x_from + max_mask_size\n",
    "        #\n",
    "        mask = pad_mask(masks[col_idx][row_idx], max_mask_size)\n",
    "        img[y_from:y_to, x_from:x_to] = mask"
   ]
  },
  {
   "cell_type": "code",
   "execution_count": null,
   "metadata": {},
   "outputs": [],
   "source": [
    "plt.figure(figsize=(n_cols, n_rows))\n",
    "plt.imshow(img, cmap=\"gray\")"
   ]
  },
  {
   "cell_type": "markdown",
   "metadata": {},
   "source": [
    "# Positions"
   ]
  },
  {
   "cell_type": "code",
   "execution_count": null,
   "metadata": {},
   "outputs": [],
   "source": [
    "img_size = 64\n",
    "mask = GelatoMask.create(9)\n",
    "#\n",
    "max_mask_size = mask.shape[0]\n",
    "print(\"Mask Size:     {}\".format(max_mask_size))\n",
    "#\n",
    "n_positions_max = get_max_positions(img_size, max_mask_size)\n",
    "print(\"Max positions: {}\".format(n_positions_max))"
   ]
  },
  {
   "cell_type": "code",
   "execution_count": null,
   "metadata": {
    "scrolled": false
   },
   "outputs": [],
   "source": [
    "#for n_positions in range(1, 12gif + 1, 1):\n",
    "for n_positions in [1, 2, 4, 8, 16]:\n",
    "    positions = centered_position_idcs(n_positions, n_positions_max, max_mask_size)\n",
    "    print(n_positions, positions)\n",
    "    img = np.zeros((img_size, img_size), dtype=np.uint8)\n",
    "    for px in positions:\n",
    "        for py in positions:\n",
    "            img[py:py+1, px: px+1] = 1\n",
    "    plt.imshow(img, cmap=\"gray\")\n",
    "    plt.savefig(p_gifs / \"positions_{}.png\".format(n_positions))\n",
    "    plt.tight_layout()\n",
    "    plt.show()"
   ]
  },
  {
   "cell_type": "code",
   "execution_count": null,
   "metadata": {},
   "outputs": [],
   "source": [
    "img_size = 64\n",
    "mask = GelatoMask.create(9)\n",
    "max_mask_size = mask.shape[0]\n",
    "print(\"Mask Size:     {}\".formgifat(max_mask_size))\n",
    "#\n",
    "n_positions_max = get_max_positions(img_size, max_mask_size)\n",
    "print(\"Max positions: {}\".format(n_positions_max))\n",
    "\n",
    "n_positions = 8\n",
    "positions = centered_position_idcs(n_positions, n_positions_max, max_mask_size)\n",
    "#\n",
    "all_positions = [1, 2, 4, 8, 16]\n",
    "#\n",
    "for n_positions in all_positions:\n",
    "    positions = centered_position_idcs(n_positions, n_positions_max, max_mask_size)\n",
    "    imgs = []\n",
    "    for idx, px in enumerate(positions):\n",
    "        if idx % 2 == 0:\n",
    "            py_positions = positions[::]\n",
    "        else:\n",
    "            py_positions = positions[::-1]\n",
    "        for py in py_positions:\n",
    "            img = np.zeros((img_size, img_size), dtype=np.uint8)\n",
    "            #\n",
    "            h_mask, w_mask = mask.shape\n",
    "            #\n",
    "            x0 = px - w_mask // 2\n",
    "            x1 = px + w_mask // 2 + 1\n",
    "            #\n",
    "            y0 = py - h_mask // 2\n",
    "            y1 = py + h_mask // 2 + 1\n",
    "            #\n",
    "            img[y0: y1, x0: x1][mask > 0] = mask[mask > 0]\n",
    "            imgs.append(img)\n",
    "    rate = all_positions[-1] * 100 / n_positions\n",
    "    animate(imgs, p_gifs / \"positions_{}_mask.gif\".format(n_positions), rate)"
   ]
  },
  {
   "cell_type": "markdown",
   "metadata": {},
   "source": [
    "# Colors"
   ]
  },
  {
   "cell_type": "code",
   "execution_count": null,
   "metadata": {},
   "outputs": [],
   "source": [
    "n_colors = 32\n",
    "#\n",
    "mask = EllipseMask.create(11)\n",
    "colors = get_colors(n_colors)"
   ]
  },
  {
   "cell_type": "code",
   "execution_count": null,
   "metadata": {},
   "outputs": [],
   "source": [
    "for shape in SHAPES:\n",
    "    mask = shape.create(shape.min_size)\n",
    "    mask = pad_mask(mask, 21)\n",
    "    masks = [apply_color(mask, c) for c in colors]\n",
    "    animate(masks, p_gifs / \"colors_{}.gif\".format(shape.name), 100)"
   ]
  },
  {
   "cell_type": "markdown",
   "metadata": {},
   "source": [
    "# Backgrounds"
   ]
  },
  {
   "cell_type": "code",
   "execution_count": null,
   "metadata": {},
   "outputs": [],
   "source": [
    "from csprites.backgrounds import get_bg_func"
   ]
  },
  {
   "cell_type": "code",
   "execution_count": null,
   "metadata": {},
   "outputs": [],
   "source": [
    "bg_styles = be_config.bg_styles\n",
    "n_bgs = [1, 4, np.inf]\n",
    "n_samples = 4\n",
    "img_size = 32\n",
    "bg_shape = (img_size, img_size, 3)"
   ]
  },
  {
   "cell_type": "code",
   "execution_count": null,
   "metadata": {},
   "outputs": [],
   "source": [
    "for bg_style in bg_styles:\n",
    "    for n_bg in n_bgs:\n",
    "        p_bg = p_gifs / \"bg_{}_{}.gif\".format(bg_style, n_bg)\n",
    "        bg_func = get_bg_func(bg_shape, n_bg, bg_style)\n",
    "        bgs = [bg_func() for _ in range(n_samples)]\n",
    "        animate(bgs, p_bg, 200)"
   ]
  },
  {
   "cell_type": "markdown",
   "metadata": {},
   "source": [
    "# Positions debug"
   ]
  },
  {
   "cell_type": "code",
   "execution_count": null,
   "metadata": {},
   "outputs": [],
   "source": [
    "from csprites.positions import centered_corner_position_idcs, centered_position_idcs, get_max_positions, get_position_idcs_from_center"
   ]
  },
  {
   "cell_type": "code",
   "execution_count": null,
   "metadata": {},
   "outputs": [],
   "source": [
    "img_size = 32\n",
    "mask = GelatoMask.create(9)\n",
    "#\n",
    "max_mask_size = mask.shape[0]\n",
    "print(\"Mask Size:     {}\".format(max_mask_size))\n",
    "#\n",
    "n_positions_max = get_max_positions(img_size, max_mask_size)\n",
    "print(\"Max positions: {}\".format(n_positions_max))\n",
    "#\n",
    "img = np.zeros((img_size, img_size))"
   ]
  },
  {
   "cell_type": "code",
   "execution_count": null,
   "metadata": {},
   "outputs": [],
   "source": [
    "ps_corners = centered_corner_position_idcs(n_positions, n_positions_max)\n",
    "ps_centers = centered_position_idcs(n_positions, n_positions_max, max_mask_size)"
   ]
  },
  {
   "cell_type": "code",
   "execution_count": null,
   "metadata": {},
   "outputs": [],
   "source": [
    "for ps in ps_corners:\n",
    "    shape = img[ps: ps + max_mask_size,ps:ps + max_mask_size].shape\n",
    "    print(\"{:2}-{:2}: {}\".format(ps, ps + max_mask_size, shape))\n",
    "    "
   ]
  },
  {
   "cell_type": "code",
   "execution_count": null,
   "metadata": {},
   "outputs": [],
   "source": [
    "for p in ps_corners:\n",
    "    print(p, img[p: p+d_mask, p:p+d_mask].shape, p, p+d_mask)"
   ]
  },
  {
   "cell_type": "code",
   "execution_count": null,
   "metadata": {},
   "outputs": [],
   "source": [
    "for p in ps_centers:\n",
    "    x0, y0, x1, y1 = get_position_idcs_from_center(d_mask, d_mask, p, p)\n",
    "    shape = img[y0: y1,x0:x1].shape\n",
    "    print(p, shape, x0, x1)"
   ]
  }
 ],
 "metadata": {
  "kernelspec": {
   "display_name": "Python 3 (ipykernel)",
   "language": "python",
   "name": "python3"
  },
  "language_info": {
   "codemirror_mode": {
    "name": "ipython",
    "version": 3
   },
   "file_extension": ".py",
   "mimetype": "text/x-python",
   "name": "python",
   "nbconvert_exporter": "python",
   "pygments_lexer": "ipython3",
   "version": "3.8.10"
  },
  "latex_envs": {
   "LaTeX_envs_menu_present": true,
   "autoclose": false,
   "autocomplete": true,
   "bibliofile": "biblio.bib",
   "cite_by": "apalike",
   "current_citInitial": 1,
   "eqLabelWithNumbers": true,
   "eqNumInitial": 1,
   "hotkeys": {
    "equation": "Ctrl-E",
    "itemize": "Ctrl-I"
   },
   "labels_anchors": false,
   "latex_user_defs": false,
   "report_style_numbering": false,
   "user_envs_cfg": false
  }
 },
 "nbformat": 4,
 "nbformat_minor": 4
}
