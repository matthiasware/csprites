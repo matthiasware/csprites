{
 "cells": [
  {
   "cell_type": "code",
   "execution_count": null,
   "id": "7154ed97",
   "metadata": {},
   "outputs": [],
   "source": [
    "import random\n",
    "from itertools import cycle\n",
    "#\n",
    "import numpy as np\n",
    "import matplotlib.pyplot as plt\n",
    "import torchvision.transforms as T\n",
    "from PIL import Image\n",
    "\n",
    "# Local\n",
    "from csprites.backgrounds import rand_function_img\n",
    "from csprites.configs import be_config\n",
    "from csprites.masks import get_shapes\n",
    "from csprites.colors import get_colors, apply_color\n",
    "from csprites.scales import get_shape_sizes_evenly_scaled\n",
    "from csprites.angles import get_angles, apply_angle\n",
    "from csprites.positions import get_max_positions, centered_position_idcs, get_position_idcs_from_center\n",
    "from csprites.backgrounds import get_bg_func\n",
    "from csprites.utils import MeanStdTracker, shape_sizes_to_html, masks_to_html_animation"
   ]
  },
  {
   "cell_type": "code",
   "execution_count": null,
   "id": "13d66aa4",
   "metadata": {},
   "outputs": [],
   "source": [
    "n_imgs = 4\n",
    "d_img = 32\n",
    "\n",
    "#\n",
    "X = np.zeros((n_imgs * d_img, n_imgs * d_img, 3), dtype=np.uint8)\n",
    "for py in range(n_imgs):\n",
    "    for px in range(n_imgs):\n",
    "        x = rand_function_img((d_img, d_img, 3), n_min=2, n_max=10)\n",
    "        #\n",
    "        py_start = py * d_img\n",
    "        py_end = py * d_img + d_img\n",
    "        px_start =  px * d_img\n",
    "        px_end = px * d_img + d_img\n",
    "        #\n",
    "        X[py_start: py_end,\n",
    "          px_start: px_end] = x\n",
    "plt.figure(figsize=(20, 20))\n",
    "plt.imshow(X)\n",
    "print(X.mean())"
   ]
  },
  {
   "cell_type": "code",
   "execution_count": null,
   "id": "bb89c828",
   "metadata": {},
   "outputs": [],
   "source": [
    "# parameters\n",
    "shape_names = be_config.all_shape_names\n",
    "print(shape_names)"
   ]
  },
  {
   "cell_type": "code",
   "execution_count": null,
   "id": "862cd134",
   "metadata": {},
   "outputs": [],
   "source": [
    "img_size = 32\n",
    "n_colors = 2\n",
    "n_samples = 100\n",
    "shape_names = [\"rectangle\", 'circle']"
   ]
  },
  {
   "cell_type": "code",
   "execution_count": null,
   "id": "ccfbf6f5",
   "metadata": {},
   "outputs": [],
   "source": [
    "colors = get_colors(n_colors)[1:]"
   ]
  },
  {
   "cell_type": "code",
   "execution_count": null,
   "id": "2aa90706",
   "metadata": {},
   "outputs": [],
   "source": [
    "colors"
   ]
  },
  {
   "cell_type": "code",
   "execution_count": null,
   "id": "8209499a",
   "metadata": {},
   "outputs": [],
   "source": [
    "shapes = get_shapes(shape_names)"
   ]
  },
  {
   "cell_type": "code",
   "execution_count": null,
   "id": "1d39a45d",
   "metadata": {},
   "outputs": [],
   "source": [
    "plt.imshow(shapes[0].create(7))"
   ]
  },
  {
   "cell_type": "code",
   "execution_count": null,
   "id": "858c86df",
   "metadata": {},
   "outputs": [],
   "source": [
    "plt.imshow(shapes[1].create(11))"
   ]
  },
  {
   "cell_type": "code",
   "execution_count": null,
   "id": "c5a4e680",
   "metadata": {},
   "outputs": [],
   "source": [
    "mask = shapes[0].create(7)\n",
    "\n",
    "bg_img = rand_function_img((d_img, d_img, 3), n_min=2, n_max=10)\n",
    "fg_img = rand_function_img((d_img, d_img, 3), n_min=2, n_max=10)\n",
    "#\n",
    "fg_start_x = np.random.randint(0, fg_img.shape[0] - mask.shape[0])\n",
    "fg_start_y = np.random.randint(0, fg_img.shape[1] - mask.shape[1])\n",
    "#\n",
    "h = fg_img[fg_start_x:fg_start_x + mask.shape[0],fg_start_y:fg_start_y + mask.shape[1]:,:] * np.expand_dims(mask,2)\n",
    "#\n",
    "bg_img[2:2 + mask.shape[0], 1:1+mask.shape[1],:][mask > 0] = h[mask > 0]\n",
    "#\n",
    "plt.imshow(bg_img)"
   ]
  },
  {
   "cell_type": "code",
   "execution_count": null,
   "id": "1d79439b",
   "metadata": {},
   "outputs": [],
   "source": [
    "def create_sample(shape, size, d_img, px, py):\n",
    "    mask = shape.create(7)\n",
    "\n",
    "    bg_img = rand_function_img((d_img, d_img, 3), n_min=2, n_max=10)\n",
    "    fg_img = rand_function_img((d_img, d_img, 3), n_min=2, n_max=10)\n",
    "    #\n",
    "    fg_start_x = np.random.randint(0, fg_img.shape[0] - mask.shape[0])\n",
    "    fg_start_y = np.random.randint(0, fg_img.shape[1] - mask.shape[1])\n",
    "    #\n",
    "    h = fg_img[fg_start_x:fg_start_x + mask.shape[0],fg_start_y:fg_start_y + mask.shape[1]:,:] * np.expand_dims(mask,2)\n",
    "    #\n",
    "    bg_img[py:py + mask.shape[0], px:px+mask.shape[1],:][mask > 0] = h[mask > 0]\n",
    "    return bg_img"
   ]
  },
  {
   "cell_type": "code",
   "execution_count": null,
   "id": "ef7900a5",
   "metadata": {},
   "outputs": [],
   "source": [
    "mask = shapes[1].create(11)\n",
    "\n",
    "bg_img = rand_function_img((d_img, d_img, 3), n_min=2, n_max=10)\n",
    "fg_img = rand_function_img((d_img, d_img, 3), n_min=2, n_max=10)\n",
    "#\n",
    "#plt.imshow(bg_img)\n",
    "#plt.show()\n",
    "#plt.imshow(fg_img)\n",
    "#plt.show()\n",
    "#\n",
    "fg_start_x = np.random.randint(0, fg_img.shape[0] - mask.shape[0])\n",
    "fg_start_y = np.random.randint(0, fg_img.shape[1] - mask.shape[1])\n",
    "#\n",
    "h = fg_img[fg_start_x:fg_start_x + mask.shape[0],fg_start_y:fg_start_y + mask.shape[1]:,:] * np.expand_dims(mask,2)\n",
    "#\n",
    "bg_img[14:14 + mask.shape[0], 17X.shape:17+mask.shape[1],:][mask > 0] = h[mask > 0]\n",
    "#\n",
    "plt.imshow(bg_img)"
   ]
  },
  {
   "cell_type": "code",
   "execution_count": null,
   "id": "3794e866",
   "metadata": {},
   "outputs": [],
   "source": [
    "X = []\n",
    "Y = []\n",
    "#\n",
    "n_samples = 10\n",
    "#\n",
    "for idx, (shape, size, py, px) in enumerate([(shapes[0],7, 2, 1), (shapes[1], 11, 14, 17)]):\n",
    "    for _ in range(n_samples // 2):\n",
    "        x = create_sample(shape, size, d_img, px, py)\n",
    "        X.append(x)\n",
    "        Y.append(idx)"
   ]
  },
  {
   "cell_type": "code",
   "execution_count": null,
   "id": "92a70896",
   "metadata": {},
   "outputs": [],
   "source": [
    "X = np.array(X)\n",
    "Y = np.array(Y)"
   ]
  },
  {
   "cell_type": "code",
   "execution_count": null,
   "id": "b8df073b",
   "metadata": {
    "scrolled": false
   },
   "outputs": [],
   "source": [
    "for x in X:\n",
    "    plt.imshow(x)\n",
    "    plt.show()"
   ]
  },
  {
   "cell_type": "code",
   "execution_count": null,
   "id": "9aa9c6e3",
   "metadata": {},
   "outputs": [],
   "source": []
  }
 ],
 "metadata": {
  "kernelspec": {
   "display_name": "Python 3 (ipykernel)",
   "language": "python",
   "name": "python3"
  },
  "language_info": {
   "codemirror_mode": {
    "name": "ipython",
    "version": 3
   },
   "file_extension": ".py",
   "mimetype": "text/x-python",
   "name": "python",
   "nbconvert_exporter": "python",
   "pygments_lexer": "ipython3",
   "version": "3.8.10"
  },
  "latex_envs": {
   "LaTeX_envs_menu_present": true,
   "autoclose": false,
   "autocomplete": true,
   "bibliofile": "biblio.bib",
   "cite_by": "apalike",
   "current_citInitial": 1,
   "eqLabelWithNumbers": true,
   "eqNumInitial": 1,
   "hotkeys": {
    "equation": "Ctrl-E",
    "itemize": "Ctrl-I"
   },
   "labels_anchors": false,
   "latex_user_defs": false,
   "report_style_numbering": false,
   "user_envs_cfg": false
  }
 },
 "nbformat": 4,
 "nbformat_minor": 5
}
